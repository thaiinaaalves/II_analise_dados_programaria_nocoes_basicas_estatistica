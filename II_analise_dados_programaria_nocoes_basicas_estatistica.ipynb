{
  "nbformat": 4,
  "nbformat_minor": 0,
  "metadata": {
    "colab": {
      "provenance": [],
      "authorship_tag": "ABX9TyMcbVpjDS4xhoxEafeT7Q/w",
      "include_colab_link": true
    },
    "kernelspec": {
      "name": "python3",
      "display_name": "Python 3"
    },
    "language_info": {
      "name": "python"
    }
  },
  "cells": [
    {
      "cell_type": "markdown",
      "metadata": {
        "id": "view-in-github",
        "colab_type": "text"
      },
      "source": [
        "<a href=\"https://colab.research.google.com/github/thaiinaaalves/II_analise_dados_programaria_nocoes_basicas_estatistica/blob/main/II_analise_dados_programaria_nocoes_basicas_estatistica.ipynb\" target=\"_parent\"><img src=\"https://colab.research.google.com/assets/colab-badge.svg\" alt=\"Open In Colab\"/></a>"
      ]
    },
    {
      "cell_type": "markdown",
      "source": [
        "nocoes_basicas_estatistica_outliers_distribuicao_amostral_intervalo_confianca_featuring_engineering"
      ],
      "metadata": {
        "id": "PSihnzgnomyK"
      }
    },
    {
      "cell_type": "code",
      "execution_count": null,
      "metadata": {
        "colab": {
          "base_uri": "https://localhost:8080/"
        },
        "id": "3DOvrtbUx4vK",
        "outputId": "6c75227b-2c14-4225-a85e-328884a79b70"
      },
      "outputs": [
        {
          "output_type": "stream",
          "name": "stdout",
          "text": [
            "Mounted at /content/drive\n"
          ]
        }
      ],
      "source": [
        "#configurando o códiigo para acessar a base de dados pelo drive, e instalando os pacotes necessários\n",
        "from google.colab import drive\n",
        "drive.mount('/content/drive')\n",
        "from scipy.stats import chi2_contingency\n",
        "import pandas as pd\n",
        "import numpy as np\n",
        "import matplotlib.pyplot as plt"
      ]
    },
    {
      "cell_type": "code",
      "source": [
        "df=pd.read_excel(\"/content/drive/MyDrive/Currículo/planilha_modulo3 (1).xlsx\")"
      ],
      "metadata": {
        "id": "ijx6Ck9ux_fF"
      },
      "execution_count": null,
      "outputs": []
    },
    {
      "cell_type": "code",
      "source": [
        "df"
      ],
      "metadata": {
        "colab": {
          "base_uri": "https://localhost:8080/",
          "height": 1000
        },
        "id": "wRLzmwMeyCqp",
        "outputId": "6241031e-a231-4569-d40c-5d60655de43b"
      },
      "execution_count": null,
      "outputs": [
        {
          "output_type": "execute_result",
          "data": {
            "text/plain": [
              "      Unnamed: 0                                ID  IDADE FAIXA IDADE  \\\n",
              "0              0  zzqzz3l9ily8nuo2m7wyzzqzz3w48o96   39.0       35-39   \n",
              "1              1  zzls2oftfn9law393oezzls2ofhvfpzd   32.0       30-34   \n",
              "2              2  zzdwqzfqqp1ypc7ps6m0hzzdwqz292yi   53.0       50-54   \n",
              "3              3  zzbqh3uy7yk7k9qmkzzbqtb4s9faqspl   27.0       25-29   \n",
              "4              4  zzaf1m95yan929rb94wzzaf1mekhvhpg   46.0       45-49   \n",
              "...          ...                               ...    ...         ...   \n",
              "4266        4266  01jnrn9f6va0menfhk2ztm01jnrn96bp   26.0       25-29   \n",
              "4267        4267  01dyfxam4u4bi29fem01dyfxaq9akvqp   30.0       30-34   \n",
              "4268        4268  00zw9ks9d40z4u00zz3d20iix65qpli3   29.0       25-29   \n",
              "4269        4269  00xu7yujd7s57emj00xu7y0c3njix3de    NaN       17-21   \n",
              "4270        4270  00lb35llmdsidpa00lb35qcdysnzvhv7   24.0       22-24   \n",
              "\n",
              "         GENERO COR/RACA/ETNIA  PCD  \\\n",
              "0     Masculino          Parda  Não   \n",
              "1     Masculino          Parda  Não   \n",
              "2     Masculino         Branca  Não   \n",
              "3     Masculino         Branca  Não   \n",
              "4      Feminino         Branca  Não   \n",
              "...         ...            ...  ...   \n",
              "4266  Masculino         Branca  Não   \n",
              "4267   Feminino         Branca  Não   \n",
              "4268  Masculino         Branca  Não   \n",
              "4269  Masculino         Branca  Não   \n",
              "4270  Masculino         Branca  Não   \n",
              "\n",
              "                   EXPERIENCIA_PROFISSIONAL_PREJUDICADA  \\\n",
              "0     Não acredito que minha experiência profissiona...   \n",
              "1     Sim, acredito que a minha a experiência profis...   \n",
              "2                                                   NaN   \n",
              "3                                                   NaN   \n",
              "4     Não acredito que minha experiência profissiona...   \n",
              "...                                                 ...   \n",
              "4266                                                NaN   \n",
              "4267  Não acredito que minha experiência profissiona...   \n",
              "4268                                                NaN   \n",
              "4269                                                NaN   \n",
              "4270                                                NaN   \n",
              "\n",
              "                             ASPECTOS_PREJUDICADOS  VIVE_NO_BRASIL  ...  \\\n",
              "0                                              NaN            True  ...   \n",
              "1     Aprovação em processos seletivos/entrevistas            True  ...   \n",
              "2                                              NaN            True  ...   \n",
              "3                                              NaN            True  ...   \n",
              "4                                              NaN            True  ...   \n",
              "...                                            ...             ...  ...   \n",
              "4266                                           NaN            True  ...   \n",
              "4267                                           NaN            True  ...   \n",
              "4268                                           NaN            True  ...   \n",
              "4269                                           NaN            True  ...   \n",
              "4270                                           NaN            True  ...   \n",
              "\n",
              "                                    SETOR NUMERO DE FUNCIONARIOS GESTOR?  \\\n",
              "0                           Setor Público         Acima de 3.000     0.0   \n",
              "1                             Outra Opção         Acima de 3.000     1.0   \n",
              "2                      Finanças ou Bancos         Acima de 3.000     0.0   \n",
              "3                        Setor Automotivo         Acima de 3.000     0.0   \n",
              "4                           Setor Público           de 101 a 500     0.0   \n",
              "...                                   ...                    ...     ...   \n",
              "4266       Tecnologia/Fábrica de Software         Acima de 3.000     0.0   \n",
              "4267                  Área de Consultoria            de 51 a 100     0.0   \n",
              "4268  Setor Imobiliário/ Construção Civil           de 101 a 500     1.0   \n",
              "4269                            Indústria       de 1.001 a 3.000     0.0   \n",
              "4270                         Agronegócios         de 501 a 1.000     0.0   \n",
              "\n",
              "           CARGO COMO GESTOR  \\\n",
              "0                        NaN   \n",
              "1     Supervisor/Coordenador   \n",
              "2                        NaN   \n",
              "3                        NaN   \n",
              "4                        NaN   \n",
              "...                      ...   \n",
              "4266                     NaN   \n",
              "4267                     NaN   \n",
              "4268            Gerente/Head   \n",
              "4269                     NaN   \n",
              "4270                     NaN   \n",
              "\n",
              "                                            CARGO ATUAL   NIVEL  \\\n",
              "0                   DBA/Administrador de Banco de Dados  Júnior   \n",
              "1                                                   NaN     NaN   \n",
              "2     Desenvolvedor/ Engenheiro de Software/ Analist...   Pleno   \n",
              "3                     Cientista de Dados/Data Scientist  Sênior   \n",
              "4     Desenvolvedor/ Engenheiro de Software/ Analist...   Pleno   \n",
              "...                                                 ...     ...   \n",
              "4266                     Analista de Dados/Data Analyst   Pleno   \n",
              "4267  Engenheiro de Dados/Arquiteto de Dados/Data En...   Pleno   \n",
              "4268                                                NaN     NaN   \n",
              "4269                                        Outra Opção  Júnior   \n",
              "4270                     Analista de Dados/Data Analyst  Júnior   \n",
              "\n",
              "                        FAIXA SALARIAL  \\\n",
              "0      de R$ 8.001/mês a R$ 12.000/mês   \n",
              "1       de R$ 4.001/mês a R$ 6.000/mês   \n",
              "2     de R$ 12.001/mês a R$ 16.000/mês   \n",
              "3     de R$ 12.001/mês a R$ 16.000/mês   \n",
              "4       de R$ 6.001/mês a R$ 8.000/mês   \n",
              "...                                ...   \n",
              "4266    de R$ 4.001/mês a R$ 6.000/mês   \n",
              "4267    de R$ 3.001/mês a R$ 4.000/mês   \n",
              "4268  de R$ 16.001/mês a R$ 20.000/mês   \n",
              "4269             Menos de R$ 1.000/mês   \n",
              "4270    de R$ 3.001/mês a R$ 4.000/mês   \n",
              "\n",
              "     QUANTO TEMPO DE EXPERIÊNCIA NA ÁREA DE DADOS VOCÊ TEM?  \\\n",
              "0                                         de 1 a 2 anos       \n",
              "1                                         de 3 a 4 anos       \n",
              "2                                         de 3 a 4 anos       \n",
              "3                                         de 4 a 6 anos       \n",
              "4                Não tenho experiência na área de dados       \n",
              "...                                                 ...       \n",
              "4266                                      de 3 a 4 anos       \n",
              "4267                                      de 1 a 2 anos       \n",
              "4268                                      de 4 a 6 anos       \n",
              "4269                                     Menos de 1 ano       \n",
              "4270                                      de 1 a 2 anos       \n",
              "\n",
              "     QUANTO TEMPO DE EXPERIÊNCIA NA ÁREA DE TI/ENGENHARIA DE SOFTWARE VOCÊ TEVE ANTES DE COMEÇAR A TRABALHAR NA ÁREA DE DADOS?  \\\n",
              "0                                        de 7 a 10 anos                                                                          \n",
              "1                                        Menos de 1 ano                                                                          \n",
              "2                                       Mais de 10 anos                                                                          \n",
              "3     Não tive experiência na área de TI/Engenharia ...                                                                          \n",
              "4                                       Mais de 10 anos                                                                          \n",
              "...                                                 ...                                                                          \n",
              "4266                                     de 7 a 10 anos                                                                          \n",
              "4267  Não tive experiência na área de TI/Engenharia ...                                                                          \n",
              "4268  Não tive experiência na área de TI/Engenharia ...                                                                          \n",
              "4269  Não tive experiência na área de TI/Engenharia ...                                                                          \n",
              "4270  Não tive experiência na área de TI/Engenharia ...                                                                          \n",
              "\n",
              "      SALARIO  \n",
              "0     11194.0  \n",
              "1      4695.0  \n",
              "2     14202.0  \n",
              "3     15463.0  \n",
              "4      7733.0  \n",
              "...       ...  \n",
              "4266   4329.0  \n",
              "4267   3758.0  \n",
              "4268  19607.0  \n",
              "4269    989.0  \n",
              "4270   3079.0  \n",
              "\n",
              "[4271 rows x 28 columns]"
            ],
            "text/html": [
              "\n",
              "  <div id=\"df-b352fc48-c52d-4845-991e-9e6af43c22c6\" class=\"colab-df-container\">\n",
              "    <div>\n",
              "<style scoped>\n",
              "    .dataframe tbody tr th:only-of-type {\n",
              "        vertical-align: middle;\n",
              "    }\n",
              "\n",
              "    .dataframe tbody tr th {\n",
              "        vertical-align: top;\n",
              "    }\n",
              "\n",
              "    .dataframe thead th {\n",
              "        text-align: right;\n",
              "    }\n",
              "</style>\n",
              "<table border=\"1\" class=\"dataframe\">\n",
              "  <thead>\n",
              "    <tr style=\"text-align: right;\">\n",
              "      <th></th>\n",
              "      <th>Unnamed: 0</th>\n",
              "      <th>ID</th>\n",
              "      <th>IDADE</th>\n",
              "      <th>FAIXA IDADE</th>\n",
              "      <th>GENERO</th>\n",
              "      <th>COR/RACA/ETNIA</th>\n",
              "      <th>PCD</th>\n",
              "      <th>EXPERIENCIA_PROFISSIONAL_PREJUDICADA</th>\n",
              "      <th>ASPECTOS_PREJUDICADOS</th>\n",
              "      <th>VIVE_NO_BRASIL</th>\n",
              "      <th>...</th>\n",
              "      <th>SETOR</th>\n",
              "      <th>NUMERO DE FUNCIONARIOS</th>\n",
              "      <th>GESTOR?</th>\n",
              "      <th>CARGO COMO GESTOR</th>\n",
              "      <th>CARGO ATUAL</th>\n",
              "      <th>NIVEL</th>\n",
              "      <th>FAIXA SALARIAL</th>\n",
              "      <th>QUANTO TEMPO DE EXPERIÊNCIA NA ÁREA DE DADOS VOCÊ TEM?</th>\n",
              "      <th>QUANTO TEMPO DE EXPERIÊNCIA NA ÁREA DE TI/ENGENHARIA DE SOFTWARE VOCÊ TEVE ANTES DE COMEÇAR A TRABALHAR NA ÁREA DE DADOS?</th>\n",
              "      <th>SALARIO</th>\n",
              "    </tr>\n",
              "  </thead>\n",
              "  <tbody>\n",
              "    <tr>\n",
              "      <th>0</th>\n",
              "      <td>0</td>\n",
              "      <td>zzqzz3l9ily8nuo2m7wyzzqzz3w48o96</td>\n",
              "      <td>39.0</td>\n",
              "      <td>35-39</td>\n",
              "      <td>Masculino</td>\n",
              "      <td>Parda</td>\n",
              "      <td>Não</td>\n",
              "      <td>Não acredito que minha experiência profissiona...</td>\n",
              "      <td>NaN</td>\n",
              "      <td>True</td>\n",
              "      <td>...</td>\n",
              "      <td>Setor Público</td>\n",
              "      <td>Acima de 3.000</td>\n",
              "      <td>0.0</td>\n",
              "      <td>NaN</td>\n",
              "      <td>DBA/Administrador de Banco de Dados</td>\n",
              "      <td>Júnior</td>\n",
              "      <td>de R$ 8.001/mês a R$ 12.000/mês</td>\n",
              "      <td>de 1 a 2 anos</td>\n",
              "      <td>de 7 a 10 anos</td>\n",
              "      <td>11194.0</td>\n",
              "    </tr>\n",
              "    <tr>\n",
              "      <th>1</th>\n",
              "      <td>1</td>\n",
              "      <td>zzls2oftfn9law393oezzls2ofhvfpzd</td>\n",
              "      <td>32.0</td>\n",
              "      <td>30-34</td>\n",
              "      <td>Masculino</td>\n",
              "      <td>Parda</td>\n",
              "      <td>Não</td>\n",
              "      <td>Sim, acredito que a minha a experiência profis...</td>\n",
              "      <td>Aprovação em processos seletivos/entrevistas</td>\n",
              "      <td>True</td>\n",
              "      <td>...</td>\n",
              "      <td>Outra Opção</td>\n",
              "      <td>Acima de 3.000</td>\n",
              "      <td>1.0</td>\n",
              "      <td>Supervisor/Coordenador</td>\n",
              "      <td>NaN</td>\n",
              "      <td>NaN</td>\n",
              "      <td>de R$ 4.001/mês a R$ 6.000/mês</td>\n",
              "      <td>de 3 a 4 anos</td>\n",
              "      <td>Menos de 1 ano</td>\n",
              "      <td>4695.0</td>\n",
              "    </tr>\n",
              "    <tr>\n",
              "      <th>2</th>\n",
              "      <td>2</td>\n",
              "      <td>zzdwqzfqqp1ypc7ps6m0hzzdwqz292yi</td>\n",
              "      <td>53.0</td>\n",
              "      <td>50-54</td>\n",
              "      <td>Masculino</td>\n",
              "      <td>Branca</td>\n",
              "      <td>Não</td>\n",
              "      <td>NaN</td>\n",
              "      <td>NaN</td>\n",
              "      <td>True</td>\n",
              "      <td>...</td>\n",
              "      <td>Finanças ou Bancos</td>\n",
              "      <td>Acima de 3.000</td>\n",
              "      <td>0.0</td>\n",
              "      <td>NaN</td>\n",
              "      <td>Desenvolvedor/ Engenheiro de Software/ Analist...</td>\n",
              "      <td>Pleno</td>\n",
              "      <td>de R$ 12.001/mês a R$ 16.000/mês</td>\n",
              "      <td>de 3 a 4 anos</td>\n",
              "      <td>Mais de 10 anos</td>\n",
              "      <td>14202.0</td>\n",
              "    </tr>\n",
              "    <tr>\n",
              "      <th>3</th>\n",
              "      <td>3</td>\n",
              "      <td>zzbqh3uy7yk7k9qmkzzbqtb4s9faqspl</td>\n",
              "      <td>27.0</td>\n",
              "      <td>25-29</td>\n",
              "      <td>Masculino</td>\n",
              "      <td>Branca</td>\n",
              "      <td>Não</td>\n",
              "      <td>NaN</td>\n",
              "      <td>NaN</td>\n",
              "      <td>True</td>\n",
              "      <td>...</td>\n",
              "      <td>Setor Automotivo</td>\n",
              "      <td>Acima de 3.000</td>\n",
              "      <td>0.0</td>\n",
              "      <td>NaN</td>\n",
              "      <td>Cientista de Dados/Data Scientist</td>\n",
              "      <td>Sênior</td>\n",
              "      <td>de R$ 12.001/mês a R$ 16.000/mês</td>\n",
              "      <td>de 4 a 6 anos</td>\n",
              "      <td>Não tive experiência na área de TI/Engenharia ...</td>\n",
              "      <td>15463.0</td>\n",
              "    </tr>\n",
              "    <tr>\n",
              "      <th>4</th>\n",
              "      <td>4</td>\n",
              "      <td>zzaf1m95yan929rb94wzzaf1mekhvhpg</td>\n",
              "      <td>46.0</td>\n",
              "      <td>45-49</td>\n",
              "      <td>Feminino</td>\n",
              "      <td>Branca</td>\n",
              "      <td>Não</td>\n",
              "      <td>Não acredito que minha experiência profissiona...</td>\n",
              "      <td>NaN</td>\n",
              "      <td>True</td>\n",
              "      <td>...</td>\n",
              "      <td>Setor Público</td>\n",
              "      <td>de 101 a 500</td>\n",
              "      <td>0.0</td>\n",
              "      <td>NaN</td>\n",
              "      <td>Desenvolvedor/ Engenheiro de Software/ Analist...</td>\n",
              "      <td>Pleno</td>\n",
              "      <td>de R$ 6.001/mês a R$ 8.000/mês</td>\n",
              "      <td>Não tenho experiência na área de dados</td>\n",
              "      <td>Mais de 10 anos</td>\n",
              "      <td>7733.0</td>\n",
              "    </tr>\n",
              "    <tr>\n",
              "      <th>...</th>\n",
              "      <td>...</td>\n",
              "      <td>...</td>\n",
              "      <td>...</td>\n",
              "      <td>...</td>\n",
              "      <td>...</td>\n",
              "      <td>...</td>\n",
              "      <td>...</td>\n",
              "      <td>...</td>\n",
              "      <td>...</td>\n",
              "      <td>...</td>\n",
              "      <td>...</td>\n",
              "      <td>...</td>\n",
              "      <td>...</td>\n",
              "      <td>...</td>\n",
              "      <td>...</td>\n",
              "      <td>...</td>\n",
              "      <td>...</td>\n",
              "      <td>...</td>\n",
              "      <td>...</td>\n",
              "      <td>...</td>\n",
              "      <td>...</td>\n",
              "    </tr>\n",
              "    <tr>\n",
              "      <th>4266</th>\n",
              "      <td>4266</td>\n",
              "      <td>01jnrn9f6va0menfhk2ztm01jnrn96bp</td>\n",
              "      <td>26.0</td>\n",
              "      <td>25-29</td>\n",
              "      <td>Masculino</td>\n",
              "      <td>Branca</td>\n",
              "      <td>Não</td>\n",
              "      <td>NaN</td>\n",
              "      <td>NaN</td>\n",
              "      <td>True</td>\n",
              "      <td>...</td>\n",
              "      <td>Tecnologia/Fábrica de Software</td>\n",
              "      <td>Acima de 3.000</td>\n",
              "      <td>0.0</td>\n",
              "      <td>NaN</td>\n",
              "      <td>Analista de Dados/Data Analyst</td>\n",
              "      <td>Pleno</td>\n",
              "      <td>de R$ 4.001/mês a R$ 6.000/mês</td>\n",
              "      <td>de 3 a 4 anos</td>\n",
              "      <td>de 7 a 10 anos</td>\n",
              "      <td>4329.0</td>\n",
              "    </tr>\n",
              "    <tr>\n",
              "      <th>4267</th>\n",
              "      <td>4267</td>\n",
              "      <td>01dyfxam4u4bi29fem01dyfxaq9akvqp</td>\n",
              "      <td>30.0</td>\n",
              "      <td>30-34</td>\n",
              "      <td>Feminino</td>\n",
              "      <td>Branca</td>\n",
              "      <td>Não</td>\n",
              "      <td>Não acredito que minha experiência profissiona...</td>\n",
              "      <td>NaN</td>\n",
              "      <td>True</td>\n",
              "      <td>...</td>\n",
              "      <td>Área de Consultoria</td>\n",
              "      <td>de 51 a 100</td>\n",
              "      <td>0.0</td>\n",
              "      <td>NaN</td>\n",
              "      <td>Engenheiro de Dados/Arquiteto de Dados/Data En...</td>\n",
              "      <td>Pleno</td>\n",
              "      <td>de R$ 3.001/mês a R$ 4.000/mês</td>\n",
              "      <td>de 1 a 2 anos</td>\n",
              "      <td>Não tive experiência na área de TI/Engenharia ...</td>\n",
              "      <td>3758.0</td>\n",
              "    </tr>\n",
              "    <tr>\n",
              "      <th>4268</th>\n",
              "      <td>4268</td>\n",
              "      <td>00zw9ks9d40z4u00zz3d20iix65qpli3</td>\n",
              "      <td>29.0</td>\n",
              "      <td>25-29</td>\n",
              "      <td>Masculino</td>\n",
              "      <td>Branca</td>\n",
              "      <td>Não</td>\n",
              "      <td>NaN</td>\n",
              "      <td>NaN</td>\n",
              "      <td>True</td>\n",
              "      <td>...</td>\n",
              "      <td>Setor Imobiliário/ Construção Civil</td>\n",
              "      <td>de 101 a 500</td>\n",
              "      <td>1.0</td>\n",
              "      <td>Gerente/Head</td>\n",
              "      <td>NaN</td>\n",
              "      <td>NaN</td>\n",
              "      <td>de R$ 16.001/mês a R$ 20.000/mês</td>\n",
              "      <td>de 4 a 6 anos</td>\n",
              "      <td>Não tive experiência na área de TI/Engenharia ...</td>\n",
              "      <td>19607.0</td>\n",
              "    </tr>\n",
              "    <tr>\n",
              "      <th>4269</th>\n",
              "      <td>4269</td>\n",
              "      <td>00xu7yujd7s57emj00xu7y0c3njix3de</td>\n",
              "      <td>NaN</td>\n",
              "      <td>17-21</td>\n",
              "      <td>Masculino</td>\n",
              "      <td>Branca</td>\n",
              "      <td>Não</td>\n",
              "      <td>NaN</td>\n",
              "      <td>NaN</td>\n",
              "      <td>True</td>\n",
              "      <td>...</td>\n",
              "      <td>Indústria</td>\n",
              "      <td>de 1.001 a 3.000</td>\n",
              "      <td>0.0</td>\n",
              "      <td>NaN</td>\n",
              "      <td>Outra Opção</td>\n",
              "      <td>Júnior</td>\n",
              "      <td>Menos de R$ 1.000/mês</td>\n",
              "      <td>Menos de 1 ano</td>\n",
              "      <td>Não tive experiência na área de TI/Engenharia ...</td>\n",
              "      <td>989.0</td>\n",
              "    </tr>\n",
              "    <tr>\n",
              "      <th>4270</th>\n",
              "      <td>4270</td>\n",
              "      <td>00lb35llmdsidpa00lb35qcdysnzvhv7</td>\n",
              "      <td>24.0</td>\n",
              "      <td>22-24</td>\n",
              "      <td>Masculino</td>\n",
              "      <td>Branca</td>\n",
              "      <td>Não</td>\n",
              "      <td>NaN</td>\n",
              "      <td>NaN</td>\n",
              "      <td>True</td>\n",
              "      <td>...</td>\n",
              "      <td>Agronegócios</td>\n",
              "      <td>de 501 a 1.000</td>\n",
              "      <td>0.0</td>\n",
              "      <td>NaN</td>\n",
              "      <td>Analista de Dados/Data Analyst</td>\n",
              "      <td>Júnior</td>\n",
              "      <td>de R$ 3.001/mês a R$ 4.000/mês</td>\n",
              "      <td>de 1 a 2 anos</td>\n",
              "      <td>Não tive experiência na área de TI/Engenharia ...</td>\n",
              "      <td>3079.0</td>\n",
              "    </tr>\n",
              "  </tbody>\n",
              "</table>\n",
              "<p>4271 rows × 28 columns</p>\n",
              "</div>\n",
              "    <div class=\"colab-df-buttons\">\n",
              "\n",
              "  <div class=\"colab-df-container\">\n",
              "    <button class=\"colab-df-convert\" onclick=\"convertToInteractive('df-b352fc48-c52d-4845-991e-9e6af43c22c6')\"\n",
              "            title=\"Convert this dataframe to an interactive table.\"\n",
              "            style=\"display:none;\">\n",
              "\n",
              "  <svg xmlns=\"http://www.w3.org/2000/svg\" height=\"24px\" viewBox=\"0 -960 960 960\">\n",
              "    <path d=\"M120-120v-720h720v720H120Zm60-500h600v-160H180v160Zm220 220h160v-160H400v160Zm0 220h160v-160H400v160ZM180-400h160v-160H180v160Zm440 0h160v-160H620v160ZM180-180h160v-160H180v160Zm440 0h160v-160H620v160Z\"/>\n",
              "  </svg>\n",
              "    </button>\n",
              "\n",
              "  <style>\n",
              "    .colab-df-container {\n",
              "      display:flex;\n",
              "      gap: 12px;\n",
              "    }\n",
              "\n",
              "    .colab-df-convert {\n",
              "      background-color: #E8F0FE;\n",
              "      border: none;\n",
              "      border-radius: 50%;\n",
              "      cursor: pointer;\n",
              "      display: none;\n",
              "      fill: #1967D2;\n",
              "      height: 32px;\n",
              "      padding: 0 0 0 0;\n",
              "      width: 32px;\n",
              "    }\n",
              "\n",
              "    .colab-df-convert:hover {\n",
              "      background-color: #E2EBFA;\n",
              "      box-shadow: 0px 1px 2px rgba(60, 64, 67, 0.3), 0px 1px 3px 1px rgba(60, 64, 67, 0.15);\n",
              "      fill: #174EA6;\n",
              "    }\n",
              "\n",
              "    .colab-df-buttons div {\n",
              "      margin-bottom: 4px;\n",
              "    }\n",
              "\n",
              "    [theme=dark] .colab-df-convert {\n",
              "      background-color: #3B4455;\n",
              "      fill: #D2E3FC;\n",
              "    }\n",
              "\n",
              "    [theme=dark] .colab-df-convert:hover {\n",
              "      background-color: #434B5C;\n",
              "      box-shadow: 0px 1px 3px 1px rgba(0, 0, 0, 0.15);\n",
              "      filter: drop-shadow(0px 1px 2px rgba(0, 0, 0, 0.3));\n",
              "      fill: #FFFFFF;\n",
              "    }\n",
              "  </style>\n",
              "\n",
              "    <script>\n",
              "      const buttonEl =\n",
              "        document.querySelector('#df-b352fc48-c52d-4845-991e-9e6af43c22c6 button.colab-df-convert');\n",
              "      buttonEl.style.display =\n",
              "        google.colab.kernel.accessAllowed ? 'block' : 'none';\n",
              "\n",
              "      async function convertToInteractive(key) {\n",
              "        const element = document.querySelector('#df-b352fc48-c52d-4845-991e-9e6af43c22c6');\n",
              "        const dataTable =\n",
              "          await google.colab.kernel.invokeFunction('convertToInteractive',\n",
              "                                                    [key], {});\n",
              "        if (!dataTable) return;\n",
              "\n",
              "        const docLinkHtml = 'Like what you see? Visit the ' +\n",
              "          '<a target=\"_blank\" href=https://colab.research.google.com/notebooks/data_table.ipynb>data table notebook</a>'\n",
              "          + ' to learn more about interactive tables.';\n",
              "        element.innerHTML = '';\n",
              "        dataTable['output_type'] = 'display_data';\n",
              "        await google.colab.output.renderOutput(dataTable, element);\n",
              "        const docLink = document.createElement('div');\n",
              "        docLink.innerHTML = docLinkHtml;\n",
              "        element.appendChild(docLink);\n",
              "      }\n",
              "    </script>\n",
              "  </div>\n",
              "\n",
              "\n",
              "<div id=\"df-8ab3c54f-08cc-4b1c-bb59-150efe0e9130\">\n",
              "  <button class=\"colab-df-quickchart\" onclick=\"quickchart('df-8ab3c54f-08cc-4b1c-bb59-150efe0e9130')\"\n",
              "            title=\"Suggest charts\"\n",
              "            style=\"display:none;\">\n",
              "\n",
              "<svg xmlns=\"http://www.w3.org/2000/svg\" height=\"24px\"viewBox=\"0 0 24 24\"\n",
              "     width=\"24px\">\n",
              "    <g>\n",
              "        <path d=\"M19 3H5c-1.1 0-2 .9-2 2v14c0 1.1.9 2 2 2h14c1.1 0 2-.9 2-2V5c0-1.1-.9-2-2-2zM9 17H7v-7h2v7zm4 0h-2V7h2v10zm4 0h-2v-4h2v4z\"/>\n",
              "    </g>\n",
              "</svg>\n",
              "  </button>\n",
              "\n",
              "<style>\n",
              "  .colab-df-quickchart {\n",
              "      --bg-color: #E8F0FE;\n",
              "      --fill-color: #1967D2;\n",
              "      --hover-bg-color: #E2EBFA;\n",
              "      --hover-fill-color: #174EA6;\n",
              "      --disabled-fill-color: #AAA;\n",
              "      --disabled-bg-color: #DDD;\n",
              "  }\n",
              "\n",
              "  [theme=dark] .colab-df-quickchart {\n",
              "      --bg-color: #3B4455;\n",
              "      --fill-color: #D2E3FC;\n",
              "      --hover-bg-color: #434B5C;\n",
              "      --hover-fill-color: #FFFFFF;\n",
              "      --disabled-bg-color: #3B4455;\n",
              "      --disabled-fill-color: #666;\n",
              "  }\n",
              "\n",
              "  .colab-df-quickchart {\n",
              "    background-color: var(--bg-color);\n",
              "    border: none;\n",
              "    border-radius: 50%;\n",
              "    cursor: pointer;\n",
              "    display: none;\n",
              "    fill: var(--fill-color);\n",
              "    height: 32px;\n",
              "    padding: 0;\n",
              "    width: 32px;\n",
              "  }\n",
              "\n",
              "  .colab-df-quickchart:hover {\n",
              "    background-color: var(--hover-bg-color);\n",
              "    box-shadow: 0 1px 2px rgba(60, 64, 67, 0.3), 0 1px 3px 1px rgba(60, 64, 67, 0.15);\n",
              "    fill: var(--button-hover-fill-color);\n",
              "  }\n",
              "\n",
              "  .colab-df-quickchart-complete:disabled,\n",
              "  .colab-df-quickchart-complete:disabled:hover {\n",
              "    background-color: var(--disabled-bg-color);\n",
              "    fill: var(--disabled-fill-color);\n",
              "    box-shadow: none;\n",
              "  }\n",
              "\n",
              "  .colab-df-spinner {\n",
              "    border: 2px solid var(--fill-color);\n",
              "    border-color: transparent;\n",
              "    border-bottom-color: var(--fill-color);\n",
              "    animation:\n",
              "      spin 1s steps(1) infinite;\n",
              "  }\n",
              "\n",
              "  @keyframes spin {\n",
              "    0% {\n",
              "      border-color: transparent;\n",
              "      border-bottom-color: var(--fill-color);\n",
              "      border-left-color: var(--fill-color);\n",
              "    }\n",
              "    20% {\n",
              "      border-color: transparent;\n",
              "      border-left-color: var(--fill-color);\n",
              "      border-top-color: var(--fill-color);\n",
              "    }\n",
              "    30% {\n",
              "      border-color: transparent;\n",
              "      border-left-color: var(--fill-color);\n",
              "      border-top-color: var(--fill-color);\n",
              "      border-right-color: var(--fill-color);\n",
              "    }\n",
              "    40% {\n",
              "      border-color: transparent;\n",
              "      border-right-color: var(--fill-color);\n",
              "      border-top-color: var(--fill-color);\n",
              "    }\n",
              "    60% {\n",
              "      border-color: transparent;\n",
              "      border-right-color: var(--fill-color);\n",
              "    }\n",
              "    80% {\n",
              "      border-color: transparent;\n",
              "      border-right-color: var(--fill-color);\n",
              "      border-bottom-color: var(--fill-color);\n",
              "    }\n",
              "    90% {\n",
              "      border-color: transparent;\n",
              "      border-bottom-color: var(--fill-color);\n",
              "    }\n",
              "  }\n",
              "</style>\n",
              "\n",
              "  <script>\n",
              "    async function quickchart(key) {\n",
              "      const quickchartButtonEl =\n",
              "        document.querySelector('#' + key + ' button');\n",
              "      quickchartButtonEl.disabled = true;  // To prevent multiple clicks.\n",
              "      quickchartButtonEl.classList.add('colab-df-spinner');\n",
              "      try {\n",
              "        const charts = await google.colab.kernel.invokeFunction(\n",
              "            'suggestCharts', [key], {});\n",
              "      } catch (error) {\n",
              "        console.error('Error during call to suggestCharts:', error);\n",
              "      }\n",
              "      quickchartButtonEl.classList.remove('colab-df-spinner');\n",
              "      quickchartButtonEl.classList.add('colab-df-quickchart-complete');\n",
              "    }\n",
              "    (() => {\n",
              "      let quickchartButtonEl =\n",
              "        document.querySelector('#df-8ab3c54f-08cc-4b1c-bb59-150efe0e9130 button');\n",
              "      quickchartButtonEl.style.display =\n",
              "        google.colab.kernel.accessAllowed ? 'block' : 'none';\n",
              "    })();\n",
              "  </script>\n",
              "</div>\n",
              "\n",
              "  <div id=\"id_db63f7d4-2e58-4431-a35a-cb068a231ad7\">\n",
              "    <style>\n",
              "      .colab-df-generate {\n",
              "        background-color: #E8F0FE;\n",
              "        border: none;\n",
              "        border-radius: 50%;\n",
              "        cursor: pointer;\n",
              "        display: none;\n",
              "        fill: #1967D2;\n",
              "        height: 32px;\n",
              "        padding: 0 0 0 0;\n",
              "        width: 32px;\n",
              "      }\n",
              "\n",
              "      .colab-df-generate:hover {\n",
              "        background-color: #E2EBFA;\n",
              "        box-shadow: 0px 1px 2px rgba(60, 64, 67, 0.3), 0px 1px 3px 1px rgba(60, 64, 67, 0.15);\n",
              "        fill: #174EA6;\n",
              "      }\n",
              "\n",
              "      [theme=dark] .colab-df-generate {\n",
              "        background-color: #3B4455;\n",
              "        fill: #D2E3FC;\n",
              "      }\n",
              "\n",
              "      [theme=dark] .colab-df-generate:hover {\n",
              "        background-color: #434B5C;\n",
              "        box-shadow: 0px 1px 3px 1px rgba(0, 0, 0, 0.15);\n",
              "        filter: drop-shadow(0px 1px 2px rgba(0, 0, 0, 0.3));\n",
              "        fill: #FFFFFF;\n",
              "      }\n",
              "    </style>\n",
              "    <button class=\"colab-df-generate\" onclick=\"generateWithVariable('df')\"\n",
              "            title=\"Generate code using this dataframe.\"\n",
              "            style=\"display:none;\">\n",
              "\n",
              "  <svg xmlns=\"http://www.w3.org/2000/svg\" height=\"24px\"viewBox=\"0 0 24 24\"\n",
              "       width=\"24px\">\n",
              "    <path d=\"M7,19H8.4L18.45,9,17,7.55,7,17.6ZM5,21V16.75L18.45,3.32a2,2,0,0,1,2.83,0l1.4,1.43a1.91,1.91,0,0,1,.58,1.4,1.91,1.91,0,0,1-.58,1.4L9.25,21ZM18.45,9,17,7.55Zm-12,3A5.31,5.31,0,0,0,4.9,8.1,5.31,5.31,0,0,0,1,6.5,5.31,5.31,0,0,0,4.9,4.9,5.31,5.31,0,0,0,6.5,1,5.31,5.31,0,0,0,8.1,4.9,5.31,5.31,0,0,0,12,6.5,5.46,5.46,0,0,0,6.5,12Z\"/>\n",
              "  </svg>\n",
              "    </button>\n",
              "    <script>\n",
              "      (() => {\n",
              "      const buttonEl =\n",
              "        document.querySelector('#id_db63f7d4-2e58-4431-a35a-cb068a231ad7 button.colab-df-generate');\n",
              "      buttonEl.style.display =\n",
              "        google.colab.kernel.accessAllowed ? 'block' : 'none';\n",
              "\n",
              "      buttonEl.onclick = () => {\n",
              "        google.colab.notebook.generateWithVariable('df');\n",
              "      }\n",
              "      })();\n",
              "    </script>\n",
              "  </div>\n",
              "\n",
              "    </div>\n",
              "  </div>\n"
            ],
            "application/vnd.google.colaboratory.intrinsic+json": {
              "type": "dataframe",
              "variable_name": "df"
            }
          },
          "metadata": {},
          "execution_count": 4
        }
      ]
    },
    {
      "cell_type": "code",
      "source": [
        "#criando uma lista\n",
        "lista_idades=[26,30,32,22,26,35,35,40,20,43,31,23]"
      ],
      "metadata": {
        "id": "i_yzwDo_ya-l"
      },
      "execution_count": null,
      "outputs": []
    },
    {
      "cell_type": "code",
      "source": [
        "#extraindo a média\n",
        "np.mean(lista_idades)"
      ],
      "metadata": {
        "colab": {
          "base_uri": "https://localhost:8080/"
        },
        "id": "znXfkFIyybjR",
        "outputId": "502ca710-f75c-46cb-aeaa-129cbcafdb4a"
      },
      "execution_count": null,
      "outputs": [
        {
          "output_type": "execute_result",
          "data": {
            "text/plain": [
              "30.25"
            ]
          },
          "metadata": {},
          "execution_count": 6
        }
      ]
    },
    {
      "cell_type": "code",
      "source": [
        "#criando a função media\n",
        "media=np.mean(lista_idades)\n",
        "print(f'A média é {media}')"
      ],
      "metadata": {
        "colab": {
          "base_uri": "https://localhost:8080/"
        },
        "id": "sDKjPtaNyd07",
        "outputId": "4c97c825-f817-42e5-ad36-09d46fde0b08"
      },
      "execution_count": null,
      "outputs": [
        {
          "output_type": "stream",
          "name": "stdout",
          "text": [
            "A média é 30.25\n"
          ]
        }
      ]
    },
    {
      "cell_type": "code",
      "source": [
        "#ordenando a lista com a função sort\n",
        "lista_idades.sort()\n",
        "lista_idades"
      ],
      "metadata": {
        "colab": {
          "base_uri": "https://localhost:8080/"
        },
        "id": "uqFZGuNjyfr-",
        "outputId": "11b41728-75c6-4189-b27f-77a359cee956"
      },
      "execution_count": null,
      "outputs": [
        {
          "output_type": "execute_result",
          "data": {
            "text/plain": [
              "[20, 22, 23, 26, 26, 30, 31, 32, 35, 35, 40, 43]"
            ]
          },
          "metadata": {},
          "execution_count": 8
        }
      ]
    },
    {
      "cell_type": "code",
      "source": [
        "#extraindo a mediana\n",
        "mediana=np.median(lista_idades)\n",
        "print(f'A mediana é {mediana}')"
      ],
      "metadata": {
        "colab": {
          "base_uri": "https://localhost:8080/"
        },
        "id": "ujI6zA4yyhkN",
        "outputId": "224fcebb-1ab4-4aff-ff62-a505a0563a8b"
      },
      "execution_count": null,
      "outputs": [
        {
          "output_type": "stream",
          "name": "stdout",
          "text": [
            "A mediana é 30.5\n"
          ]
        }
      ]
    },
    {
      "cell_type": "code",
      "source": [
        "#é o valor central dos dados. É calculada pela soma de todos os valores e divisão pela quantidade de valores.\n",
        "df['IDADE'].mean()"
      ],
      "metadata": {
        "colab": {
          "base_uri": "https://localhost:8080/"
        },
        "id": "l9ux9FBEyj11",
        "outputId": "35291dae-2dae-448d-ff62-4c0af3598464"
      },
      "execution_count": null,
      "outputs": [
        {
          "output_type": "execute_result",
          "data": {
            "text/plain": [
              "31.169168453657374"
            ]
          },
          "metadata": {},
          "execution_count": 10
        }
      ]
    },
    {
      "cell_type": "code",
      "source": [
        "#é o valor central dos dados ordenados. Menos afetada por valores extremos 'outliers'\n",
        "df['IDADE'].median()"
      ],
      "metadata": {
        "colab": {
          "base_uri": "https://localhost:8080/"
        },
        "id": "mpCFB-6UymcX",
        "outputId": "73a2528d-aa24-4ada-e01e-93344dd893c8"
      },
      "execution_count": null,
      "outputs": [
        {
          "output_type": "execute_result",
          "data": {
            "text/plain": [
              "30.0"
            ]
          },
          "metadata": {},
          "execution_count": 11
        }
      ]
    },
    {
      "cell_type": "code",
      "source": [
        "#é o valor que aparece mais frequentemente nos dados.\n",
        "df['IDADE'].mode()"
      ],
      "metadata": {
        "colab": {
          "base_uri": "https://localhost:8080/",
          "height": 115
        },
        "id": "1GcsUoWQypz8",
        "outputId": "ef8eafa8-352a-4eda-9df4-b871e3a8c67d"
      },
      "execution_count": null,
      "outputs": [
        {
          "output_type": "execute_result",
          "data": {
            "text/plain": [
              "0    27.0\n",
              "Name: IDADE, dtype: float64"
            ],
            "text/html": [
              "<div>\n",
              "<style scoped>\n",
              "    .dataframe tbody tr th:only-of-type {\n",
              "        vertical-align: middle;\n",
              "    }\n",
              "\n",
              "    .dataframe tbody tr th {\n",
              "        vertical-align: top;\n",
              "    }\n",
              "\n",
              "    .dataframe thead th {\n",
              "        text-align: right;\n",
              "    }\n",
              "</style>\n",
              "<table border=\"1\" class=\"dataframe\">\n",
              "  <thead>\n",
              "    <tr style=\"text-align: right;\">\n",
              "      <th></th>\n",
              "      <th>IDADE</th>\n",
              "    </tr>\n",
              "  </thead>\n",
              "  <tbody>\n",
              "    <tr>\n",
              "      <th>0</th>\n",
              "      <td>27.0</td>\n",
              "    </tr>\n",
              "  </tbody>\n",
              "</table>\n",
              "</div><br><label><b>dtype:</b> float64</label>"
            ]
          },
          "metadata": {},
          "execution_count": 12
        }
      ]
    },
    {
      "cell_type": "code",
      "source": [
        "#Mede a dispersão dos dados em relação à média. Ou seja, quanto mais próximos de zero mais homogênio são os dados\n",
        "df['IDADE'].std()"
      ],
      "metadata": {
        "colab": {
          "base_uri": "https://localhost:8080/"
        },
        "id": "BZ7z0xzSyqsv",
        "outputId": "f1f5bbcf-88ec-4336-988e-03fd16ec7fbe"
      },
      "execution_count": null,
      "outputs": [
        {
          "output_type": "execute_result",
          "data": {
            "text/plain": [
              "6.902802832143141"
            ]
          },
          "metadata": {},
          "execution_count": 13
        }
      ]
    },
    {
      "cell_type": "code",
      "source": [
        "df['IDADE'].min()"
      ],
      "metadata": {
        "colab": {
          "base_uri": "https://localhost:8080/"
        },
        "id": "woIwB1U4ytsS",
        "outputId": "628c2000-fc5d-4226-cc5b-8542f504c290"
      },
      "execution_count": null,
      "outputs": [
        {
          "output_type": "execute_result",
          "data": {
            "text/plain": [
              "18.0"
            ]
          },
          "metadata": {},
          "execution_count": 14
        }
      ]
    },
    {
      "cell_type": "code",
      "source": [
        "df['IDADE'].max()"
      ],
      "metadata": {
        "colab": {
          "base_uri": "https://localhost:8080/"
        },
        "id": "Vtdq22imyvkP",
        "outputId": "082a8bf2-1066-424d-b7fd-62e520bd9522"
      },
      "execution_count": null,
      "outputs": [
        {
          "output_type": "execute_result",
          "data": {
            "text/plain": [
              "54.0"
            ]
          },
          "metadata": {},
          "execution_count": 15
        }
      ]
    },
    {
      "cell_type": "code",
      "source": [
        "#associação da media de genero/idade\n",
        "df[df['GENERO']=='Feminino']['IDADE'].mean()"
      ],
      "metadata": {
        "colab": {
          "base_uri": "https://localhost:8080/"
        },
        "id": "S4hNs5U1yxeb",
        "outputId": "5fd43984-be53-45ef-8ef4-451b9a13fdbc"
      },
      "execution_count": null,
      "outputs": [
        {
          "output_type": "execute_result",
          "data": {
            "text/plain": [
              "31.318051575931232"
            ]
          },
          "metadata": {},
          "execution_count": 16
        }
      ]
    },
    {
      "cell_type": "code",
      "source": [
        "df[df['GENERO']=='Masculino']['IDADE'].mean()"
      ],
      "metadata": {
        "colab": {
          "base_uri": "https://localhost:8080/"
        },
        "id": "L5-Q0nsKy0HP",
        "outputId": "965bef06-145f-44b7-ddfc-838c9648ce52"
      },
      "execution_count": null,
      "outputs": [
        {
          "output_type": "execute_result",
          "data": {
            "text/plain": [
              "31.147876077930373"
            ]
          },
          "metadata": {},
          "execution_count": 17
        }
      ]
    },
    {
      "cell_type": "code",
      "source": [
        "#associação da media de genero/salário\n",
        "df[df['GENERO']=='Feminino']['SALARIO'].mean()"
      ],
      "metadata": {
        "colab": {
          "base_uri": "https://localhost:8080/"
        },
        "id": "0GyJzWFey0lc",
        "outputId": "68725d39-612d-4ce0-ebf6-a748315cb35f"
      },
      "execution_count": null,
      "outputs": [
        {
          "output_type": "execute_result",
          "data": {
            "text/plain": [
              "8673.22460496614"
            ]
          },
          "metadata": {},
          "execution_count": 18
        }
      ]
    },
    {
      "cell_type": "code",
      "source": [
        "df[df['GENERO']=='Masculino']['SALARIO'].mean()"
      ],
      "metadata": {
        "colab": {
          "base_uri": "https://localhost:8080/"
        },
        "id": "AB2GoFiey05C",
        "outputId": "07becb9e-e860-40b8-9822-1150a7fe81c6"
      },
      "execution_count": null,
      "outputs": [
        {
          "output_type": "execute_result",
          "data": {
            "text/plain": [
              "11724.552688172043"
            ]
          },
          "metadata": {},
          "execution_count": 19
        }
      ]
    },
    {
      "cell_type": "code",
      "source": [
        "#associação da media de genero/idade\n",
        "df[df['GENERO']=='Masculino']['IDADE'].mean()"
      ],
      "metadata": {
        "colab": {
          "base_uri": "https://localhost:8080/"
        },
        "id": "7cNMIEBty1ON",
        "outputId": "42ff3c7e-208e-4392-ed8f-a2b8d079be60"
      },
      "execution_count": null,
      "outputs": [
        {
          "output_type": "execute_result",
          "data": {
            "text/plain": [
              "31.147876077930373"
            ]
          },
          "metadata": {},
          "execution_count": 20
        }
      ]
    },
    {
      "cell_type": "code",
      "source": [
        "#calculando estatísticas básicas da coluna Salário\n",
        "df['SALARIO'].mean()"
      ],
      "metadata": {
        "colab": {
          "base_uri": "https://localhost:8080/"
        },
        "id": "jluwcsffy1lw",
        "outputId": "979773d0-49c8-4e95-9bfe-874bf61504b0"
      },
      "execution_count": null,
      "outputs": [
        {
          "output_type": "execute_result",
          "data": {
            "text/plain": [
              "10969.26691932864"
            ]
          },
          "metadata": {},
          "execution_count": 21
        }
      ]
    },
    {
      "cell_type": "code",
      "source": [
        "df['SALARIO'].median()"
      ],
      "metadata": {
        "colab": {
          "base_uri": "https://localhost:8080/"
        },
        "id": "rR-YhVuay19w",
        "outputId": "b265a522-1c89-4e4e-919f-7521996845f5"
      },
      "execution_count": null,
      "outputs": [
        {
          "output_type": "execute_result",
          "data": {
            "text/plain": [
              "7625.5"
            ]
          },
          "metadata": {},
          "execution_count": 22
        }
      ]
    },
    {
      "cell_type": "code",
      "source": [
        "df['SALARIO'].mode()"
      ],
      "metadata": {
        "colab": {
          "base_uri": "https://localhost:8080/",
          "height": 115
        },
        "id": "5w2bmzcmy2UX",
        "outputId": "c568ab87-281e-4f04-bf2b-36ce307e3368"
      },
      "execution_count": null,
      "outputs": [
        {
          "output_type": "execute_result",
          "data": {
            "text/plain": [
              "0    11159.0\n",
              "Name: SALARIO, dtype: float64"
            ],
            "text/html": [
              "<div>\n",
              "<style scoped>\n",
              "    .dataframe tbody tr th:only-of-type {\n",
              "        vertical-align: middle;\n",
              "    }\n",
              "\n",
              "    .dataframe tbody tr th {\n",
              "        vertical-align: top;\n",
              "    }\n",
              "\n",
              "    .dataframe thead th {\n",
              "        text-align: right;\n",
              "    }\n",
              "</style>\n",
              "<table border=\"1\" class=\"dataframe\">\n",
              "  <thead>\n",
              "    <tr style=\"text-align: right;\">\n",
              "      <th></th>\n",
              "      <th>SALARIO</th>\n",
              "    </tr>\n",
              "  </thead>\n",
              "  <tbody>\n",
              "    <tr>\n",
              "      <th>0</th>\n",
              "      <td>11159.0</td>\n",
              "    </tr>\n",
              "  </tbody>\n",
              "</table>\n",
              "</div><br><label><b>dtype:</b> float64</label>"
            ]
          },
          "metadata": {},
          "execution_count": 23
        }
      ]
    },
    {
      "cell_type": "code",
      "source": [
        "df['SALARIO'].std()"
      ],
      "metadata": {
        "colab": {
          "base_uri": "https://localhost:8080/"
        },
        "id": "wMp90xm6y2ps",
        "outputId": "c95adce4-deda-49c3-d56f-dde4dc38248a"
      },
      "execution_count": null,
      "outputs": [
        {
          "output_type": "execute_result",
          "data": {
            "text/plain": [
              "19419.753188763436"
            ]
          },
          "metadata": {},
          "execution_count": 24
        }
      ]
    },
    {
      "cell_type": "code",
      "source": [
        "df['SALARIO'].min()"
      ],
      "metadata": {
        "colab": {
          "base_uri": "https://localhost:8080/"
        },
        "id": "JhEOt231y3Et",
        "outputId": "53d9fb85-24cb-4725-f75d-2277e01d5fa6"
      },
      "execution_count": null,
      "outputs": [
        {
          "output_type": "execute_result",
          "data": {
            "text/plain": [
              "35.0"
            ]
          },
          "metadata": {},
          "execution_count": 25
        }
      ]
    },
    {
      "cell_type": "code",
      "source": [
        "df['SALARIO'].max()"
      ],
      "metadata": {
        "colab": {
          "base_uri": "https://localhost:8080/"
        },
        "id": "UgzWaIlIzKdi",
        "outputId": "a8d1ff7f-33c0-4292-b077-afe0c5495612"
      },
      "execution_count": null,
      "outputs": [
        {
          "output_type": "execute_result",
          "data": {
            "text/plain": [
              "485191.0"
            ]
          },
          "metadata": {},
          "execution_count": 26
        }
      ]
    },
    {
      "cell_type": "code",
      "source": [
        "#usando a função info() para verificar os nulos da base\n",
        "df.info()"
      ],
      "metadata": {
        "colab": {
          "base_uri": "https://localhost:8080/"
        },
        "id": "o51mduZuzKxJ",
        "outputId": "0cd3a3f2-35c6-4766-a2e5-c3d3c5e6a8a4"
      },
      "execution_count": null,
      "outputs": [
        {
          "output_type": "stream",
          "name": "stdout",
          "text": [
            "<class 'pandas.core.frame.DataFrame'>\n",
            "RangeIndex: 4271 entries, 0 to 4270\n",
            "Data columns (total 28 columns):\n",
            " #   Column                                                                                                                     Non-Null Count  Dtype  \n",
            "---  ------                                                                                                                     --------------  -----  \n",
            " 0   Unnamed: 0                                                                                                                 4271 non-null   int64  \n",
            " 1   ID                                                                                                                         4271 non-null   object \n",
            " 2   IDADE                                                                                                                      4197 non-null   float64\n",
            " 3   FAIXA IDADE                                                                                                                4271 non-null   object \n",
            " 4   GENERO                                                                                                                     4262 non-null   object \n",
            " 5   COR/RACA/ETNIA                                                                                                             4271 non-null   object \n",
            " 6   PCD                                                                                                                        4271 non-null   object \n",
            " 7   EXPERIENCIA_PROFISSIONAL_PREJUDICADA                                                                                       2190 non-null   object \n",
            " 8   ASPECTOS_PREJUDICADOS                                                                                                      837 non-null    object \n",
            " 9   VIVE_NO_BRASIL                                                                                                             4271 non-null   bool   \n",
            " 10  ESTADO ONDE MORA                                                                                                           4156 non-null   object \n",
            " 11  UF ONDE MORA                                                                                                               4156 non-null   object \n",
            " 12  REGIAO ONDE MORA                                                                                                           4171 non-null   object \n",
            " 13  MUDOU DE ESTADO?                                                                                                           4171 non-null   float64\n",
            " 14  REGIAO DE ORIGEM                                                                                                           772 non-null    object \n",
            " 15  NIVEL DE ENSINO                                                                                                            4271 non-null   object \n",
            " 16  ÁREA DE FORMAÇÃO                                                                                                           4149 non-null   object \n",
            " 17  QUAL SUA SITUAÇÃO ATUAL DE TRABALHO?                                                                                       4271 non-null   object \n",
            " 18  SETOR                                                                                                                      3694 non-null   object \n",
            " 19  NUMERO DE FUNCIONARIOS                                                                                                     3694 non-null   object \n",
            " 20  GESTOR?                                                                                                                    3694 non-null   float64\n",
            " 21  CARGO COMO GESTOR                                                                                                          713 non-null    object \n",
            " 22  CARGO ATUAL                                                                                                                2981 non-null   object \n",
            " 23  NIVEL                                                                                                                      2981 non-null   object \n",
            " 24  FAIXA SALARIAL                                                                                                             3694 non-null   object \n",
            " 25  QUANTO TEMPO DE EXPERIÊNCIA NA ÁREA DE DADOS VOCÊ TEM?                                                                     3694 non-null   object \n",
            " 26  QUANTO TEMPO DE EXPERIÊNCIA NA ÁREA DE TI/ENGENHARIA DE SOFTWARE VOCÊ TEVE ANTES DE COMEÇAR A TRABALHAR NA ÁREA DE DADOS?  3694 non-null   object \n",
            " 27  SALARIO                                                                                                                    3694 non-null   float64\n",
            "dtypes: bool(1), float64(4), int64(1), object(22)\n",
            "memory usage: 905.2+ KB\n"
          ]
        }
      ]
    },
    {
      "cell_type": "code",
      "source": [
        "#Existem diversas formas de se normalizar os valores nulos.\n",
        "#Podemos utilizar a média, mas atentos a valores discrepantes que pode inviesar a substituição\n",
        "#Podemos utilizar a mediana ou moda, com cuidado, pois ao utiliza-las podemos perder correlação que possam existir entre os dados\n",
        "#Ou por meio de modelos de machine learning, que são um pouco mais complexos"
      ],
      "metadata": {
        "id": "ckIuNw9vzLHT"
      },
      "execution_count": null,
      "outputs": []
    },
    {
      "cell_type": "code",
      "source": [
        "#agrupando as informações da coluna genero, incluindo os valores nulos com a função dropna=False, e fazendo a contagem pela coluna de id\n",
        "df.groupby('GENERO', dropna=False)['ID'].nunique()"
      ],
      "metadata": {
        "colab": {
          "base_uri": "https://localhost:8080/",
          "height": 241
        },
        "id": "fwLZJJE9zLZ2",
        "outputId": "6a593c68-6e85-4591-e7d7-5e09b4b94d25"
      },
      "execution_count": null,
      "outputs": [
        {
          "output_type": "execute_result",
          "data": {
            "text/plain": [
              "GENERO\n",
              "Feminino                1055\n",
              "Masculino               3194\n",
              "Prefiro não informar      12\n",
              "NaN                        9\n",
              "Name: ID, dtype: int64"
            ],
            "text/html": [
              "<div>\n",
              "<style scoped>\n",
              "    .dataframe tbody tr th:only-of-type {\n",
              "        vertical-align: middle;\n",
              "    }\n",
              "\n",
              "    .dataframe tbody tr th {\n",
              "        vertical-align: top;\n",
              "    }\n",
              "\n",
              "    .dataframe thead th {\n",
              "        text-align: right;\n",
              "    }\n",
              "</style>\n",
              "<table border=\"1\" class=\"dataframe\">\n",
              "  <thead>\n",
              "    <tr style=\"text-align: right;\">\n",
              "      <th></th>\n",
              "      <th>ID</th>\n",
              "    </tr>\n",
              "    <tr>\n",
              "      <th>GENERO</th>\n",
              "      <th></th>\n",
              "    </tr>\n",
              "  </thead>\n",
              "  <tbody>\n",
              "    <tr>\n",
              "      <th>Feminino</th>\n",
              "      <td>1055</td>\n",
              "    </tr>\n",
              "    <tr>\n",
              "      <th>Masculino</th>\n",
              "      <td>3194</td>\n",
              "    </tr>\n",
              "    <tr>\n",
              "      <th>Prefiro não informar</th>\n",
              "      <td>12</td>\n",
              "    </tr>\n",
              "    <tr>\n",
              "      <th>NaN</th>\n",
              "      <td>9</td>\n",
              "    </tr>\n",
              "  </tbody>\n",
              "</table>\n",
              "</div><br><label><b>dtype:</b> int64</label>"
            ]
          },
          "metadata": {},
          "execution_count": 29
        }
      ]
    },
    {
      "cell_type": "code",
      "source": [
        "#atribuindo alteraçoes a coluna de genero, seguido do uso da função fillna('Prefiro não informar'), que substituira os valores nulos pela inforção\n",
        "#descrita entre os parenteses\n",
        "df['GENERO'] = df['GENERO'].fillna('Prefiro não informar')\n",
        "print (df['GENERO'])"
      ],
      "metadata": {
        "colab": {
          "base_uri": "https://localhost:8080/"
        },
        "id": "fO9A2j_lzLsq",
        "outputId": "c36e274d-6e8b-4041-e62d-24ce09366e0c"
      },
      "execution_count": null,
      "outputs": [
        {
          "output_type": "stream",
          "name": "stdout",
          "text": [
            "0       Masculino\n",
            "1       Masculino\n",
            "2       Masculino\n",
            "3       Masculino\n",
            "4        Feminino\n",
            "          ...    \n",
            "4266    Masculino\n",
            "4267     Feminino\n",
            "4268    Masculino\n",
            "4269    Masculino\n",
            "4270    Masculino\n",
            "Name: GENERO, Length: 4271, dtype: object\n"
          ]
        }
      ]
    },
    {
      "cell_type": "code",
      "source": [
        "#agrupando novamente a coluna genero, agora com a alteração aplicada, sem os valores nulos.\n",
        "df.groupby('GENERO', dropna=False)['ID'].nunique()"
      ],
      "metadata": {
        "colab": {
          "base_uri": "https://localhost:8080/",
          "height": 210
        },
        "id": "7uA4NtITzL_F",
        "outputId": "7a95607d-63c1-49f0-c90e-c49340f91a4b"
      },
      "execution_count": null,
      "outputs": [
        {
          "output_type": "execute_result",
          "data": {
            "text/plain": [
              "GENERO\n",
              "Feminino                1055\n",
              "Masculino               3194\n",
              "Prefiro não informar      21\n",
              "Name: ID, dtype: int64"
            ],
            "text/html": [
              "<div>\n",
              "<style scoped>\n",
              "    .dataframe tbody tr th:only-of-type {\n",
              "        vertical-align: middle;\n",
              "    }\n",
              "\n",
              "    .dataframe tbody tr th {\n",
              "        vertical-align: top;\n",
              "    }\n",
              "\n",
              "    .dataframe thead th {\n",
              "        text-align: right;\n",
              "    }\n",
              "</style>\n",
              "<table border=\"1\" class=\"dataframe\">\n",
              "  <thead>\n",
              "    <tr style=\"text-align: right;\">\n",
              "      <th></th>\n",
              "      <th>ID</th>\n",
              "    </tr>\n",
              "    <tr>\n",
              "      <th>GENERO</th>\n",
              "      <th></th>\n",
              "    </tr>\n",
              "  </thead>\n",
              "  <tbody>\n",
              "    <tr>\n",
              "      <th>Feminino</th>\n",
              "      <td>1055</td>\n",
              "    </tr>\n",
              "    <tr>\n",
              "      <th>Masculino</th>\n",
              "      <td>3194</td>\n",
              "    </tr>\n",
              "    <tr>\n",
              "      <th>Prefiro não informar</th>\n",
              "      <td>21</td>\n",
              "    </tr>\n",
              "  </tbody>\n",
              "</table>\n",
              "</div><br><label><b>dtype:</b> int64</label>"
            ]
          },
          "metadata": {},
          "execution_count": 31
        }
      ]
    },
    {
      "cell_type": "code",
      "source": [
        "#mais uma forma de identificar os valores nulos e conta-los\n",
        "df['IDADE'].isnull().value_counts()"
      ],
      "metadata": {
        "colab": {
          "base_uri": "https://localhost:8080/",
          "height": 178
        },
        "id": "e5jXiTnjzMRk",
        "outputId": "7949a881-8499-41b3-89ac-0119c228b6f8"
      },
      "execution_count": null,
      "outputs": [
        {
          "output_type": "execute_result",
          "data": {
            "text/plain": [
              "IDADE\n",
              "False    4197\n",
              "True       74\n",
              "Name: count, dtype: int64"
            ],
            "text/html": [
              "<div>\n",
              "<style scoped>\n",
              "    .dataframe tbody tr th:only-of-type {\n",
              "        vertical-align: middle;\n",
              "    }\n",
              "\n",
              "    .dataframe tbody tr th {\n",
              "        vertical-align: top;\n",
              "    }\n",
              "\n",
              "    .dataframe thead th {\n",
              "        text-align: right;\n",
              "    }\n",
              "</style>\n",
              "<table border=\"1\" class=\"dataframe\">\n",
              "  <thead>\n",
              "    <tr style=\"text-align: right;\">\n",
              "      <th></th>\n",
              "      <th>count</th>\n",
              "    </tr>\n",
              "    <tr>\n",
              "      <th>IDADE</th>\n",
              "      <th></th>\n",
              "    </tr>\n",
              "  </thead>\n",
              "  <tbody>\n",
              "    <tr>\n",
              "      <th>False</th>\n",
              "      <td>4197</td>\n",
              "    </tr>\n",
              "    <tr>\n",
              "      <th>True</th>\n",
              "      <td>74</td>\n",
              "    </tr>\n",
              "  </tbody>\n",
              "</table>\n",
              "</div><br><label><b>dtype:</b> int64</label>"
            ]
          },
          "metadata": {},
          "execution_count": 32
        }
      ]
    },
    {
      "cell_type": "code",
      "source": [
        "#localizando e contando na idade coluna com base na coluna faixa de idade, aquelas que possuem valores nulos\n",
        "df[df['IDADE'].isnull()]['FAIXA IDADE'].value_counts()"
      ],
      "metadata": {
        "colab": {
          "base_uri": "https://localhost:8080/",
          "height": 178
        },
        "id": "yS6-lZ7HzMi8",
        "outputId": "959aa44b-d46e-44d4-b577-b0e3b4c56177"
      },
      "execution_count": null,
      "outputs": [
        {
          "output_type": "execute_result",
          "data": {
            "text/plain": [
              "FAIXA IDADE\n",
              "55+      68\n",
              "17-21     6\n",
              "Name: count, dtype: int64"
            ],
            "text/html": [
              "<div>\n",
              "<style scoped>\n",
              "    .dataframe tbody tr th:only-of-type {\n",
              "        vertical-align: middle;\n",
              "    }\n",
              "\n",
              "    .dataframe tbody tr th {\n",
              "        vertical-align: top;\n",
              "    }\n",
              "\n",
              "    .dataframe thead th {\n",
              "        text-align: right;\n",
              "    }\n",
              "</style>\n",
              "<table border=\"1\" class=\"dataframe\">\n",
              "  <thead>\n",
              "    <tr style=\"text-align: right;\">\n",
              "      <th></th>\n",
              "      <th>count</th>\n",
              "    </tr>\n",
              "    <tr>\n",
              "      <th>FAIXA IDADE</th>\n",
              "      <th></th>\n",
              "    </tr>\n",
              "  </thead>\n",
              "  <tbody>\n",
              "    <tr>\n",
              "      <th>55+</th>\n",
              "      <td>68</td>\n",
              "    </tr>\n",
              "    <tr>\n",
              "      <th>17-21</th>\n",
              "      <td>6</td>\n",
              "    </tr>\n",
              "  </tbody>\n",
              "</table>\n",
              "</div><br><label><b>dtype:</b> int64</label>"
            ]
          },
          "metadata": {},
          "execution_count": 33
        }
      ]
    },
    {
      "cell_type": "code",
      "source": [
        "#criando uma função que calcula a média da faixa de idade 17_21 para substituir os valores nulos\n",
        "media_17_21 = df[df['FAIXA IDADE']=='17-21']['IDADE'].mean()"
      ],
      "metadata": {
        "id": "IKjx4Rc1zM2D"
      },
      "execution_count": null,
      "outputs": []
    },
    {
      "cell_type": "code",
      "source": [
        "#usando a função loc para localizar os valores nulos em idade com base na faixa de idade e substituindo-os pela a média calculada criada anteriormente\n",
        "df.loc[(df['FAIXA IDADE'] == '17-21') & (df['IDADE'].isnull()), 'IDADE'] = media_17_21"
      ],
      "metadata": {
        "id": "-s9CfPu4zgxa"
      },
      "execution_count": null,
      "outputs": []
    },
    {
      "cell_type": "code",
      "source": [
        "#fazendo o mesmo processo para os participantes 55+\n",
        "#aqui é possível analisar que nenhum dos participantes 55+ colocaram sua idade, o que pode demonstar um certo receio com o assunto em questão\n",
        "df[df['FAIXA IDADE']=='55+']['IDADE']"
      ],
      "metadata": {
        "colab": {
          "base_uri": "https://localhost:8080/",
          "height": 458
        },
        "id": "KozACRAwzhEB",
        "outputId": "9c20f788-325a-456a-8b8e-e61bff4a04a8"
      },
      "execution_count": null,
      "outputs": [
        {
          "output_type": "execute_result",
          "data": {
            "text/plain": [
              "9      NaN\n",
              "66     NaN\n",
              "96     NaN\n",
              "121    NaN\n",
              "156    NaN\n",
              "        ..\n",
              "4001   NaN\n",
              "4043   NaN\n",
              "4048   NaN\n",
              "4061   NaN\n",
              "4215   NaN\n",
              "Name: IDADE, Length: 68, dtype: float64"
            ],
            "text/html": [
              "<div>\n",
              "<style scoped>\n",
              "    .dataframe tbody tr th:only-of-type {\n",
              "        vertical-align: middle;\n",
              "    }\n",
              "\n",
              "    .dataframe tbody tr th {\n",
              "        vertical-align: top;\n",
              "    }\n",
              "\n",
              "    .dataframe thead th {\n",
              "        text-align: right;\n",
              "    }\n",
              "</style>\n",
              "<table border=\"1\" class=\"dataframe\">\n",
              "  <thead>\n",
              "    <tr style=\"text-align: right;\">\n",
              "      <th></th>\n",
              "      <th>IDADE</th>\n",
              "    </tr>\n",
              "  </thead>\n",
              "  <tbody>\n",
              "    <tr>\n",
              "      <th>9</th>\n",
              "      <td>NaN</td>\n",
              "    </tr>\n",
              "    <tr>\n",
              "      <th>66</th>\n",
              "      <td>NaN</td>\n",
              "    </tr>\n",
              "    <tr>\n",
              "      <th>96</th>\n",
              "      <td>NaN</td>\n",
              "    </tr>\n",
              "    <tr>\n",
              "      <th>121</th>\n",
              "      <td>NaN</td>\n",
              "    </tr>\n",
              "    <tr>\n",
              "      <th>156</th>\n",
              "      <td>NaN</td>\n",
              "    </tr>\n",
              "    <tr>\n",
              "      <th>...</th>\n",
              "      <td>...</td>\n",
              "    </tr>\n",
              "    <tr>\n",
              "      <th>4001</th>\n",
              "      <td>NaN</td>\n",
              "    </tr>\n",
              "    <tr>\n",
              "      <th>4043</th>\n",
              "      <td>NaN</td>\n",
              "    </tr>\n",
              "    <tr>\n",
              "      <th>4048</th>\n",
              "      <td>NaN</td>\n",
              "    </tr>\n",
              "    <tr>\n",
              "      <th>4061</th>\n",
              "      <td>NaN</td>\n",
              "    </tr>\n",
              "    <tr>\n",
              "      <th>4215</th>\n",
              "      <td>NaN</td>\n",
              "    </tr>\n",
              "  </tbody>\n",
              "</table>\n",
              "<p>68 rows × 1 columns</p>\n",
              "</div><br><label><b>dtype:</b> float64</label>"
            ]
          },
          "metadata": {},
          "execution_count": 36
        }
      ]
    },
    {
      "cell_type": "code",
      "source": [
        "#para entender melhor, vamos agora analisar qual o nível de senioridade dos 55+, para entender um pouco melhor a ausencia das informações anteriores\n",
        "df[df['FAIXA IDADE']=='55+']['NIVEL'].value_counts()"
      ],
      "metadata": {
        "colab": {
          "base_uri": "https://localhost:8080/",
          "height": 210
        },
        "id": "sN3LU6gDzhWh",
        "outputId": "a7402df7-3663-46dd-d467-c62d49532cf1"
      },
      "execution_count": null,
      "outputs": [
        {
          "output_type": "execute_result",
          "data": {
            "text/plain": [
              "NIVEL\n",
              "Sênior    15\n",
              "Júnior    10\n",
              "Pleno      9\n",
              "Name: count, dtype: int64"
            ],
            "text/html": [
              "<div>\n",
              "<style scoped>\n",
              "    .dataframe tbody tr th:only-of-type {\n",
              "        vertical-align: middle;\n",
              "    }\n",
              "\n",
              "    .dataframe tbody tr th {\n",
              "        vertical-align: top;\n",
              "    }\n",
              "\n",
              "    .dataframe thead th {\n",
              "        text-align: right;\n",
              "    }\n",
              "</style>\n",
              "<table border=\"1\" class=\"dataframe\">\n",
              "  <thead>\n",
              "    <tr style=\"text-align: right;\">\n",
              "      <th></th>\n",
              "      <th>count</th>\n",
              "    </tr>\n",
              "    <tr>\n",
              "      <th>NIVEL</th>\n",
              "      <th></th>\n",
              "    </tr>\n",
              "  </thead>\n",
              "  <tbody>\n",
              "    <tr>\n",
              "      <th>Sênior</th>\n",
              "      <td>15</td>\n",
              "    </tr>\n",
              "    <tr>\n",
              "      <th>Júnior</th>\n",
              "      <td>10</td>\n",
              "    </tr>\n",
              "    <tr>\n",
              "      <th>Pleno</th>\n",
              "      <td>9</td>\n",
              "    </tr>\n",
              "  </tbody>\n",
              "</table>\n",
              "</div><br><label><b>dtype:</b> int64</label>"
            ]
          },
          "metadata": {},
          "execution_count": 37
        }
      ]
    },
    {
      "cell_type": "code",
      "source": [
        "#como a analise anterior não foi conclusiva, iremos utilizar uma outra abordagem, criaremos uma função que calcule o valor da média geral de idades\n",
        "#para assim conseguir substituir os valores nulos\n",
        "media_geral=df['IDADE'].mean()\n",
        "media_geral"
      ],
      "metadata": {
        "colab": {
          "base_uri": "https://localhost:8080/"
        },
        "id": "Cy40WoCczhqU",
        "outputId": "d9e754b2-475d-49f7-90a3-4d4dea3bfa2b"
      },
      "execution_count": null,
      "outputs": [
        {
          "output_type": "execute_result",
          "data": {
            "text/plain": [
              "31.153517220250375"
            ]
          },
          "metadata": {},
          "execution_count": 38
        }
      ]
    },
    {
      "cell_type": "code",
      "source": [
        "#usando a função loc para localizar os valores nulos em idade com base na faixa de idade e substituindo-os pela a média calculada criada anteriormente\n",
        "df.loc[(df['FAIXA IDADE']=='55+') & (df['IDADE'].isnull()), 'IDADE'] = media_geral"
      ],
      "metadata": {
        "id": "bCvMJ3Vozh5Y"
      },
      "execution_count": null,
      "outputs": []
    },
    {
      "cell_type": "code",
      "source": [
        "#todos os valores nulos foram substituidos\n",
        "df[df['IDADE'].isnull()]['FAIXA IDADE'].value_counts()"
      ],
      "metadata": {
        "colab": {
          "base_uri": "https://localhost:8080/",
          "height": 115
        },
        "id": "jHwVygkxziLM",
        "outputId": "21556761-5618-43a7-f049-17e4494ebcd5"
      },
      "execution_count": null,
      "outputs": [
        {
          "output_type": "execute_result",
          "data": {
            "text/plain": [
              "Series([], Name: count, dtype: int64)"
            ],
            "text/html": [
              "<div>\n",
              "<style scoped>\n",
              "    .dataframe tbody tr th:only-of-type {\n",
              "        vertical-align: middle;\n",
              "    }\n",
              "\n",
              "    .dataframe tbody tr th {\n",
              "        vertical-align: top;\n",
              "    }\n",
              "\n",
              "    .dataframe thead th {\n",
              "        text-align: right;\n",
              "    }\n",
              "</style>\n",
              "<table border=\"1\" class=\"dataframe\">\n",
              "  <thead>\n",
              "    <tr style=\"text-align: right;\">\n",
              "      <th></th>\n",
              "      <th>count</th>\n",
              "    </tr>\n",
              "    <tr>\n",
              "      <th>FAIXA IDADE</th>\n",
              "      <th></th>\n",
              "    </tr>\n",
              "  </thead>\n",
              "  <tbody>\n",
              "  </tbody>\n",
              "</table>\n",
              "</div><br><label><b>dtype:</b> int64</label>"
            ]
          },
          "metadata": {},
          "execution_count": 40
        }
      ]
    },
    {
      "cell_type": "code",
      "source": [
        "#tratando a coluna salários, identificando a quantidade de valores nulos\n",
        "df[df['SALARIO'].isnull()]"
      ],
      "metadata": {
        "colab": {
          "base_uri": "https://localhost:8080/",
          "height": 774
        },
        "id": "T2cwP3Atzib5",
        "outputId": "fe1b4cc4-d275-4b9c-c71d-8f1cebdd1eec"
      },
      "execution_count": null,
      "outputs": [
        {
          "output_type": "execute_result",
          "data": {
            "text/plain": [
              "      Unnamed: 0                                ID  IDADE FAIXA IDADE  \\\n",
              "12            12  zwr9hqcpg513kaopenzwr9hibaqmldto   31.0       30-34   \n",
              "28            28  ztgepgj82o9oix0nztgepq2trcay6gpv   24.0       22-24   \n",
              "34            34  zsa9i6njd3e594mw0tvlk4zsa9iw86i9   24.0       22-24   \n",
              "39            39  zr4b2vm7dapp3linwqwn7zr4b2vmagqx   32.0       30-34   \n",
              "63            63  zm7o5yquakof0j6zm7vh3o0letznhdvh   26.0       25-29   \n",
              "...          ...                               ...    ...         ...   \n",
              "4242        4242  09oxwp6lsdwhw09ox1uobuxa8cq2pzma   26.0       25-29   \n",
              "4252        4252  064pe9b1htw7mflhif064pe95dotv6yf   39.0       35-39   \n",
              "4258        4258  03zjgijmnwv9qrlzbr03zjgij1eae1hw   25.0       25-29   \n",
              "4260        4260  03atvow8404tatt2iixjds03atvownkz   36.0       35-39   \n",
              "4261        4261  02xomoejng6c9152kde02xomww412qpg   33.0       30-34   \n",
              "\n",
              "         GENERO COR/RACA/ETNIA  PCD  \\\n",
              "12    Masculino         Branca  Não   \n",
              "28     Feminino          Parda  Não   \n",
              "34     Feminino         Branca  Não   \n",
              "39    Masculino          Parda  Não   \n",
              "63    Masculino         Branca  Não   \n",
              "...         ...            ...  ...   \n",
              "4242  Masculino         Branca  Não   \n",
              "4252  Masculino          Parda  Não   \n",
              "4258   Feminino         Branca  Não   \n",
              "4260  Masculino          Parda  Não   \n",
              "4261  Masculino         Branca  Não   \n",
              "\n",
              "                   EXPERIENCIA_PROFISSIONAL_PREJUDICADA  \\\n",
              "12                                                  NaN   \n",
              "28    Sim, acredito que a minha a experiência profis...   \n",
              "34    Sim, acredito que a minha a experiência profis...   \n",
              "39    Não acredito que minha experiência profissiona...   \n",
              "63                                                  NaN   \n",
              "...                                                 ...   \n",
              "4242                                                NaN   \n",
              "4252  Não acredito que minha experiência profissiona...   \n",
              "4258  Sim, acredito que a minha a experiência profis...   \n",
              "4260  Não acredito que minha experiência profissiona...   \n",
              "4261                                                NaN   \n",
              "\n",
              "                                  ASPECTOS_PREJUDICADOS  VIVE_NO_BRASIL  ...  \\\n",
              "12                                                  NaN            True  ...   \n",
              "28         Aprovação em processos seletivos/entrevistas            True  ...   \n",
              "34    Quantidade de oportunidades de emprego/vagas r...            True  ...   \n",
              "39                                                  NaN            True  ...   \n",
              "63                                                  NaN            True  ...   \n",
              "...                                                 ...             ...  ...   \n",
              "4242                                                NaN            True  ...   \n",
              "4252                                                NaN            True  ...   \n",
              "4258  Senioridade das vagas recebidas em relação à s...            True  ...   \n",
              "4260                                                NaN            True  ...   \n",
              "4261                                                NaN            True  ...   \n",
              "\n",
              "     SETOR NUMERO DE FUNCIONARIOS GESTOR?  CARGO COMO GESTOR CARGO ATUAL  \\\n",
              "12     NaN                    NaN     NaN                NaN         NaN   \n",
              "28     NaN                    NaN     NaN                NaN         NaN   \n",
              "34     NaN                    NaN     NaN                NaN         NaN   \n",
              "39     NaN                    NaN     NaN                NaN         NaN   \n",
              "63     NaN                    NaN     NaN                NaN         NaN   \n",
              "...    ...                    ...     ...                ...         ...   \n",
              "4242   NaN                    NaN     NaN                NaN         NaN   \n",
              "4252   NaN                    NaN     NaN                NaN         NaN   \n",
              "4258   NaN                    NaN     NaN                NaN         NaN   \n",
              "4260   NaN                    NaN     NaN                NaN         NaN   \n",
              "4261   NaN                    NaN     NaN                NaN         NaN   \n",
              "\n",
              "     NIVEL FAIXA SALARIAL  \\\n",
              "12     NaN            NaN   \n",
              "28     NaN            NaN   \n",
              "34     NaN            NaN   \n",
              "39     NaN            NaN   \n",
              "63     NaN            NaN   \n",
              "...    ...            ...   \n",
              "4242   NaN            NaN   \n",
              "4252   NaN            NaN   \n",
              "4258   NaN            NaN   \n",
              "4260   NaN            NaN   \n",
              "4261   NaN            NaN   \n",
              "\n",
              "     QUANTO TEMPO DE EXPERIÊNCIA NA ÁREA DE DADOS VOCÊ TEM?  \\\n",
              "12                                                  NaN       \n",
              "28                                                  NaN       \n",
              "34                                                  NaN       \n",
              "39                                                  NaN       \n",
              "63                                                  NaN       \n",
              "...                                                 ...       \n",
              "4242                                                NaN       \n",
              "4252                                                NaN       \n",
              "4258                                                NaN       \n",
              "4260                                                NaN       \n",
              "4261                                                NaN       \n",
              "\n",
              "     QUANTO TEMPO DE EXPERIÊNCIA NA ÁREA DE TI/ENGENHARIA DE SOFTWARE VOCÊ TEVE ANTES DE COMEÇAR A TRABALHAR NA ÁREA DE DADOS?  \\\n",
              "12                                                  NaN                                                                          \n",
              "28                                                  NaN                                                                          \n",
              "34                                                  NaN                                                                          \n",
              "39                                                  NaN                                                                          \n",
              "63                                                  NaN                                                                          \n",
              "...                                                 ...                                                                          \n",
              "4242                                                NaN                                                                          \n",
              "4252                                                NaN                                                                          \n",
              "4258                                                NaN                                                                          \n",
              "4260                                                NaN                                                                          \n",
              "4261                                                NaN                                                                          \n",
              "\n",
              "     SALARIO  \n",
              "12       NaN  \n",
              "28       NaN  \n",
              "34       NaN  \n",
              "39       NaN  \n",
              "63       NaN  \n",
              "...      ...  \n",
              "4242     NaN  \n",
              "4252     NaN  \n",
              "4258     NaN  \n",
              "4260     NaN  \n",
              "4261     NaN  \n",
              "\n",
              "[577 rows x 28 columns]"
            ],
            "text/html": [
              "\n",
              "  <div id=\"df-6eb1397f-5708-41b7-a8c3-62564b7ccde9\" class=\"colab-df-container\">\n",
              "    <div>\n",
              "<style scoped>\n",
              "    .dataframe tbody tr th:only-of-type {\n",
              "        vertical-align: middle;\n",
              "    }\n",
              "\n",
              "    .dataframe tbody tr th {\n",
              "        vertical-align: top;\n",
              "    }\n",
              "\n",
              "    .dataframe thead th {\n",
              "        text-align: right;\n",
              "    }\n",
              "</style>\n",
              "<table border=\"1\" class=\"dataframe\">\n",
              "  <thead>\n",
              "    <tr style=\"text-align: right;\">\n",
              "      <th></th>\n",
              "      <th>Unnamed: 0</th>\n",
              "      <th>ID</th>\n",
              "      <th>IDADE</th>\n",
              "      <th>FAIXA IDADE</th>\n",
              "      <th>GENERO</th>\n",
              "      <th>COR/RACA/ETNIA</th>\n",
              "      <th>PCD</th>\n",
              "      <th>EXPERIENCIA_PROFISSIONAL_PREJUDICADA</th>\n",
              "      <th>ASPECTOS_PREJUDICADOS</th>\n",
              "      <th>VIVE_NO_BRASIL</th>\n",
              "      <th>...</th>\n",
              "      <th>SETOR</th>\n",
              "      <th>NUMERO DE FUNCIONARIOS</th>\n",
              "      <th>GESTOR?</th>\n",
              "      <th>CARGO COMO GESTOR</th>\n",
              "      <th>CARGO ATUAL</th>\n",
              "      <th>NIVEL</th>\n",
              "      <th>FAIXA SALARIAL</th>\n",
              "      <th>QUANTO TEMPO DE EXPERIÊNCIA NA ÁREA DE DADOS VOCÊ TEM?</th>\n",
              "      <th>QUANTO TEMPO DE EXPERIÊNCIA NA ÁREA DE TI/ENGENHARIA DE SOFTWARE VOCÊ TEVE ANTES DE COMEÇAR A TRABALHAR NA ÁREA DE DADOS?</th>\n",
              "      <th>SALARIO</th>\n",
              "    </tr>\n",
              "  </thead>\n",
              "  <tbody>\n",
              "    <tr>\n",
              "      <th>12</th>\n",
              "      <td>12</td>\n",
              "      <td>zwr9hqcpg513kaopenzwr9hibaqmldto</td>\n",
              "      <td>31.0</td>\n",
              "      <td>30-34</td>\n",
              "      <td>Masculino</td>\n",
              "      <td>Branca</td>\n",
              "      <td>Não</td>\n",
              "      <td>NaN</td>\n",
              "      <td>NaN</td>\n",
              "      <td>True</td>\n",
              "      <td>...</td>\n",
              "      <td>NaN</td>\n",
              "      <td>NaN</td>\n",
              "      <td>NaN</td>\n",
              "      <td>NaN</td>\n",
              "      <td>NaN</td>\n",
              "      <td>NaN</td>\n",
              "      <td>NaN</td>\n",
              "      <td>NaN</td>\n",
              "      <td>NaN</td>\n",
              "      <td>NaN</td>\n",
              "    </tr>\n",
              "    <tr>\n",
              "      <th>28</th>\n",
              "      <td>28</td>\n",
              "      <td>ztgepgj82o9oix0nztgepq2trcay6gpv</td>\n",
              "      <td>24.0</td>\n",
              "      <td>22-24</td>\n",
              "      <td>Feminino</td>\n",
              "      <td>Parda</td>\n",
              "      <td>Não</td>\n",
              "      <td>Sim, acredito que a minha a experiência profis...</td>\n",
              "      <td>Aprovação em processos seletivos/entrevistas</td>\n",
              "      <td>True</td>\n",
              "      <td>...</td>\n",
              "      <td>NaN</td>\n",
              "      <td>NaN</td>\n",
              "      <td>NaN</td>\n",
              "      <td>NaN</td>\n",
              "      <td>NaN</td>\n",
              "      <td>NaN</td>\n",
              "      <td>NaN</td>\n",
              "      <td>NaN</td>\n",
              "      <td>NaN</td>\n",
              "      <td>NaN</td>\n",
              "    </tr>\n",
              "    <tr>\n",
              "      <th>34</th>\n",
              "      <td>34</td>\n",
              "      <td>zsa9i6njd3e594mw0tvlk4zsa9iw86i9</td>\n",
              "      <td>24.0</td>\n",
              "      <td>22-24</td>\n",
              "      <td>Feminino</td>\n",
              "      <td>Branca</td>\n",
              "      <td>Não</td>\n",
              "      <td>Sim, acredito que a minha a experiência profis...</td>\n",
              "      <td>Quantidade de oportunidades de emprego/vagas r...</td>\n",
              "      <td>True</td>\n",
              "      <td>...</td>\n",
              "      <td>NaN</td>\n",
              "      <td>NaN</td>\n",
              "      <td>NaN</td>\n",
              "      <td>NaN</td>\n",
              "      <td>NaN</td>\n",
              "      <td>NaN</td>\n",
              "      <td>NaN</td>\n",
              "      <td>NaN</td>\n",
              "      <td>NaN</td>\n",
              "      <td>NaN</td>\n",
              "    </tr>\n",
              "    <tr>\n",
              "      <th>39</th>\n",
              "      <td>39</td>\n",
              "      <td>zr4b2vm7dapp3linwqwn7zr4b2vmagqx</td>\n",
              "      <td>32.0</td>\n",
              "      <td>30-34</td>\n",
              "      <td>Masculino</td>\n",
              "      <td>Parda</td>\n",
              "      <td>Não</td>\n",
              "      <td>Não acredito que minha experiência profissiona...</td>\n",
              "      <td>NaN</td>\n",
              "      <td>True</td>\n",
              "      <td>...</td>\n",
              "      <td>NaN</td>\n",
              "      <td>NaN</td>\n",
              "      <td>NaN</td>\n",
              "      <td>NaN</td>\n",
              "      <td>NaN</td>\n",
              "      <td>NaN</td>\n",
              "      <td>NaN</td>\n",
              "      <td>NaN</td>\n",
              "      <td>NaN</td>\n",
              "      <td>NaN</td>\n",
              "    </tr>\n",
              "    <tr>\n",
              "      <th>63</th>\n",
              "      <td>63</td>\n",
              "      <td>zm7o5yquakof0j6zm7vh3o0letznhdvh</td>\n",
              "      <td>26.0</td>\n",
              "      <td>25-29</td>\n",
              "      <td>Masculino</td>\n",
              "      <td>Branca</td>\n",
              "      <td>Não</td>\n",
              "      <td>NaN</td>\n",
              "      <td>NaN</td>\n",
              "      <td>True</td>\n",
              "      <td>...</td>\n",
              "      <td>NaN</td>\n",
              "      <td>NaN</td>\n",
              "      <td>NaN</td>\n",
              "      <td>NaN</td>\n",
              "      <td>NaN</td>\n",
              "      <td>NaN</td>\n",
              "      <td>NaN</td>\n",
              "      <td>NaN</td>\n",
              "      <td>NaN</td>\n",
              "      <td>NaN</td>\n",
              "    </tr>\n",
              "    <tr>\n",
              "      <th>...</th>\n",
              "      <td>...</td>\n",
              "      <td>...</td>\n",
              "      <td>...</td>\n",
              "      <td>...</td>\n",
              "      <td>...</td>\n",
              "      <td>...</td>\n",
              "      <td>...</td>\n",
              "      <td>...</td>\n",
              "      <td>...</td>\n",
              "      <td>...</td>\n",
              "      <td>...</td>\n",
              "      <td>...</td>\n",
              "      <td>...</td>\n",
              "      <td>...</td>\n",
              "      <td>...</td>\n",
              "      <td>...</td>\n",
              "      <td>...</td>\n",
              "      <td>...</td>\n",
              "      <td>...</td>\n",
              "      <td>...</td>\n",
              "      <td>...</td>\n",
              "    </tr>\n",
              "    <tr>\n",
              "      <th>4242</th>\n",
              "      <td>4242</td>\n",
              "      <td>09oxwp6lsdwhw09ox1uobuxa8cq2pzma</td>\n",
              "      <td>26.0</td>\n",
              "      <td>25-29</td>\n",
              "      <td>Masculino</td>\n",
              "      <td>Branca</td>\n",
              "      <td>Não</td>\n",
              "      <td>NaN</td>\n",
              "      <td>NaN</td>\n",
              "      <td>True</td>\n",
              "      <td>...</td>\n",
              "      <td>NaN</td>\n",
              "      <td>NaN</td>\n",
              "      <td>NaN</td>\n",
              "      <td>NaN</td>\n",
              "      <td>NaN</td>\n",
              "      <td>NaN</td>\n",
              "      <td>NaN</td>\n",
              "      <td>NaN</td>\n",
              "      <td>NaN</td>\n",
              "      <td>NaN</td>\n",
              "    </tr>\n",
              "    <tr>\n",
              "      <th>4252</th>\n",
              "      <td>4252</td>\n",
              "      <td>064pe9b1htw7mflhif064pe95dotv6yf</td>\n",
              "      <td>39.0</td>\n",
              "      <td>35-39</td>\n",
              "      <td>Masculino</td>\n",
              "      <td>Parda</td>\n",
              "      <td>Não</td>\n",
              "      <td>Não acredito que minha experiência profissiona...</td>\n",
              "      <td>NaN</td>\n",
              "      <td>True</td>\n",
              "      <td>...</td>\n",
              "      <td>NaN</td>\n",
              "      <td>NaN</td>\n",
              "      <td>NaN</td>\n",
              "      <td>NaN</td>\n",
              "      <td>NaN</td>\n",
              "      <td>NaN</td>\n",
              "      <td>NaN</td>\n",
              "      <td>NaN</td>\n",
              "      <td>NaN</td>\n",
              "      <td>NaN</td>\n",
              "    </tr>\n",
              "    <tr>\n",
              "      <th>4258</th>\n",
              "      <td>4258</td>\n",
              "      <td>03zjgijmnwv9qrlzbr03zjgij1eae1hw</td>\n",
              "      <td>25.0</td>\n",
              "      <td>25-29</td>\n",
              "      <td>Feminino</td>\n",
              "      <td>Branca</td>\n",
              "      <td>Não</td>\n",
              "      <td>Sim, acredito que a minha a experiência profis...</td>\n",
              "      <td>Senioridade das vagas recebidas em relação à s...</td>\n",
              "      <td>True</td>\n",
              "      <td>...</td>\n",
              "      <td>NaN</td>\n",
              "      <td>NaN</td>\n",
              "      <td>NaN</td>\n",
              "      <td>NaN</td>\n",
              "      <td>NaN</td>\n",
              "      <td>NaN</td>\n",
              "      <td>NaN</td>\n",
              "      <td>NaN</td>\n",
              "      <td>NaN</td>\n",
              "      <td>NaN</td>\n",
              "    </tr>\n",
              "    <tr>\n",
              "      <th>4260</th>\n",
              "      <td>4260</td>\n",
              "      <td>03atvow8404tatt2iixjds03atvownkz</td>\n",
              "      <td>36.0</td>\n",
              "      <td>35-39</td>\n",
              "      <td>Masculino</td>\n",
              "      <td>Parda</td>\n",
              "      <td>Não</td>\n",
              "      <td>Não acredito que minha experiência profissiona...</td>\n",
              "      <td>NaN</td>\n",
              "      <td>True</td>\n",
              "      <td>...</td>\n",
              "      <td>NaN</td>\n",
              "      <td>NaN</td>\n",
              "      <td>NaN</td>\n",
              "      <td>NaN</td>\n",
              "      <td>NaN</td>\n",
              "      <td>NaN</td>\n",
              "      <td>NaN</td>\n",
              "      <td>NaN</td>\n",
              "      <td>NaN</td>\n",
              "      <td>NaN</td>\n",
              "    </tr>\n",
              "    <tr>\n",
              "      <th>4261</th>\n",
              "      <td>4261</td>\n",
              "      <td>02xomoejng6c9152kde02xomww412qpg</td>\n",
              "      <td>33.0</td>\n",
              "      <td>30-34</td>\n",
              "      <td>Masculino</td>\n",
              "      <td>Branca</td>\n",
              "      <td>Não</td>\n",
              "      <td>NaN</td>\n",
              "      <td>NaN</td>\n",
              "      <td>True</td>\n",
              "      <td>...</td>\n",
              "      <td>NaN</td>\n",
              "      <td>NaN</td>\n",
              "      <td>NaN</td>\n",
              "      <td>NaN</td>\n",
              "      <td>NaN</td>\n",
              "      <td>NaN</td>\n",
              "      <td>NaN</td>\n",
              "      <td>NaN</td>\n",
              "      <td>NaN</td>\n",
              "      <td>NaN</td>\n",
              "    </tr>\n",
              "  </tbody>\n",
              "</table>\n",
              "<p>577 rows × 28 columns</p>\n",
              "</div>\n",
              "    <div class=\"colab-df-buttons\">\n",
              "\n",
              "  <div class=\"colab-df-container\">\n",
              "    <button class=\"colab-df-convert\" onclick=\"convertToInteractive('df-6eb1397f-5708-41b7-a8c3-62564b7ccde9')\"\n",
              "            title=\"Convert this dataframe to an interactive table.\"\n",
              "            style=\"display:none;\">\n",
              "\n",
              "  <svg xmlns=\"http://www.w3.org/2000/svg\" height=\"24px\" viewBox=\"0 -960 960 960\">\n",
              "    <path d=\"M120-120v-720h720v720H120Zm60-500h600v-160H180v160Zm220 220h160v-160H400v160Zm0 220h160v-160H400v160ZM180-400h160v-160H180v160Zm440 0h160v-160H620v160ZM180-180h160v-160H180v160Zm440 0h160v-160H620v160Z\"/>\n",
              "  </svg>\n",
              "    </button>\n",
              "\n",
              "  <style>\n",
              "    .colab-df-container {\n",
              "      display:flex;\n",
              "      gap: 12px;\n",
              "    }\n",
              "\n",
              "    .colab-df-convert {\n",
              "      background-color: #E8F0FE;\n",
              "      border: none;\n",
              "      border-radius: 50%;\n",
              "      cursor: pointer;\n",
              "      display: none;\n",
              "      fill: #1967D2;\n",
              "      height: 32px;\n",
              "      padding: 0 0 0 0;\n",
              "      width: 32px;\n",
              "    }\n",
              "\n",
              "    .colab-df-convert:hover {\n",
              "      background-color: #E2EBFA;\n",
              "      box-shadow: 0px 1px 2px rgba(60, 64, 67, 0.3), 0px 1px 3px 1px rgba(60, 64, 67, 0.15);\n",
              "      fill: #174EA6;\n",
              "    }\n",
              "\n",
              "    .colab-df-buttons div {\n",
              "      margin-bottom: 4px;\n",
              "    }\n",
              "\n",
              "    [theme=dark] .colab-df-convert {\n",
              "      background-color: #3B4455;\n",
              "      fill: #D2E3FC;\n",
              "    }\n",
              "\n",
              "    [theme=dark] .colab-df-convert:hover {\n",
              "      background-color: #434B5C;\n",
              "      box-shadow: 0px 1px 3px 1px rgba(0, 0, 0, 0.15);\n",
              "      filter: drop-shadow(0px 1px 2px rgba(0, 0, 0, 0.3));\n",
              "      fill: #FFFFFF;\n",
              "    }\n",
              "  </style>\n",
              "\n",
              "    <script>\n",
              "      const buttonEl =\n",
              "        document.querySelector('#df-6eb1397f-5708-41b7-a8c3-62564b7ccde9 button.colab-df-convert');\n",
              "      buttonEl.style.display =\n",
              "        google.colab.kernel.accessAllowed ? 'block' : 'none';\n",
              "\n",
              "      async function convertToInteractive(key) {\n",
              "        const element = document.querySelector('#df-6eb1397f-5708-41b7-a8c3-62564b7ccde9');\n",
              "        const dataTable =\n",
              "          await google.colab.kernel.invokeFunction('convertToInteractive',\n",
              "                                                    [key], {});\n",
              "        if (!dataTable) return;\n",
              "\n",
              "        const docLinkHtml = 'Like what you see? Visit the ' +\n",
              "          '<a target=\"_blank\" href=https://colab.research.google.com/notebooks/data_table.ipynb>data table notebook</a>'\n",
              "          + ' to learn more about interactive tables.';\n",
              "        element.innerHTML = '';\n",
              "        dataTable['output_type'] = 'display_data';\n",
              "        await google.colab.output.renderOutput(dataTable, element);\n",
              "        const docLink = document.createElement('div');\n",
              "        docLink.innerHTML = docLinkHtml;\n",
              "        element.appendChild(docLink);\n",
              "      }\n",
              "    </script>\n",
              "  </div>\n",
              "\n",
              "\n",
              "<div id=\"df-52a84e8c-7098-4c17-9f66-dac03bcba868\">\n",
              "  <button class=\"colab-df-quickchart\" onclick=\"quickchart('df-52a84e8c-7098-4c17-9f66-dac03bcba868')\"\n",
              "            title=\"Suggest charts\"\n",
              "            style=\"display:none;\">\n",
              "\n",
              "<svg xmlns=\"http://www.w3.org/2000/svg\" height=\"24px\"viewBox=\"0 0 24 24\"\n",
              "     width=\"24px\">\n",
              "    <g>\n",
              "        <path d=\"M19 3H5c-1.1 0-2 .9-2 2v14c0 1.1.9 2 2 2h14c1.1 0 2-.9 2-2V5c0-1.1-.9-2-2-2zM9 17H7v-7h2v7zm4 0h-2V7h2v10zm4 0h-2v-4h2v4z\"/>\n",
              "    </g>\n",
              "</svg>\n",
              "  </button>\n",
              "\n",
              "<style>\n",
              "  .colab-df-quickchart {\n",
              "      --bg-color: #E8F0FE;\n",
              "      --fill-color: #1967D2;\n",
              "      --hover-bg-color: #E2EBFA;\n",
              "      --hover-fill-color: #174EA6;\n",
              "      --disabled-fill-color: #AAA;\n",
              "      --disabled-bg-color: #DDD;\n",
              "  }\n",
              "\n",
              "  [theme=dark] .colab-df-quickchart {\n",
              "      --bg-color: #3B4455;\n",
              "      --fill-color: #D2E3FC;\n",
              "      --hover-bg-color: #434B5C;\n",
              "      --hover-fill-color: #FFFFFF;\n",
              "      --disabled-bg-color: #3B4455;\n",
              "      --disabled-fill-color: #666;\n",
              "  }\n",
              "\n",
              "  .colab-df-quickchart {\n",
              "    background-color: var(--bg-color);\n",
              "    border: none;\n",
              "    border-radius: 50%;\n",
              "    cursor: pointer;\n",
              "    display: none;\n",
              "    fill: var(--fill-color);\n",
              "    height: 32px;\n",
              "    padding: 0;\n",
              "    width: 32px;\n",
              "  }\n",
              "\n",
              "  .colab-df-quickchart:hover {\n",
              "    background-color: var(--hover-bg-color);\n",
              "    box-shadow: 0 1px 2px rgba(60, 64, 67, 0.3), 0 1px 3px 1px rgba(60, 64, 67, 0.15);\n",
              "    fill: var(--button-hover-fill-color);\n",
              "  }\n",
              "\n",
              "  .colab-df-quickchart-complete:disabled,\n",
              "  .colab-df-quickchart-complete:disabled:hover {\n",
              "    background-color: var(--disabled-bg-color);\n",
              "    fill: var(--disabled-fill-color);\n",
              "    box-shadow: none;\n",
              "  }\n",
              "\n",
              "  .colab-df-spinner {\n",
              "    border: 2px solid var(--fill-color);\n",
              "    border-color: transparent;\n",
              "    border-bottom-color: var(--fill-color);\n",
              "    animation:\n",
              "      spin 1s steps(1) infinite;\n",
              "  }\n",
              "\n",
              "  @keyframes spin {\n",
              "    0% {\n",
              "      border-color: transparent;\n",
              "      border-bottom-color: var(--fill-color);\n",
              "      border-left-color: var(--fill-color);\n",
              "    }\n",
              "    20% {\n",
              "      border-color: transparent;\n",
              "      border-left-color: var(--fill-color);\n",
              "      border-top-color: var(--fill-color);\n",
              "    }\n",
              "    30% {\n",
              "      border-color: transparent;\n",
              "      border-left-color: var(--fill-color);\n",
              "      border-top-color: var(--fill-color);\n",
              "      border-right-color: var(--fill-color);\n",
              "    }\n",
              "    40% {\n",
              "      border-color: transparent;\n",
              "      border-right-color: var(--fill-color);\n",
              "      border-top-color: var(--fill-color);\n",
              "    }\n",
              "    60% {\n",
              "      border-color: transparent;\n",
              "      border-right-color: var(--fill-color);\n",
              "    }\n",
              "    80% {\n",
              "      border-color: transparent;\n",
              "      border-right-color: var(--fill-color);\n",
              "      border-bottom-color: var(--fill-color);\n",
              "    }\n",
              "    90% {\n",
              "      border-color: transparent;\n",
              "      border-bottom-color: var(--fill-color);\n",
              "    }\n",
              "  }\n",
              "</style>\n",
              "\n",
              "  <script>\n",
              "    async function quickchart(key) {\n",
              "      const quickchartButtonEl =\n",
              "        document.querySelector('#' + key + ' button');\n",
              "      quickchartButtonEl.disabled = true;  // To prevent multiple clicks.\n",
              "      quickchartButtonEl.classList.add('colab-df-spinner');\n",
              "      try {\n",
              "        const charts = await google.colab.kernel.invokeFunction(\n",
              "            'suggestCharts', [key], {});\n",
              "      } catch (error) {\n",
              "        console.error('Error during call to suggestCharts:', error);\n",
              "      }\n",
              "      quickchartButtonEl.classList.remove('colab-df-spinner');\n",
              "      quickchartButtonEl.classList.add('colab-df-quickchart-complete');\n",
              "    }\n",
              "    (() => {\n",
              "      let quickchartButtonEl =\n",
              "        document.querySelector('#df-52a84e8c-7098-4c17-9f66-dac03bcba868 button');\n",
              "      quickchartButtonEl.style.display =\n",
              "        google.colab.kernel.accessAllowed ? 'block' : 'none';\n",
              "    })();\n",
              "  </script>\n",
              "</div>\n",
              "\n",
              "    </div>\n",
              "  </div>\n"
            ],
            "application/vnd.google.colaboratory.intrinsic+json": {
              "type": "dataframe"
            }
          },
          "metadata": {},
          "execution_count": 41
        }
      ]
    },
    {
      "cell_type": "code",
      "source": [
        "#localizando e contando os salarios nulos, com base na coluna faixa salarial\n",
        "df[df['SALARIO'].isnull()]['FAIXA SALARIAL'].value_counts()"
      ],
      "metadata": {
        "colab": {
          "base_uri": "https://localhost:8080/",
          "height": 115
        },
        "id": "D3QhOO3-zitF",
        "outputId": "3997dd9a-8e16-41b0-ad69-a341902edb5a"
      },
      "execution_count": null,
      "outputs": [
        {
          "output_type": "execute_result",
          "data": {
            "text/plain": [
              "Series([], Name: count, dtype: int64)"
            ],
            "text/html": [
              "<div>\n",
              "<style scoped>\n",
              "    .dataframe tbody tr th:only-of-type {\n",
              "        vertical-align: middle;\n",
              "    }\n",
              "\n",
              "    .dataframe tbody tr th {\n",
              "        vertical-align: top;\n",
              "    }\n",
              "\n",
              "    .dataframe thead th {\n",
              "        text-align: right;\n",
              "    }\n",
              "</style>\n",
              "<table border=\"1\" class=\"dataframe\">\n",
              "  <thead>\n",
              "    <tr style=\"text-align: right;\">\n",
              "      <th></th>\n",
              "      <th>count</th>\n",
              "    </tr>\n",
              "    <tr>\n",
              "      <th>FAIXA SALARIAL</th>\n",
              "      <th></th>\n",
              "    </tr>\n",
              "  </thead>\n",
              "  <tbody>\n",
              "  </tbody>\n",
              "</table>\n",
              "</div><br><label><b>dtype:</b> int64</label>"
            ]
          },
          "metadata": {},
          "execution_count": 42
        }
      ]
    },
    {
      "cell_type": "code",
      "source": [
        "#aqui é possível analisar que os participantes que não colocaram o salário também não preencheram a faixa salarial. O que impede que se utilize esse\n",
        "#método para a normalização dos valores nulos. Sendo assim a boa prática nesse caso seria de utilizar a mediana, uma vez que não analisamos os valores\n",
        "#dos salários, e não sendo possivel identificar possivel outliers na coluna. Caso utilizemos a média nesse caso, poderiamos trabalhar com valores\n",
        "#acima da média, uma vez que outliers influencians grandemente o resultado da média, pois soma todos os valores e divide pelo total.\n",
        "#já a mediana trabalhara com valores mais proximos da realidade, uma vez que busca o valor do meio."
      ],
      "metadata": {
        "id": "Qu8Rr4kAzyTG"
      },
      "execution_count": null,
      "outputs": []
    },
    {
      "cell_type": "code",
      "source": [
        "#criando uma função que calcule a mediana dos salários, para assim conseguir substituir os valores nulo\n",
        "mediana_salario=df['SALARIO'].median()\n",
        "mediana_salario"
      ],
      "metadata": {
        "colab": {
          "base_uri": "https://localhost:8080/"
        },
        "id": "U0avc6bWzymv",
        "outputId": "48dd16ac-c482-4244-a164-40242441269e"
      },
      "execution_count": null,
      "outputs": [
        {
          "output_type": "execute_result",
          "data": {
            "text/plain": [
              "7625.5"
            ]
          },
          "metadata": {},
          "execution_count": 44
        }
      ]
    },
    {
      "cell_type": "code",
      "source": [
        "#localizando e substituindos os salarios nulos, pela função calculada mediana_salarios\n",
        "df.loc[(df['SALARIO'].isnull()), 'SALARIO'] = mediana_salario"
      ],
      "metadata": {
        "id": "SiO6ih-_zy2J"
      },
      "execution_count": null,
      "outputs": []
    },
    {
      "cell_type": "code",
      "source": [
        "#conferindo a substituição\n",
        "df[df['SALARIO'].isnull()].value_counts()"
      ],
      "metadata": {
        "colab": {
          "base_uri": "https://localhost:8080/",
          "height": 326
        },
        "id": "mDLIGrkHzzG8",
        "outputId": "ccdd3ff1-8ba6-4e60-83a4-04aa9c33b17d"
      },
      "execution_count": null,
      "outputs": [
        {
          "output_type": "execute_result",
          "data": {
            "text/plain": [
              "Series([], Name: count, dtype: int64)"
            ],
            "text/html": [
              "<div>\n",
              "<style scoped>\n",
              "    .dataframe tbody tr th:only-of-type {\n",
              "        vertical-align: middle;\n",
              "    }\n",
              "\n",
              "    .dataframe tbody tr th {\n",
              "        vertical-align: top;\n",
              "    }\n",
              "\n",
              "    .dataframe thead th {\n",
              "        text-align: right;\n",
              "    }\n",
              "</style>\n",
              "<table border=\"1\" class=\"dataframe\">\n",
              "  <thead>\n",
              "    <tr style=\"text-align: right;\">\n",
              "      <th></th>\n",
              "      <th></th>\n",
              "      <th></th>\n",
              "      <th></th>\n",
              "      <th></th>\n",
              "      <th></th>\n",
              "      <th></th>\n",
              "      <th></th>\n",
              "      <th></th>\n",
              "      <th></th>\n",
              "      <th></th>\n",
              "      <th></th>\n",
              "      <th></th>\n",
              "      <th></th>\n",
              "      <th></th>\n",
              "      <th></th>\n",
              "      <th></th>\n",
              "      <th></th>\n",
              "      <th></th>\n",
              "      <th></th>\n",
              "      <th></th>\n",
              "      <th></th>\n",
              "      <th></th>\n",
              "      <th></th>\n",
              "      <th></th>\n",
              "      <th></th>\n",
              "      <th></th>\n",
              "      <th></th>\n",
              "      <th>count</th>\n",
              "    </tr>\n",
              "    <tr>\n",
              "      <th>Unnamed: 0</th>\n",
              "      <th>ID</th>\n",
              "      <th>IDADE</th>\n",
              "      <th>FAIXA IDADE</th>\n",
              "      <th>GENERO</th>\n",
              "      <th>COR/RACA/ETNIA</th>\n",
              "      <th>PCD</th>\n",
              "      <th>EXPERIENCIA_PROFISSIONAL_PREJUDICADA</th>\n",
              "      <th>ASPECTOS_PREJUDICADOS</th>\n",
              "      <th>VIVE_NO_BRASIL</th>\n",
              "      <th>ESTADO ONDE MORA</th>\n",
              "      <th>UF ONDE MORA</th>\n",
              "      <th>REGIAO ONDE MORA</th>\n",
              "      <th>MUDOU DE ESTADO?</th>\n",
              "      <th>REGIAO DE ORIGEM</th>\n",
              "      <th>NIVEL DE ENSINO</th>\n",
              "      <th>ÁREA DE FORMAÇÃO</th>\n",
              "      <th>QUAL SUA SITUAÇÃO ATUAL DE TRABALHO?</th>\n",
              "      <th>SETOR</th>\n",
              "      <th>NUMERO DE FUNCIONARIOS</th>\n",
              "      <th>GESTOR?</th>\n",
              "      <th>CARGO COMO GESTOR</th>\n",
              "      <th>CARGO ATUAL</th>\n",
              "      <th>NIVEL</th>\n",
              "      <th>FAIXA SALARIAL</th>\n",
              "      <th>QUANTO TEMPO DE EXPERIÊNCIA NA ÁREA DE DADOS VOCÊ TEM?</th>\n",
              "      <th>QUANTO TEMPO DE EXPERIÊNCIA NA ÁREA DE TI/ENGENHARIA DE SOFTWARE VOCÊ TEVE ANTES DE COMEÇAR A TRABALHAR NA ÁREA DE DADOS?</th>\n",
              "      <th>SALARIO</th>\n",
              "      <th></th>\n",
              "    </tr>\n",
              "  </thead>\n",
              "  <tbody>\n",
              "  </tbody>\n",
              "</table>\n",
              "</div><br><label><b>dtype:</b> int64</label>"
            ]
          },
          "metadata": {},
          "execution_count": 46
        }
      ]
    },
    {
      "cell_type": "markdown",
      "source": [
        "**Valore discrepantes - Outliers**"
      ],
      "metadata": {
        "id": "amDXMeWJofuv"
      }
    },
    {
      "cell_type": "code",
      "source": [
        "#vamos entender melhor o que são outiler com o exemplo abaixo:\n",
        "#lista original\n",
        "lista_idades=[26,30,32,22,26,35,35,40,20,43,31,23]"
      ],
      "metadata": {
        "id": "qKHBBWrpofaH"
      },
      "execution_count": null,
      "outputs": []
    },
    {
      "cell_type": "code",
      "source": [
        "media=np.mean(lista_idades)\n",
        "media"
      ],
      "metadata": {
        "colab": {
          "base_uri": "https://localhost:8080/"
        },
        "id": "Z2vhTslTo0it",
        "outputId": "626de431-6dcf-461a-bb80-d31713cf296c"
      },
      "execution_count": null,
      "outputs": [
        {
          "output_type": "execute_result",
          "data": {
            "text/plain": [
              "30.25"
            ]
          },
          "metadata": {},
          "execution_count": 48
        }
      ]
    },
    {
      "cell_type": "code",
      "source": [
        "np.std(lista_idades)"
      ],
      "metadata": {
        "colab": {
          "base_uri": "https://localhost:8080/"
        },
        "id": "qjNC0NkNo3ES",
        "outputId": "cce65d53-901e-453f-e2be-039fb8aee12f"
      },
      "execution_count": null,
      "outputs": [
        {
          "output_type": "execute_result",
          "data": {
            "text/plain": [
              "6.881436381066576"
            ]
          },
          "metadata": {},
          "execution_count": 49
        }
      ]
    },
    {
      "cell_type": "code",
      "source": [
        "#alterando o 40 para 400\n",
        "lista_idades=[26,30,32,22,26,35,35,400,20,43,31,23]"
      ],
      "metadata": {
        "id": "RpEBXR1wo4TD"
      },
      "execution_count": null,
      "outputs": []
    },
    {
      "cell_type": "code",
      "source": [
        "media=np.mean(lista_idades)\n",
        "media"
      ],
      "metadata": {
        "colab": {
          "base_uri": "https://localhost:8080/"
        },
        "id": "nutIeLAqo4JY",
        "outputId": "072e6067-ff93-495d-c294-db4198fcacf1"
      },
      "execution_count": null,
      "outputs": [
        {
          "output_type": "execute_result",
          "data": {
            "text/plain": [
              "60.25"
            ]
          },
          "metadata": {},
          "execution_count": 51
        }
      ]
    },
    {
      "cell_type": "code",
      "source": [
        "desvio=np.std(lista_idades)"
      ],
      "metadata": {
        "id": "i76isENao4AP"
      },
      "execution_count": null,
      "outputs": []
    },
    {
      "cell_type": "code",
      "source": [
        "#podemos notar a diferença com facilidade uma vez que com alista anterior a média foi de 30 anos com um desvio padrão de 6.8.\n",
        "#Já com o outlier a média passou para 60 anos com um desvio padrão de 102.6"
      ],
      "metadata": {
        "id": "7KTfREo4o33Q"
      },
      "execution_count": null,
      "outputs": []
    },
    {
      "cell_type": "code",
      "source": [
        "#calculando o limite superior, ou seja, todos os valores que passarem desse teto serão outliers\n",
        "media + 3 * desvio"
      ],
      "metadata": {
        "colab": {
          "base_uri": "https://localhost:8080/"
        },
        "id": "O7uuCe6xo3tI",
        "outputId": "bb536b41-38b2-4a20-8bcb-0e10add62d84"
      },
      "execution_count": null,
      "outputs": [
        {
          "output_type": "execute_result",
          "data": {
            "text/plain": [
              "368.1317751995074"
            ]
          },
          "metadata": {},
          "execution_count": 54
        }
      ]
    },
    {
      "cell_type": "code",
      "source": [
        "#calculando o limite inferior, ou seja, todos os valores que estiverem abaixo desse limite serão outliers\n",
        "media - 3 * desvio"
      ],
      "metadata": {
        "colab": {
          "base_uri": "https://localhost:8080/"
        },
        "id": "xGPAr9Moo3iF",
        "outputId": "999f0461-ba6b-4f31-97c2-d7b1a8446adb"
      },
      "execution_count": null,
      "outputs": [
        {
          "output_type": "execute_result",
          "data": {
            "text/plain": [
              "-247.6317751995074"
            ]
          },
          "metadata": {},
          "execution_count": 55
        }
      ]
    },
    {
      "cell_type": "code",
      "source": [
        "plt.boxplot(lista_idades)"
      ],
      "metadata": {
        "colab": {
          "base_uri": "https://localhost:8080/",
          "height": 569
        },
        "id": "Jgb5VruWpHvy",
        "outputId": "bf8f3ec9-ad2f-4615-fbe6-f7c609eedf1b"
      },
      "execution_count": null,
      "outputs": [
        {
          "output_type": "execute_result",
          "data": {
            "text/plain": [
              "{'whiskers': [<matplotlib.lines.Line2D at 0x7ebec1a10fa0>,\n",
              "  <matplotlib.lines.Line2D at 0x7ebec1a11240>],\n",
              " 'caps': [<matplotlib.lines.Line2D at 0x7ebec1a13760>,\n",
              "  <matplotlib.lines.Line2D at 0x7ebec1a12470>],\n",
              " 'boxes': [<matplotlib.lines.Line2D at 0x7ebec1a10d00>],\n",
              " 'medians': [<matplotlib.lines.Line2D at 0x7ebec1a13bb0>],\n",
              " 'fliers': [<matplotlib.lines.Line2D at 0x7ebec1a13dc0>],\n",
              " 'means': []}"
            ]
          },
          "metadata": {},
          "execution_count": 56
        },
        {
          "output_type": "display_data",
          "data": {
            "text/plain": [
              "<Figure size 640x480 with 1 Axes>"
            ],
            "image/png": "[encoded data removed]"
          },
          "metadata": {}
        }
      ]
    },
    {
      "cell_type": "code",
      "source": [
        "#explicação gráfico:\n",
        "#a linha laranja no meio da caixa trata-se da mediana,\n",
        "#as bordas abaixo e acima da linha laranja são os quartis q1 e q3,\n",
        "#a linha preta abaixo e a linha preta acima delimitam o limite inferior e superior,\n",
        "#e o outlier é o circulo que está mais distante"
      ],
      "metadata": {
        "id": "9mxCYbRFpHol"
      },
      "execution_count": null,
      "outputs": []
    },
    {
      "cell_type": "code",
      "source": [
        "df.info()"
      ],
      "metadata": {
        "colab": {
          "base_uri": "https://localhost:8080/"
        },
        "id": "XNtru_cwpHk7",
        "outputId": "379fefa7-5006-4359-c7ab-ff19f0d53780"
      },
      "execution_count": null,
      "outputs": [
        {
          "output_type": "stream",
          "name": "stdout",
          "text": [
            "<class 'pandas.core.frame.DataFrame'>\n",
            "RangeIndex: 4271 entries, 0 to 4270\n",
            "Data columns (total 28 columns):\n",
            " #   Column                                                                                                                     Non-Null Count  Dtype  \n",
            "---  ------                                                                                                                     --------------  -----  \n",
            " 0   Unnamed: 0                                                                                                                 4271 non-null   int64  \n",
            " 1   ID                                                                                                                         4271 non-null   object \n",
            " 2   IDADE                                                                                                                      4271 non-null   float64\n",
            " 3   FAIXA IDADE                                                                                                                4271 non-null   object \n",
            " 4   GENERO                                                                                                                     4271 non-null   object \n",
            " 5   COR/RACA/ETNIA                                                                                                             4271 non-null   object \n",
            " 6   PCD                                                                                                                        4271 non-null   object \n",
            " 7   EXPERIENCIA_PROFISSIONAL_PREJUDICADA                                                                                       2190 non-null   object \n",
            " 8   ASPECTOS_PREJUDICADOS                                                                                                      837 non-null    object \n",
            " 9   VIVE_NO_BRASIL                                                                                                             4271 non-null   bool   \n",
            " 10  ESTADO ONDE MORA                                                                                                           4156 non-null   object \n",
            " 11  UF ONDE MORA                                                                                                               4156 non-null   object \n",
            " 12  REGIAO ONDE MORA                                                                                                           4171 non-null   object \n",
            " 13  MUDOU DE ESTADO?                                                                                                           4171 non-null   float64\n",
            " 14  REGIAO DE ORIGEM                                                                                                           772 non-null    object \n",
            " 15  NIVEL DE ENSINO                                                                                                            4271 non-null   object \n",
            " 16  ÁREA DE FORMAÇÃO                                                                                                           4149 non-null   object \n",
            " 17  QUAL SUA SITUAÇÃO ATUAL DE TRABALHO?                                                                                       4271 non-null   object \n",
            " 18  SETOR                                                                                                                      3694 non-null   object \n",
            " 19  NUMERO DE FUNCIONARIOS                                                                                                     3694 non-null   object \n",
            " 20  GESTOR?                                                                                                                    3694 non-null   float64\n",
            " 21  CARGO COMO GESTOR                                                                                                          713 non-null    object \n",
            " 22  CARGO ATUAL                                                                                                                2981 non-null   object \n",
            " 23  NIVEL                                                                                                                      2981 non-null   object \n",
            " 24  FAIXA SALARIAL                                                                                                             3694 non-null   object \n",
            " 25  QUANTO TEMPO DE EXPERIÊNCIA NA ÁREA DE DADOS VOCÊ TEM?                                                                     3694 non-null   object \n",
            " 26  QUANTO TEMPO DE EXPERIÊNCIA NA ÁREA DE TI/ENGENHARIA DE SOFTWARE VOCÊ TEVE ANTES DE COMEÇAR A TRABALHAR NA ÁREA DE DADOS?  3694 non-null   object \n",
            " 27  SALARIO                                                                                                                    4271 non-null   float64\n",
            "dtypes: bool(1), float64(4), int64(1), object(22)\n",
            "memory usage: 905.2+ KB\n"
          ]
        }
      ]
    },
    {
      "cell_type": "code",
      "source": [
        "#agora vamos analisar os salarios da nossa base de dados\n",
        "plt.boxplot(df['SALARIO'])"
      ],
      "metadata": {
        "colab": {
          "base_uri": "https://localhost:8080/",
          "height": 569
        },
        "id": "Zp31xxpZpHg0",
        "outputId": "a4de055d-b9b8-46bd-f88e-3d10538c3447"
      },
      "execution_count": null,
      "outputs": [
        {
          "output_type": "execute_result",
          "data": {
            "text/plain": [
              "{'whiskers': [<matplotlib.lines.Line2D at 0x7ebec1626bf0>,\n",
              "  <matplotlib.lines.Line2D at 0x7ebec1626950>],\n",
              " 'caps': [<matplotlib.lines.Line2D at 0x7ebec16266b0>,\n",
              "  <matplotlib.lines.Line2D at 0x7ebec1626410>],\n",
              " 'boxes': [<matplotlib.lines.Line2D at 0x7ebec1626ef0>],\n",
              " 'medians': [<matplotlib.lines.Line2D at 0x7ebec1626170>],\n",
              " 'fliers': [<matplotlib.lines.Line2D at 0x7ebec1625ed0>],\n",
              " 'means': []}"
            ]
          },
          "metadata": {},
          "execution_count": 59
        },
        {
          "output_type": "display_data",
          "data": {
            "text/plain": [
              "<Figure size 640x480 with 1 Axes>"
            ],
            "image/png": "[encoded data removed]"
          },
          "metadata": {}
        }
      ]
    },
    {
      "cell_type": "code",
      "source": [
        "#calcuando os quartis\n",
        "Q1=df['SALARIO'].quantile(0.25)\n",
        "Q3=df['SALARIO'].quantile(0.75)\n",
        "print (Q1)\n",
        "print (Q3)"
      ],
      "metadata": {
        "colab": {
          "base_uri": "https://localhost:8080/"
        },
        "id": "bSLgjYFtpHdH",
        "outputId": "ce958588-0427-4be6-b397-1e5503f43b3a"
      },
      "execution_count": null,
      "outputs": [
        {
          "output_type": "stream",
          "name": "stdout",
          "text": [
            "4751.5\n",
            "11794.5\n"
          ]
        }
      ]
    },
    {
      "cell_type": "code",
      "source": [
        "#calculando o interquartil, que é o vaor que está entre o 1° e o 3° quartil\n",
        "IQR=Q3-Q1\n",
        "IQR"
      ],
      "metadata": {
        "colab": {
          "base_uri": "https://localhost:8080/"
        },
        "id": "oVLNEUbtpHY1",
        "outputId": "9bc6af46-a956-4043-dae0-b4aa3850344f"
      },
      "execution_count": null,
      "outputs": [
        {
          "output_type": "execute_result",
          "data": {
            "text/plain": [
              "7043.0"
            ]
          },
          "metadata": {},
          "execution_count": 61
        }
      ]
    },
    {
      "cell_type": "code",
      "source": [
        "#delimitando os limites dos nossos dados\n",
        "lim_superior=Q3+(1.5*IQR)\n",
        "lim_superioe=Q1-(1.5*IQR)\n",
        "print (lim_superior)\n",
        "print (lim_superioe)"
      ],
      "metadata": {
        "colab": {
          "base_uri": "https://localhost:8080/"
        },
        "id": "PULhfp8IpHTy",
        "outputId": "39a6aa40-9b8f-42c4-b9c1-8f97ec2190dd"
      },
      "execution_count": null,
      "outputs": [
        {
          "output_type": "stream",
          "name": "stdout",
          "text": [
            "22359.0\n",
            "-5813.0\n"
          ]
        }
      ]
    },
    {
      "cell_type": "code",
      "source": [
        "#entendo a faixa salarial da nossa base\n",
        "df['FAIXA SALARIAL'].value_counts()"
      ],
      "metadata": {
        "colab": {
          "base_uri": "https://localhost:8080/",
          "height": 523
        },
        "id": "5YcUpQxppHL-",
        "outputId": "8d6f7fe8-9ecf-48df-fa2c-991ba07f6f72"
      },
      "execution_count": null,
      "outputs": [
        {
          "output_type": "execute_result",
          "data": {
            "text/plain": [
              "FAIXA SALARIAL\n",
              "de R$ 8.001/mês a R$ 12.000/mês     752\n",
              "de R$ 4.001/mês a R$ 6.000/mês      584\n",
              "de R$ 6.001/mês a R$ 8.000/mês      527\n",
              "de R$ 12.001/mês a R$ 16.000/mês    437\n",
              "de R$ 3.001/mês a R$ 4.000/mês      303\n",
              "de R$ 2.001/mês a R$ 3.000/mês      285\n",
              "de R$ 16.001/mês a R$ 20.000/mês    229\n",
              "de R$ 1.001/mês a R$ 2.000/mês      216\n",
              "de R$ 20.001/mês a R$ 25.000/mês    134\n",
              "de R$ 25.001/mês a R$ 30.000/mês     77\n",
              "de R$ 30.001/mês a R$ 40.000/mês     70\n",
              "Acima de R$ 40.001/mês               45\n",
              "Menos de R$ 1.000/mês                35\n",
              "Name: count, dtype: int64"
            ],
            "text/html": [
              "<div>\n",
              "<style scoped>\n",
              "    .dataframe tbody tr th:only-of-type {\n",
              "        vertical-align: middle;\n",
              "    }\n",
              "\n",
              "    .dataframe tbody tr th {\n",
              "        vertical-align: top;\n",
              "    }\n",
              "\n",
              "    .dataframe thead th {\n",
              "        text-align: right;\n",
              "    }\n",
              "</style>\n",
              "<table border=\"1\" class=\"dataframe\">\n",
              "  <thead>\n",
              "    <tr style=\"text-align: right;\">\n",
              "      <th></th>\n",
              "      <th>count</th>\n",
              "    </tr>\n",
              "    <tr>\n",
              "      <th>FAIXA SALARIAL</th>\n",
              "      <th></th>\n",
              "    </tr>\n",
              "  </thead>\n",
              "  <tbody>\n",
              "    <tr>\n",
              "      <th>de R$ 8.001/mês a R$ 12.000/mês</th>\n",
              "      <td>752</td>\n",
              "    </tr>\n",
              "    <tr>\n",
              "      <th>de R$ 4.001/mês a R$ 6.000/mês</th>\n",
              "      <td>584</td>\n",
              "    </tr>\n",
              "    <tr>\n",
              "      <th>de R$ 6.001/mês a R$ 8.000/mês</th>\n",
              "      <td>527</td>\n",
              "    </tr>\n",
              "    <tr>\n",
              "      <th>de R$ 12.001/mês a R$ 16.000/mês</th>\n",
              "      <td>437</td>\n",
              "    </tr>\n",
              "    <tr>\n",
              "      <th>de R$ 3.001/mês a R$ 4.000/mês</th>\n",
              "      <td>303</td>\n",
              "    </tr>\n",
              "    <tr>\n",
              "      <th>de R$ 2.001/mês a R$ 3.000/mês</th>\n",
              "      <td>285</td>\n",
              "    </tr>\n",
              "    <tr>\n",
              "      <th>de R$ 16.001/mês a R$ 20.000/mês</th>\n",
              "      <td>229</td>\n",
              "    </tr>\n",
              "    <tr>\n",
              "      <th>de R$ 1.001/mês a R$ 2.000/mês</th>\n",
              "      <td>216</td>\n",
              "    </tr>\n",
              "    <tr>\n",
              "      <th>de R$ 20.001/mês a R$ 25.000/mês</th>\n",
              "      <td>134</td>\n",
              "    </tr>\n",
              "    <tr>\n",
              "      <th>de R$ 25.001/mês a R$ 30.000/mês</th>\n",
              "      <td>77</td>\n",
              "    </tr>\n",
              "    <tr>\n",
              "      <th>de R$ 30.001/mês a R$ 40.000/mês</th>\n",
              "      <td>70</td>\n",
              "    </tr>\n",
              "    <tr>\n",
              "      <th>Acima de R$ 40.001/mês</th>\n",
              "      <td>45</td>\n",
              "    </tr>\n",
              "    <tr>\n",
              "      <th>Menos de R$ 1.000/mês</th>\n",
              "      <td>35</td>\n",
              "    </tr>\n",
              "  </tbody>\n",
              "</table>\n",
              "</div><br><label><b>dtype:</b> int64</label>"
            ]
          },
          "metadata": {},
          "execution_count": 63
        }
      ]
    },
    {
      "cell_type": "code",
      "source": [
        "#entendo melhor os dados\n",
        "media_salario = df['SALARIO'].mean()\n",
        "media_salario"
      ],
      "metadata": {
        "colab": {
          "base_uri": "https://localhost:8080/"
        },
        "id": "7hi9oMqRpHB0",
        "outputId": "047b67d9-4537-4d20-9324-1b8cdc9cead8"
      },
      "execution_count": null,
      "outputs": [
        {
          "output_type": "execute_result",
          "data": {
            "text/plain": [
              "10517.53348162023"
            ]
          },
          "metadata": {},
          "execution_count": 64
        }
      ]
    },
    {
      "cell_type": "code",
      "source": [
        "desvio_salario = df['SALARIO'].std()\n",
        "desvio_salario"
      ],
      "metadata": {
        "colab": {
          "base_uri": "https://localhost:8080/"
        },
        "id": "G0625MadpfkH",
        "outputId": "84e1a41b-5b3d-482e-eeb9-4170351b2c1f"
      },
      "execution_count": null,
      "outputs": [
        {
          "output_type": "execute_result",
          "data": {
            "text/plain": [
              "18096.210989118474"
            ]
          },
          "metadata": {},
          "execution_count": 65
        }
      ]
    },
    {
      "cell_type": "code",
      "source": [
        "#existem diversa tecnicas para localizar outliers de maneira acertiva. Como aqui podemos ver que existem salário bem acima da média, vamos calcular nossos limites em 3x o desvio padrão,\n",
        "#para assim tentar adequar melhor os salários mais altos, sem que sejam enviesados\n",
        "limite_superior=media_salario+(3*desvio_salario)\n",
        "limite_superior"
      ],
      "metadata": {
        "colab": {
          "base_uri": "https://localhost:8080/"
        },
        "id": "f26wB8bYpfhh",
        "outputId": "22eb5693-d3b2-4493-9a31-2cbe82216bc7"
      },
      "execution_count": null,
      "outputs": [
        {
          "output_type": "execute_result",
          "data": {
            "text/plain": [
              "64806.16644897565"
            ]
          },
          "metadata": {},
          "execution_count": 66
        }
      ]
    },
    {
      "cell_type": "code",
      "source": [
        "#com o resultado do limite superior, vamos analisar se os salarios bem mais altos fazem realmente sentido, ou se houve erro no preenchimento"
      ],
      "metadata": {
        "id": "x-1mzb67pffI"
      },
      "execution_count": null,
      "outputs": []
    },
    {
      "cell_type": "code",
      "source": [
        "#calculando a quantidade de salarios que estão acima do limite superior com base na faixa salarial\n",
        "df[df['SALARIO']>limite_superior]['FAIXA SALARIAL'].value_counts()"
      ],
      "metadata": {
        "colab": {
          "base_uri": "https://localhost:8080/",
          "height": 178
        },
        "id": "aoaOnu7ZpfcU",
        "outputId": "b4ffe90e-e924-4d0d-d223-29c5a95099e2"
      },
      "execution_count": null,
      "outputs": [
        {
          "output_type": "execute_result",
          "data": {
            "text/plain": [
              "FAIXA SALARIAL\n",
              "Acima de R$ 40.001/mês              19\n",
              "de R$ 30.001/mês a R$ 40.000/mês     3\n",
              "Name: count, dtype: int64"
            ],
            "text/html": [
              "<div>\n",
              "<style scoped>\n",
              "    .dataframe tbody tr th:only-of-type {\n",
              "        vertical-align: middle;\n",
              "    }\n",
              "\n",
              "    .dataframe tbody tr th {\n",
              "        vertical-align: top;\n",
              "    }\n",
              "\n",
              "    .dataframe thead th {\n",
              "        text-align: right;\n",
              "    }\n",
              "</style>\n",
              "<table border=\"1\" class=\"dataframe\">\n",
              "  <thead>\n",
              "    <tr style=\"text-align: right;\">\n",
              "      <th></th>\n",
              "      <th>count</th>\n",
              "    </tr>\n",
              "    <tr>\n",
              "      <th>FAIXA SALARIAL</th>\n",
              "      <th></th>\n",
              "    </tr>\n",
              "  </thead>\n",
              "  <tbody>\n",
              "    <tr>\n",
              "      <th>Acima de R$ 40.001/mês</th>\n",
              "      <td>19</td>\n",
              "    </tr>\n",
              "    <tr>\n",
              "      <th>de R$ 30.001/mês a R$ 40.000/mês</th>\n",
              "      <td>3</td>\n",
              "    </tr>\n",
              "  </tbody>\n",
              "</table>\n",
              "</div><br><label><b>dtype:</b> int64</label>"
            ]
          },
          "metadata": {},
          "execution_count": 68
        }
      ]
    },
    {
      "cell_type": "code",
      "source": [
        "#criando uma função para estabeler a média dos salarios entre 30 e 40k que estão abaixo do limite superior\n",
        "media_30_40k=df[(df['FAIXA SALARIAL']=='de R$ 30.001/mês a R$ 40.000/mês') & (df['SALARIO']<limite_superior)]['SALARIO'].mean()"
      ],
      "metadata": {
        "id": "mZl-OBZZpfYo"
      },
      "execution_count": null,
      "outputs": []
    },
    {
      "cell_type": "code",
      "source": [
        "#localizando e substituindo outliers\n",
        "df.loc[(df['FAIXA SALARIAL']=='de R$ 30.001/mês a R$ 40.000/mês') & (df['SALARIO']>limite_superior), 'SALARIO'] = media_30_40k"
      ],
      "metadata": {
        "id": "rRF7AxqrpfUM"
      },
      "execution_count": null,
      "outputs": []
    },
    {
      "cell_type": "code",
      "source": [
        "#verificando se houve realmente a substituição\n",
        "df[df['SALARIO']>limite_superior]['FAIXA SALARIAL'].value_counts()"
      ],
      "metadata": {
        "colab": {
          "base_uri": "https://localhost:8080/",
          "height": 147
        },
        "id": "IfRbO6kBpfQA",
        "outputId": "ac5fa8fe-c81b-4da3-a84a-367750099475"
      },
      "execution_count": null,
      "outputs": [
        {
          "output_type": "execute_result",
          "data": {
            "text/plain": [
              "FAIXA SALARIAL\n",
              "Acima de R$ 40.001/mês    19\n",
              "Name: count, dtype: int64"
            ],
            "text/html": [
              "<div>\n",
              "<style scoped>\n",
              "    .dataframe tbody tr th:only-of-type {\n",
              "        vertical-align: middle;\n",
              "    }\n",
              "\n",
              "    .dataframe tbody tr th {\n",
              "        vertical-align: top;\n",
              "    }\n",
              "\n",
              "    .dataframe thead th {\n",
              "        text-align: right;\n",
              "    }\n",
              "</style>\n",
              "<table border=\"1\" class=\"dataframe\">\n",
              "  <thead>\n",
              "    <tr style=\"text-align: right;\">\n",
              "      <th></th>\n",
              "      <th>count</th>\n",
              "    </tr>\n",
              "    <tr>\n",
              "      <th>FAIXA SALARIAL</th>\n",
              "      <th></th>\n",
              "    </tr>\n",
              "  </thead>\n",
              "  <tbody>\n",
              "    <tr>\n",
              "      <th>Acima de R$ 40.001/mês</th>\n",
              "      <td>19</td>\n",
              "    </tr>\n",
              "  </tbody>\n",
              "</table>\n",
              "</div><br><label><b>dtype:</b> int64</label>"
            ]
          },
          "metadata": {},
          "execution_count": 71
        }
      ]
    },
    {
      "cell_type": "code",
      "source": [
        "#criando uma função para estabeler a média dos salarios acima de 40k que estão abaixo do limite superior\n",
        "media_40k=df[(df['FAIXA SALARIAL']=='Acima de R$ 40.001/mês') & (df['SALARIO']<limite_superior)]['SALARIO'].mean()"
      ],
      "metadata": {
        "id": "HIsw9MjKpfMB"
      },
      "execution_count": null,
      "outputs": []
    },
    {
      "cell_type": "code",
      "source": [
        "#localizando e substituindo outliers\n",
        "df.loc[(df['FAIXA SALARIAL']=='Acima de R$ 40.001/mês') & (df['SALARIO']>limite_superior), 'SALARIO'] = media_40k"
      ],
      "metadata": {
        "id": "zLP6ZV2YpfH9"
      },
      "execution_count": null,
      "outputs": []
    },
    {
      "cell_type": "code",
      "source": [
        "#verificando se houve realmente a substituição\n",
        "df[df['SALARIO']>limite_superior]['FAIXA SALARIAL'].value_counts()"
      ],
      "metadata": {
        "colab": {
          "base_uri": "https://localhost:8080/",
          "height": 115
        },
        "id": "1rgcSMkApfDz",
        "outputId": "9d6fc6b3-9560-4adf-fa5f-dce0fcd1c738"
      },
      "execution_count": null,
      "outputs": [
        {
          "output_type": "execute_result",
          "data": {
            "text/plain": [
              "Series([], Name: count, dtype: int64)"
            ],
            "text/html": [
              "<div>\n",
              "<style scoped>\n",
              "    .dataframe tbody tr th:only-of-type {\n",
              "        vertical-align: middle;\n",
              "    }\n",
              "\n",
              "    .dataframe tbody tr th {\n",
              "        vertical-align: top;\n",
              "    }\n",
              "\n",
              "    .dataframe thead th {\n",
              "        text-align: right;\n",
              "    }\n",
              "</style>\n",
              "<table border=\"1\" class=\"dataframe\">\n",
              "  <thead>\n",
              "    <tr style=\"text-align: right;\">\n",
              "      <th></th>\n",
              "      <th>count</th>\n",
              "    </tr>\n",
              "    <tr>\n",
              "      <th>FAIXA SALARIAL</th>\n",
              "      <th></th>\n",
              "    </tr>\n",
              "  </thead>\n",
              "  <tbody>\n",
              "  </tbody>\n",
              "</table>\n",
              "</div><br><label><b>dtype:</b> int64</label>"
            ]
          },
          "metadata": {},
          "execution_count": 74
        }
      ]
    },
    {
      "cell_type": "code",
      "source": [
        "#entendo o impacto das substituições no boxplot\n",
        "plt.boxplot(df['SALARIO'])"
      ],
      "metadata": {
        "colab": {
          "base_uri": "https://localhost:8080/",
          "height": 569
        },
        "id": "1mWiL8cqpe6a",
        "outputId": "2dce921b-92d6-42be-e5b2-09c7b7ed597f"
      },
      "execution_count": null,
      "outputs": [
        {
          "output_type": "execute_result",
          "data": {
            "text/plain": [
              "{'whiskers': [<matplotlib.lines.Line2D at 0x7ebec169bdf0>,\n",
              "  <matplotlib.lines.Line2D at 0x7ebec160caf0>],\n",
              " 'caps': [<matplotlib.lines.Line2D at 0x7ebec160c850>,\n",
              "  <matplotlib.lines.Line2D at 0x7ebec160c5b0>],\n",
              " 'boxes': [<matplotlib.lines.Line2D at 0x7ebec169bb50>],\n",
              " 'medians': [<matplotlib.lines.Line2D at 0x7ebec160c310>],\n",
              " 'fliers': [<matplotlib.lines.Line2D at 0x7ebec160c070>],\n",
              " 'means': []}"
            ]
          },
          "metadata": {},
          "execution_count": 75
        },
        {
          "output_type": "display_data",
          "data": {
            "text/plain": [
              "<Figure size 640x480 with 1 Axes>"
            ],
            "image/png": "[encoded data removed]"
          },
          "metadata": {}
        }
      ]
    },
    {
      "cell_type": "code",
      "source": [
        "#A abordagem para lidar com os outliers deve ser escolhida com base na natureza dos dados, nos objetivos da análise e\n",
        "#no contexto específico do problema. Não há uma solução única que seja\n",
        "#adequada para todos os casos, e é importante avaliar as diferentes opções com cuidado."
      ],
      "metadata": {
        "id": "NXZW61vNp3Jg"
      },
      "execution_count": null,
      "outputs": []
    },
    {
      "cell_type": "markdown",
      "source": [
        "**Distribuição amostral e intervalo de confiança**"
      ],
      "metadata": {
        "id": "s9qSthx3p5zh"
      }
    },
    {
      "cell_type": "code",
      "source": [
        "#importando as bibliotecas necessárias\n",
        "from scipy import stats"
      ],
      "metadata": {
        "id": "gGcvBmLmp3FY"
      },
      "execution_count": null,
      "outputs": []
    },
    {
      "cell_type": "code",
      "source": [
        "#criando uma variavel chamada salarios que contem todos os valores de salarios da nossa base\n",
        "salarios = df['SALARIO']"
      ],
      "metadata": {
        "id": "QeVGdxy-p3CH"
      },
      "execution_count": null,
      "outputs": []
    },
    {
      "cell_type": "code",
      "source": [
        "#criando uma variavel com a media amostral de todos os salarios\n",
        "media_amostral =np.mean(salarios)\n",
        "media_amostral"
      ],
      "metadata": {
        "colab": {
          "base_uri": "https://localhost:8080/"
        },
        "id": "F5DB1LWop2_e",
        "outputId": "a3fcd810-0e5a-4ad5-d67e-abe62341d561"
      },
      "execution_count": null,
      "outputs": [
        {
          "output_type": "execute_result",
          "data": {
            "text/plain": [
              "9904.390109813306"
            ]
          },
          "metadata": {},
          "execution_count": 79
        }
      ]
    },
    {
      "cell_type": "code",
      "source": [
        "#criando uma variavel com desvio padrão amostral de todos os salarios\n",
        "desvio_amostral = np.std(salarios)\n",
        "desvio_amostral"
      ],
      "metadata": {
        "colab": {
          "base_uri": "https://localhost:8080/"
        },
        "id": "2DOmpMwNp28Y",
        "outputId": "569eee41-46f8-4358-f871-170f504759da"
      },
      "execution_count": null,
      "outputs": [
        {
          "output_type": "execute_result",
          "data": {
            "text/plain": [
              "8306.104872579343"
            ]
          },
          "metadata": {},
          "execution_count": 80
        }
      ]
    },
    {
      "cell_type": "code",
      "source": [
        "#estabelecendo o nivel de confiança da amostra em 95%\n",
        "nivel_confianca=0.95"
      ],
      "metadata": {
        "id": "JdEhbPYIp25l"
      },
      "execution_count": null,
      "outputs": []
    },
    {
      "cell_type": "code",
      "source": [
        "#estabelecendo o tamanho da amostra\n",
        "tamanho_amostra=len(salarios)\n",
        "tamanho_amostra"
      ],
      "metadata": {
        "colab": {
          "base_uri": "https://localhost:8080/"
        },
        "id": "9THV_ZvPp23A",
        "outputId": "1f0ac5ce-a50a-4718-95f2-2596ca92967f"
      },
      "execution_count": null,
      "outputs": [
        {
          "output_type": "execute_result",
          "data": {
            "text/plain": [
              "4271"
            ]
          },
          "metadata": {},
          "execution_count": 82
        }
      ]
    },
    {
      "cell_type": "code",
      "source": [
        "#calculando o erro padrão. Que trata-se da diferença entre os vários grupos amostrais, usaremos a função sem da biblioteca scipy.stats, que é uma função com vários\n",
        "#métodos estatísticos. Usaremos essa função para dividir os grupos amostrais e calcular o erro padrão entre eles.\n",
        "erro_padrao=stats.sem(salarios)\n",
        "erro_padrao"
      ],
      "metadata": {
        "colab": {
          "base_uri": "https://localhost:8080/"
        },
        "id": "fJNpPKWbp20M",
        "outputId": "4d9a52d0-46ed-45e3-f0e6-713fa4be3ce0"
      },
      "execution_count": null,
      "outputs": [
        {
          "output_type": "execute_result",
          "data": {
            "text/plain": [
              "127.11109872023638"
            ]
          },
          "metadata": {},
          "execution_count": 83
        }
      ]
    },
    {
      "cell_type": "code",
      "source": [
        "#calculando o nivel de intervalo de confinaça com a função stats.t.interval, e atrelado a alguns parametros, nivel_confianca, tamanho_amostra-1, loc=media_amostral, scale=erro_padrao\n",
        "intervalo_confianca=stats.t.interval(nivel_confianca, tamanho_amostra-1, loc=media_amostral, scale=erro_padrao)\n",
        "intervalo_confianca"
      ],
      "metadata": {
        "colab": {
          "base_uri": "https://localhost:8080/"
        },
        "id": "iyHlVYmop2xT",
        "outputId": "7efc90d5-430f-48e2-f7fb-ebc6945ad609"
      },
      "execution_count": null,
      "outputs": [
        {
          "output_type": "execute_result",
          "data": {
            "text/plain": [
              "(9655.186295869078, 10153.593923757535)"
            ]
          },
          "metadata": {},
          "execution_count": 84
        }
      ]
    },
    {
      "cell_type": "code",
      "source": [
        "#podemos concluir portanto, com um nível de confiana de 95%, que as pessoas que trabalham com dados no Brasil tem uma média salarial de 9.655,19 á 10.153,59. Isso\n",
        "#significa que este valor trata-se de uma tendência central, ou a média, ou seja, também temos pessoas que ganham mais e menos que essa média, visto que estamos\n",
        "#analisando niveis de senioridade distintos"
      ],
      "metadata": {
        "id": "5wO7chk_p2uo"
      },
      "execution_count": null,
      "outputs": []
    },
    {
      "cell_type": "code",
      "source": [
        "#adicionando uma nova tabela\n",
        "df2=pd.read_excel('/content/drive/MyDrive/Colab Notebooks/Pt.2_Planilha_Aula.xlsx')"
      ],
      "metadata": {
        "id": "KXRX34DBq4k7"
      },
      "execution_count": null,
      "outputs": []
    },
    {
      "cell_type": "code",
      "source": [
        "df2"
      ],
      "metadata": {
        "colab": {
          "base_uri": "https://localhost:8080/",
          "height": 1000
        },
        "id": "MDms7kF2zrYX",
        "outputId": "d7423d1a-5b33-4461-fa8e-3653bc4f49b1"
      },
      "execution_count": null,
      "outputs": [
        {
          "output_type": "execute_result",
          "data": {
            "text/plain": [
              "                                    ID  \\\n",
              "0     zzqzz3l9ily8nuo2m7wyzzqzz3w48o96   \n",
              "1     zzls2oftfn9law393oezzls2ofhvfpzd   \n",
              "2     zzdwqzfqqp1ypc7ps6m0hzzdwqz292yi   \n",
              "3     zzbqh3uy7yk7k9qmkzzbqtb4s9faqspl   \n",
              "4     zzaf1m95yan929rb94wzzaf1mekhvhpg   \n",
              "...                                ...   \n",
              "4266  01jnrn9f6va0menfhk2ztm01jnrn96bp   \n",
              "4267  01dyfxam4u4bi29fem01dyfxaq9akvqp   \n",
              "4268  00zw9ks9d40z4u00zz3d20iix65qpli3   \n",
              "4269  00xu7yujd7s57emj00xu7y0c3njix3de   \n",
              "4270  00lb35llmdsidpa00lb35qcdysnzvhv7   \n",
              "\n",
              "     Quanto tempo de experiência na área de dados você tem?  \\\n",
              "0                                         de 1 a 2 anos       \n",
              "1                                         de 3 a 4 anos       \n",
              "2                                         de 3 a 4 anos       \n",
              "3                                         de 4 a 6 anos       \n",
              "4                Não tenho experiência na área de dados       \n",
              "...                                                 ...       \n",
              "4266                                      de 3 a 4 anos       \n",
              "4267                                      de 1 a 2 anos       \n",
              "4268                                      de 4 a 6 anos       \n",
              "4269                                     Menos de 1 ano       \n",
              "4270                                      de 1 a 2 anos       \n",
              "\n",
              "     Quanto tempo de experiência na área de TI/Engenharia de Software você teve antes de começar a trabalhar na área de dados?  \\\n",
              "0                                        de 7 a 10 anos                                                                          \n",
              "1                                        Menos de 1 ano                                                                          \n",
              "2                                       Mais de 10 anos                                                                          \n",
              "3     Não tive experiência na área de TI/Engenharia ...                                                                          \n",
              "4                                       Mais de 10 anos                                                                          \n",
              "...                                                 ...                                                                          \n",
              "4266                                     de 7 a 10 anos                                                                          \n",
              "4267  Não tive experiência na área de TI/Engenharia ...                                                                          \n",
              "4268  Não tive experiência na área de TI/Engenharia ...                                                                          \n",
              "4269  Não tive experiência na área de TI/Engenharia ...                                                                          \n",
              "4270  Não tive experiência na área de TI/Engenharia ...                                                                          \n",
              "\n",
              "     Você está satisfeito na sua empresa atual?  \\\n",
              "0                                          True   \n",
              "1                                         False   \n",
              "2                                         False   \n",
              "3                                          True   \n",
              "4                                         False   \n",
              "...                                         ...   \n",
              "4266                                       True   \n",
              "4267                                       True   \n",
              "4268                                       True   \n",
              "4269                                       True   \n",
              "4270                                      False   \n",
              "\n",
              "     Qual o principal motivo da sua insatisfação com a empresa atual?  \\\n",
              "0                                                   NaN                 \n",
              "1     Falta de oportunidade de crescimento no empreg...                 \n",
              "2     Falta de oportunidade de crescimento no empreg...                 \n",
              "3                                                   NaN                 \n",
              "4     Falta de oportunidade de crescimento no empreg...                 \n",
              "...                                                 ...                 \n",
              "4266                                                NaN                 \n",
              "4267                                                NaN                 \n",
              "4268                                                NaN                 \n",
              "4269                                                NaN                 \n",
              "4270  Salário atual não corresponde ao mercado, Falt...                 \n",
              "\n",
              "     Você participou de entrevistas de emprego nos últimos 6 meses?  \\\n",
              "0     Não participei de entrevistas de emprego/proce...               \n",
              "1             Sim, fiz entrevistas mas não fui aprovado               \n",
              "2     Não participei de entrevistas de emprego/proce...               \n",
              "3                  Sim, fui aprovado e mudei de emprego               \n",
              "4     Não participei de entrevistas de emprego/proce...               \n",
              "...                                                 ...               \n",
              "4266               Sim, fui aprovado e mudei de emprego               \n",
              "4267  Não participei de entrevistas de emprego/proce...               \n",
              "4268  Sim, fui aprovado mas decidi não mudar de emprego               \n",
              "4269  Não participei de entrevistas de emprego/proce...               \n",
              "4270          Sim, fiz entrevistas mas não fui aprovado               \n",
              "\n",
              "     Você pretende mudar de emprego nos próximos 6 meses?  \\\n",
              "0     Não estou buscando e não pretendo mudar de emp...     \n",
              "1     Estou em busca de oportunidades dentro ou fora...     \n",
              "2     Não estou buscando, mas me considero aberto a ...     \n",
              "3     Não estou buscando, mas me considero aberto a ...     \n",
              "4     Não estou buscando, mas me considero aberto a ...     \n",
              "...                                                 ...     \n",
              "4266  Não estou buscando e não pretendo mudar de emp...     \n",
              "4267  Não estou buscando e não pretendo mudar de emp...     \n",
              "4268  Não estou buscando, mas me considero aberto a ...     \n",
              "4269  Estou em busca de oportunidades dentro ou fora...     \n",
              "4270  Estou em busca de oportunidades dentro ou fora...     \n",
              "\n",
              "     Quais os principais critérios que você leva em consideração no momento de decidir onde trabalhar?  \\\n",
              "0                                            Benefícios                                                  \n",
              "1     Remuneração/Salário, Plano de carreira e oport...                                                  \n",
              "2     Remuneração/Salário, Flexibilidade de trabalho...                                                  \n",
              "3     Remuneração/Salário, Flexibilidade de trabalho...                                                  \n",
              "4     Remuneração/Salário, Oportunidade de aprendiza...                                                  \n",
              "...                                                 ...                                                  \n",
              "4266  Remuneração/Salário, Benefícios, Flexibilidade...                                                  \n",
              "4267  Ambiente e clima de trabalho, Plano de carreir...                                                  \n",
              "4268  Remuneração/Salário, Ambiente e clima de traba...                                                  \n",
              "4269  Oportunidade de aprendizado e trabalhar com re...                                                  \n",
              "4270  Remuneração/Salário, Oportunidade de aprendiza...                                                  \n",
              "\n",
              "               Atualmente qual a sua forma de trabalho?  \\\n",
              "0                                Modelo 100% presencial   \n",
              "1                                Modelo 100% presencial   \n",
              "2     Modelo híbrido com dias fixos de trabalho pres...   \n",
              "3     Modelo híbrido flexível (o funcionário tem lib...   \n",
              "4                                Modelo 100% presencial   \n",
              "...                                                 ...   \n",
              "4266                                 Modelo 100% remoto   \n",
              "4267                                 Modelo 100% remoto   \n",
              "4268  Modelo híbrido com dias fixos de trabalho pres...   \n",
              "4269                             Modelo 100% presencial   \n",
              "4270                                 Modelo 100% remoto   \n",
              "\n",
              "              Qual a forma de trabalho ideal para você?  \\\n",
              "0     Modelo híbrido com dias fixos de trabalho pres...   \n",
              "1     Modelo híbrido flexível (o funcionário tem lib...   \n",
              "2     Modelo híbrido flexível (o funcionário tem lib...   \n",
              "3     Modelo híbrido flexível (o funcionário tem lib...   \n",
              "4                                Modelo 100% presencial   \n",
              "...                                                 ...   \n",
              "4266  Modelo híbrido flexível (o funcionário tem lib...   \n",
              "4267  Modelo híbrido flexível (o funcionário tem lib...   \n",
              "4268  Modelo híbrido flexível (o funcionário tem lib...   \n",
              "4269                             Modelo 100% presencial   \n",
              "4270                                 Modelo 100% remoto   \n",
              "\n",
              "     Caso sua empresa decida pelo modelo 100% presencial qual será sua atitude?  \\\n",
              "0      Vou aceitar e retornar ao modelo 100% presencial                           \n",
              "1      Vou aceitar e retornar ao modelo 100% presencial                           \n",
              "2     Vou procurar outra oportunidade no modelo híbr...                           \n",
              "3     Vou procurar outra oportunidade no modelo híbr...                           \n",
              "4      Vou aceitar e retornar ao modelo 100% presencial                           \n",
              "...                                                 ...                           \n",
              "4266  Vou procurar outra oportunidade no modelo híbr...                           \n",
              "4267   Vou aceitar e retornar ao modelo 100% presencial                           \n",
              "4268  Vou procurar outra oportunidade no modelo híbr...                           \n",
              "4269   Vou aceitar e retornar ao modelo 100% presencial                           \n",
              "4270  Vou procurar outra oportunidade no modelo 100%...                           \n",
              "\n",
              "                  Sua empresa passu por Layoff em 2022?  \\\n",
              "0     Não ocorreram layoffs/demissões em massa na em...   \n",
              "1     Não ocorreram layoffs/demissões em massa na em...   \n",
              "2     Não ocorreram layoffs/demissões em massa na em...   \n",
              "3     Não ocorreram layoffs/demissões em massa na em...   \n",
              "4     Não ocorreram layoffs/demissões em massa na em...   \n",
              "...                                                 ...   \n",
              "4266  Não ocorreram layoffs/demissões em massa na em...   \n",
              "4267  Não ocorreram layoffs/demissões em massa na em...   \n",
              "4268  Sim, ocorreram layoffs/demissões em massa na e...   \n",
              "4269  Não ocorreram layoffs/demissões em massa na em...   \n",
              "4270  Não ocorreram layoffs/demissões em massa na em...   \n",
              "\n",
              "                                                Atuacao  \\\n",
              "0                                   Engenharia de Dados   \n",
              "1                                                Gestor   \n",
              "2      desenvolve modelos preditivos e algoritmos de...   \n",
              "3      desenvolve modelos preditivos e algoritmos de...   \n",
              "4                                         Outra atuação   \n",
              "...                                                 ...   \n",
              "4266                                   Análise de Dados   \n",
              "4267                                Engenharia de Dados   \n",
              "4268                                             Gestor   \n",
              "4269                                      Outra atuação   \n",
              "4270                                   Análise de Dados   \n",
              "\n",
              "     Quais das linguagens listadas abaixo você utiliza no trabalho?  \n",
              "0                                                   SQL              \n",
              "1                                                   NaN              \n",
              "2                                                     1              \n",
              "3                                                     0              \n",
              "4                                                   SQL              \n",
              "...                                                 ...              \n",
              "4266                                                SQL              \n",
              "4267                                        SQL, Python              \n",
              "4268                                                NaN              \n",
              "4269                                        Python, SQL              \n",
              "4270                                                SQL              \n",
              "\n",
              "[4271 rows x 14 columns]"
            ],
            "text/html": [
              "\n",
              "  <div id=\"df-98c8bf64-5860-447f-85c5-7a5980cdc617\" class=\"colab-df-container\">\n",
              "    <div>\n",
              "<style scoped>\n",
              "    .dataframe tbody tr th:only-of-type {\n",
              "        vertical-align: middle;\n",
              "    }\n",
              "\n",
              "    .dataframe tbody tr th {\n",
              "        vertical-align: top;\n",
              "    }\n",
              "\n",
              "    .dataframe thead th {\n",
              "        text-align: right;\n",
              "    }\n",
              "</style>\n",
              "<table border=\"1\" class=\"dataframe\">\n",
              "  <thead>\n",
              "    <tr style=\"text-align: right;\">\n",
              "      <th></th>\n",
              "      <th>ID</th>\n",
              "      <th>Quanto tempo de experiência na área de dados você tem?</th>\n",
              "      <th>Quanto tempo de experiência na área de TI/Engenharia de Software você teve antes de começar a trabalhar na área de dados?</th>\n",
              "      <th>Você está satisfeito na sua empresa atual?</th>\n",
              "      <th>Qual o principal motivo da sua insatisfação com a empresa atual?</th>\n",
              "      <th>Você participou de entrevistas de emprego nos últimos 6 meses?</th>\n",
              "      <th>Você pretende mudar de emprego nos próximos 6 meses?</th>\n",
              "      <th>Quais os principais critérios que você leva em consideração no momento de decidir onde trabalhar?</th>\n",
              "      <th>Atualmente qual a sua forma de trabalho?</th>\n",
              "      <th>Qual a forma de trabalho ideal para você?</th>\n",
              "      <th>Caso sua empresa decida pelo modelo 100% presencial qual será sua atitude?</th>\n",
              "      <th>Sua empresa passu por Layoff em 2022?</th>\n",
              "      <th>Atuacao</th>\n",
              "      <th>Quais das linguagens listadas abaixo você utiliza no trabalho?</th>\n",
              "    </tr>\n",
              "  </thead>\n",
              "  <tbody>\n",
              "    <tr>\n",
              "      <th>0</th>\n",
              "      <td>zzqzz3l9ily8nuo2m7wyzzqzz3w48o96</td>\n",
              "      <td>de 1 a 2 anos</td>\n",
              "      <td>de 7 a 10 anos</td>\n",
              "      <td>True</td>\n",
              "      <td>NaN</td>\n",
              "      <td>Não participei de entrevistas de emprego/proce...</td>\n",
              "      <td>Não estou buscando e não pretendo mudar de emp...</td>\n",
              "      <td>Benefícios</td>\n",
              "      <td>Modelo 100% presencial</td>\n",
              "      <td>Modelo híbrido com dias fixos de trabalho pres...</td>\n",
              "      <td>Vou aceitar e retornar ao modelo 100% presencial</td>\n",
              "      <td>Não ocorreram layoffs/demissões em massa na em...</td>\n",
              "      <td>Engenharia de Dados</td>\n",
              "      <td>SQL</td>\n",
              "    </tr>\n",
              "    <tr>\n",
              "      <th>1</th>\n",
              "      <td>zzls2oftfn9law393oezzls2ofhvfpzd</td>\n",
              "      <td>de 3 a 4 anos</td>\n",
              "      <td>Menos de 1 ano</td>\n",
              "      <td>False</td>\n",
              "      <td>Falta de oportunidade de crescimento no empreg...</td>\n",
              "      <td>Sim, fiz entrevistas mas não fui aprovado</td>\n",
              "      <td>Estou em busca de oportunidades dentro ou fora...</td>\n",
              "      <td>Remuneração/Salário, Plano de carreira e oport...</td>\n",
              "      <td>Modelo 100% presencial</td>\n",
              "      <td>Modelo híbrido flexível (o funcionário tem lib...</td>\n",
              "      <td>Vou aceitar e retornar ao modelo 100% presencial</td>\n",
              "      <td>Não ocorreram layoffs/demissões em massa na em...</td>\n",
              "      <td>Gestor</td>\n",
              "      <td>NaN</td>\n",
              "    </tr>\n",
              "    <tr>\n",
              "      <th>2</th>\n",
              "      <td>zzdwqzfqqp1ypc7ps6m0hzzdwqz292yi</td>\n",
              "      <td>de 3 a 4 anos</td>\n",
              "      <td>Mais de 10 anos</td>\n",
              "      <td>False</td>\n",
              "      <td>Falta de oportunidade de crescimento no empreg...</td>\n",
              "      <td>Não participei de entrevistas de emprego/proce...</td>\n",
              "      <td>Não estou buscando, mas me considero aberto a ...</td>\n",
              "      <td>Remuneração/Salário, Flexibilidade de trabalho...</td>\n",
              "      <td>Modelo híbrido com dias fixos de trabalho pres...</td>\n",
              "      <td>Modelo híbrido flexível (o funcionário tem lib...</td>\n",
              "      <td>Vou procurar outra oportunidade no modelo híbr...</td>\n",
              "      <td>Não ocorreram layoffs/demissões em massa na em...</td>\n",
              "      <td>desenvolve modelos preditivos e algoritmos de...</td>\n",
              "      <td>1</td>\n",
              "    </tr>\n",
              "    <tr>\n",
              "      <th>3</th>\n",
              "      <td>zzbqh3uy7yk7k9qmkzzbqtb4s9faqspl</td>\n",
              "      <td>de 4 a 6 anos</td>\n",
              "      <td>Não tive experiência na área de TI/Engenharia ...</td>\n",
              "      <td>True</td>\n",
              "      <td>NaN</td>\n",
              "      <td>Sim, fui aprovado e mudei de emprego</td>\n",
              "      <td>Não estou buscando, mas me considero aberto a ...</td>\n",
              "      <td>Remuneração/Salário, Flexibilidade de trabalho...</td>\n",
              "      <td>Modelo híbrido flexível (o funcionário tem lib...</td>\n",
              "      <td>Modelo híbrido flexível (o funcionário tem lib...</td>\n",
              "      <td>Vou procurar outra oportunidade no modelo híbr...</td>\n",
              "      <td>Não ocorreram layoffs/demissões em massa na em...</td>\n",
              "      <td>desenvolve modelos preditivos e algoritmos de...</td>\n",
              "      <td>0</td>\n",
              "    </tr>\n",
              "    <tr>\n",
              "      <th>4</th>\n",
              "      <td>zzaf1m95yan929rb94wzzaf1mekhvhpg</td>\n",
              "      <td>Não tenho experiência na área de dados</td>\n",
              "      <td>Mais de 10 anos</td>\n",
              "      <td>False</td>\n",
              "      <td>Falta de oportunidade de crescimento no empreg...</td>\n",
              "      <td>Não participei de entrevistas de emprego/proce...</td>\n",
              "      <td>Não estou buscando, mas me considero aberto a ...</td>\n",
              "      <td>Remuneração/Salário, Oportunidade de aprendiza...</td>\n",
              "      <td>Modelo 100% presencial</td>\n",
              "      <td>Modelo 100% presencial</td>\n",
              "      <td>Vou aceitar e retornar ao modelo 100% presencial</td>\n",
              "      <td>Não ocorreram layoffs/demissões em massa na em...</td>\n",
              "      <td>Outra atuação</td>\n",
              "      <td>SQL</td>\n",
              "    </tr>\n",
              "    <tr>\n",
              "      <th>...</th>\n",
              "      <td>...</td>\n",
              "      <td>...</td>\n",
              "      <td>...</td>\n",
              "      <td>...</td>\n",
              "      <td>...</td>\n",
              "      <td>...</td>\n",
              "      <td>...</td>\n",
              "      <td>...</td>\n",
              "      <td>...</td>\n",
              "      <td>...</td>\n",
              "      <td>...</td>\n",
              "      <td>...</td>\n",
              "      <td>...</td>\n",
              "      <td>...</td>\n",
              "    </tr>\n",
              "    <tr>\n",
              "      <th>4266</th>\n",
              "      <td>01jnrn9f6va0menfhk2ztm01jnrn96bp</td>\n",
              "      <td>de 3 a 4 anos</td>\n",
              "      <td>de 7 a 10 anos</td>\n",
              "      <td>True</td>\n",
              "      <td>NaN</td>\n",
              "      <td>Sim, fui aprovado e mudei de emprego</td>\n",
              "      <td>Não estou buscando e não pretendo mudar de emp...</td>\n",
              "      <td>Remuneração/Salário, Benefícios, Flexibilidade...</td>\n",
              "      <td>Modelo 100% remoto</td>\n",
              "      <td>Modelo híbrido flexível (o funcionário tem lib...</td>\n",
              "      <td>Vou procurar outra oportunidade no modelo híbr...</td>\n",
              "      <td>Não ocorreram layoffs/demissões em massa na em...</td>\n",
              "      <td>Análise de Dados</td>\n",
              "      <td>SQL</td>\n",
              "    </tr>\n",
              "    <tr>\n",
              "      <th>4267</th>\n",
              "      <td>01dyfxam4u4bi29fem01dyfxaq9akvqp</td>\n",
              "      <td>de 1 a 2 anos</td>\n",
              "      <td>Não tive experiência na área de TI/Engenharia ...</td>\n",
              "      <td>True</td>\n",
              "      <td>NaN</td>\n",
              "      <td>Não participei de entrevistas de emprego/proce...</td>\n",
              "      <td>Não estou buscando e não pretendo mudar de emp...</td>\n",
              "      <td>Ambiente e clima de trabalho, Plano de carreir...</td>\n",
              "      <td>Modelo 100% remoto</td>\n",
              "      <td>Modelo híbrido flexível (o funcionário tem lib...</td>\n",
              "      <td>Vou aceitar e retornar ao modelo 100% presencial</td>\n",
              "      <td>Não ocorreram layoffs/demissões em massa na em...</td>\n",
              "      <td>Engenharia de Dados</td>\n",
              "      <td>SQL, Python</td>\n",
              "    </tr>\n",
              "    <tr>\n",
              "      <th>4268</th>\n",
              "      <td>00zw9ks9d40z4u00zz3d20iix65qpli3</td>\n",
              "      <td>de 4 a 6 anos</td>\n",
              "      <td>Não tive experiência na área de TI/Engenharia ...</td>\n",
              "      <td>True</td>\n",
              "      <td>NaN</td>\n",
              "      <td>Sim, fui aprovado mas decidi não mudar de emprego</td>\n",
              "      <td>Não estou buscando, mas me considero aberto a ...</td>\n",
              "      <td>Remuneração/Salário, Ambiente e clima de traba...</td>\n",
              "      <td>Modelo híbrido com dias fixos de trabalho pres...</td>\n",
              "      <td>Modelo híbrido flexível (o funcionário tem lib...</td>\n",
              "      <td>Vou procurar outra oportunidade no modelo híbr...</td>\n",
              "      <td>Sim, ocorreram layoffs/demissões em massa na e...</td>\n",
              "      <td>Gestor</td>\n",
              "      <td>NaN</td>\n",
              "    </tr>\n",
              "    <tr>\n",
              "      <th>4269</th>\n",
              "      <td>00xu7yujd7s57emj00xu7y0c3njix3de</td>\n",
              "      <td>Menos de 1 ano</td>\n",
              "      <td>Não tive experiência na área de TI/Engenharia ...</td>\n",
              "      <td>True</td>\n",
              "      <td>NaN</td>\n",
              "      <td>Não participei de entrevistas de emprego/proce...</td>\n",
              "      <td>Estou em busca de oportunidades dentro ou fora...</td>\n",
              "      <td>Oportunidade de aprendizado e trabalhar com re...</td>\n",
              "      <td>Modelo 100% presencial</td>\n",
              "      <td>Modelo 100% presencial</td>\n",
              "      <td>Vou aceitar e retornar ao modelo 100% presencial</td>\n",
              "      <td>Não ocorreram layoffs/demissões em massa na em...</td>\n",
              "      <td>Outra atuação</td>\n",
              "      <td>Python, SQL</td>\n",
              "    </tr>\n",
              "    <tr>\n",
              "      <th>4270</th>\n",
              "      <td>00lb35llmdsidpa00lb35qcdysnzvhv7</td>\n",
              "      <td>de 1 a 2 anos</td>\n",
              "      <td>Não tive experiência na área de TI/Engenharia ...</td>\n",
              "      <td>False</td>\n",
              "      <td>Salário atual não corresponde ao mercado, Falt...</td>\n",
              "      <td>Sim, fiz entrevistas mas não fui aprovado</td>\n",
              "      <td>Estou em busca de oportunidades dentro ou fora...</td>\n",
              "      <td>Remuneração/Salário, Oportunidade de aprendiza...</td>\n",
              "      <td>Modelo 100% remoto</td>\n",
              "      <td>Modelo 100% remoto</td>\n",
              "      <td>Vou procurar outra oportunidade no modelo 100%...</td>\n",
              "      <td>Não ocorreram layoffs/demissões em massa na em...</td>\n",
              "      <td>Análise de Dados</td>\n",
              "      <td>SQL</td>\n",
              "    </tr>\n",
              "  </tbody>\n",
              "</table>\n",
              "<p>4271 rows × 14 columns</p>\n",
              "</div>\n",
              "    <div class=\"colab-df-buttons\">\n",
              "\n",
              "  <div class=\"colab-df-container\">\n",
              "    <button class=\"colab-df-convert\" onclick=\"convertToInteractive('df-98c8bf64-5860-447f-85c5-7a5980cdc617')\"\n",
              "            title=\"Convert this dataframe to an interactive table.\"\n",
              "            style=\"display:none;\">\n",
              "\n",
              "  <svg xmlns=\"http://www.w3.org/2000/svg\" height=\"24px\" viewBox=\"0 -960 960 960\">\n",
              "    <path d=\"M120-120v-720h720v720H120Zm60-500h600v-160H180v160Zm220 220h160v-160H400v160Zm0 220h160v-160H400v160ZM180-400h160v-160H180v160Zm440 0h160v-160H620v160ZM180-180h160v-160H180v160Zm440 0h160v-160H620v160Z\"/>\n",
              "  </svg>\n",
              "    </button>\n",
              "\n",
              "  <style>\n",
              "    .colab-df-container {\n",
              "      display:flex;\n",
              "      gap: 12px;\n",
              "    }\n",
              "\n",
              "    .colab-df-convert {\n",
              "      background-color: #E8F0FE;\n",
              "      border: none;\n",
              "      border-radius: 50%;\n",
              "      cursor: pointer;\n",
              "      display: none;\n",
              "      fill: #1967D2;\n",
              "      height: 32px;\n",
              "      padding: 0 0 0 0;\n",
              "      width: 32px;\n",
              "    }\n",
              "\n",
              "    .colab-df-convert:hover {\n",
              "      background-color: #E2EBFA;\n",
              "      box-shadow: 0px 1px 2px rgba(60, 64, 67, 0.3), 0px 1px 3px 1px rgba(60, 64, 67, 0.15);\n",
              "      fill: #174EA6;\n",
              "    }\n",
              "\n",
              "    .colab-df-buttons div {\n",
              "      margin-bottom: 4px;\n",
              "    }\n",
              "\n",
              "    [theme=dark] .colab-df-convert {\n",
              "      background-color: #3B4455;\n",
              "      fill: #D2E3FC;\n",
              "    }\n",
              "\n",
              "    [theme=dark] .colab-df-convert:hover {\n",
              "      background-color: #434B5C;\n",
              "      box-shadow: 0px 1px 3px 1px rgba(0, 0, 0, 0.15);\n",
              "      filter: drop-shadow(0px 1px 2px rgba(0, 0, 0, 0.3));\n",
              "      fill: #FFFFFF;\n",
              "    }\n",
              "  </style>\n",
              "\n",
              "    <script>\n",
              "      const buttonEl =\n",
              "        document.querySelector('#df-98c8bf64-5860-447f-85c5-7a5980cdc617 button.colab-df-convert');\n",
              "      buttonEl.style.display =\n",
              "        google.colab.kernel.accessAllowed ? 'block' : 'none';\n",
              "\n",
              "      async function convertToInteractive(key) {\n",
              "        const element = document.querySelector('#df-98c8bf64-5860-447f-85c5-7a5980cdc617');\n",
              "        const dataTable =\n",
              "          await google.colab.kernel.invokeFunction('convertToInteractive',\n",
              "                                                    [key], {});\n",
              "        if (!dataTable) return;\n",
              "\n",
              "        const docLinkHtml = 'Like what you see? Visit the ' +\n",
              "          '<a target=\"_blank\" href=https://colab.research.google.com/notebooks/data_table.ipynb>data table notebook</a>'\n",
              "          + ' to learn more about interactive tables.';\n",
              "        element.innerHTML = '';\n",
              "        dataTable['output_type'] = 'display_data';\n",
              "        await google.colab.output.renderOutput(dataTable, element);\n",
              "        const docLink = document.createElement('div');\n",
              "        docLink.innerHTML = docLinkHtml;\n",
              "        element.appendChild(docLink);\n",
              "      }\n",
              "    </script>\n",
              "  </div>\n",
              "\n",
              "\n",
              "<div id=\"df-3d969acc-a5a6-47e0-865e-a829b00299a0\">\n",
              "  <button class=\"colab-df-quickchart\" onclick=\"quickchart('df-3d969acc-a5a6-47e0-865e-a829b00299a0')\"\n",
              "            title=\"Suggest charts\"\n",
              "            style=\"display:none;\">\n",
              "\n",
              "<svg xmlns=\"http://www.w3.org/2000/svg\" height=\"24px\"viewBox=\"0 0 24 24\"\n",
              "     width=\"24px\">\n",
              "    <g>\n",
              "        <path d=\"M19 3H5c-1.1 0-2 .9-2 2v14c0 1.1.9 2 2 2h14c1.1 0 2-.9 2-2V5c0-1.1-.9-2-2-2zM9 17H7v-7h2v7zm4 0h-2V7h2v10zm4 0h-2v-4h2v4z\"/>\n",
              "    </g>\n",
              "</svg>\n",
              "  </button>\n",
              "\n",
              "<style>\n",
              "  .colab-df-quickchart {\n",
              "      --bg-color: #E8F0FE;\n",
              "      --fill-color: #1967D2;\n",
              "      --hover-bg-color: #E2EBFA;\n",
              "      --hover-fill-color: #174EA6;\n",
              "      --disabled-fill-color: #AAA;\n",
              "      --disabled-bg-color: #DDD;\n",
              "  }\n",
              "\n",
              "  [theme=dark] .colab-df-quickchart {\n",
              "      --bg-color: #3B4455;\n",
              "      --fill-color: #D2E3FC;\n",
              "      --hover-bg-color: #434B5C;\n",
              "      --hover-fill-color: #FFFFFF;\n",
              "      --disabled-bg-color: #3B4455;\n",
              "      --disabled-fill-color: #666;\n",
              "  }\n",
              "\n",
              "  .colab-df-quickchart {\n",
              "    background-color: var(--bg-color);\n",
              "    border: none;\n",
              "    border-radius: 50%;\n",
              "    cursor: pointer;\n",
              "    display: none;\n",
              "    fill: var(--fill-color);\n",
              "    height: 32px;\n",
              "    padding: 0;\n",
              "    width: 32px;\n",
              "  }\n",
              "\n",
              "  .colab-df-quickchart:hover {\n",
              "    background-color: var(--hover-bg-color);\n",
              "    box-shadow: 0 1px 2px rgba(60, 64, 67, 0.3), 0 1px 3px 1px rgba(60, 64, 67, 0.15);\n",
              "    fill: var(--button-hover-fill-color);\n",
              "  }\n",
              "\n",
              "  .colab-df-quickchart-complete:disabled,\n",
              "  .colab-df-quickchart-complete:disabled:hover {\n",
              "    background-color: var(--disabled-bg-color);\n",
              "    fill: var(--disabled-fill-color);\n",
              "    box-shadow: none;\n",
              "  }\n",
              "\n",
              "  .colab-df-spinner {\n",
              "    border: 2px solid var(--fill-color);\n",
              "    border-color: transparent;\n",
              "    border-bottom-color: var(--fill-color);\n",
              "    animation:\n",
              "      spin 1s steps(1) infinite;\n",
              "  }\n",
              "\n",
              "  @keyframes spin {\n",
              "    0% {\n",
              "      border-color: transparent;\n",
              "      border-bottom-color: var(--fill-color);\n",
              "      border-left-color: var(--fill-color);\n",
              "    }\n",
              "    20% {\n",
              "      border-color: transparent;\n",
              "      border-left-color: var(--fill-color);\n",
              "      border-top-color: var(--fill-color);\n",
              "    }\n",
              "    30% {\n",
              "      border-color: transparent;\n",
              "      border-left-color: var(--fill-color);\n",
              "      border-top-color: var(--fill-color);\n",
              "      border-right-color: var(--fill-color);\n",
              "    }\n",
              "    40% {\n",
              "      border-color: transparent;\n",
              "      border-right-color: var(--fill-color);\n",
              "      border-top-color: var(--fill-color);\n",
              "    }\n",
              "    60% {\n",
              "      border-color: transparent;\n",
              "      border-right-color: var(--fill-color);\n",
              "    }\n",
              "    80% {\n",
              "      border-color: transparent;\n",
              "      border-right-color: var(--fill-color);\n",
              "      border-bottom-color: var(--fill-color);\n",
              "    }\n",
              "    90% {\n",
              "      border-color: transparent;\n",
              "      border-bottom-color: var(--fill-color);\n",
              "    }\n",
              "  }\n",
              "</style>\n",
              "\n",
              "  <script>\n",
              "    async function quickchart(key) {\n",
              "      const quickchartButtonEl =\n",
              "        document.querySelector('#' + key + ' button');\n",
              "      quickchartButtonEl.disabled = true;  // To prevent multiple clicks.\n",
              "      quickchartButtonEl.classList.add('colab-df-spinner');\n",
              "      try {\n",
              "        const charts = await google.colab.kernel.invokeFunction(\n",
              "            'suggestCharts', [key], {});\n",
              "      } catch (error) {\n",
              "        console.error('Error during call to suggestCharts:', error);\n",
              "      }\n",
              "      quickchartButtonEl.classList.remove('colab-df-spinner');\n",
              "      quickchartButtonEl.classList.add('colab-df-quickchart-complete');\n",
              "    }\n",
              "    (() => {\n",
              "      let quickchartButtonEl =\n",
              "        document.querySelector('#df-3d969acc-a5a6-47e0-865e-a829b00299a0 button');\n",
              "      quickchartButtonEl.style.display =\n",
              "        google.colab.kernel.accessAllowed ? 'block' : 'none';\n",
              "    })();\n",
              "  </script>\n",
              "</div>\n",
              "\n",
              "  <div id=\"id_9f8cb27d-de2c-45b6-b312-c8772074e9bf\">\n",
              "    <style>\n",
              "      .colab-df-generate {\n",
              "        background-color: #E8F0FE;\n",
              "        border: none;\n",
              "        border-radius: 50%;\n",
              "        cursor: pointer;\n",
              "        display: none;\n",
              "        fill: #1967D2;\n",
              "        height: 32px;\n",
              "        padding: 0 0 0 0;\n",
              "        width: 32px;\n",
              "      }\n",
              "\n",
              "      .colab-df-generate:hover {\n",
              "        background-color: #E2EBFA;\n",
              "        box-shadow: 0px 1px 2px rgba(60, 64, 67, 0.3), 0px 1px 3px 1px rgba(60, 64, 67, 0.15);\n",
              "        fill: #174EA6;\n",
              "      }\n",
              "\n",
              "      [theme=dark] .colab-df-generate {\n",
              "        background-color: #3B4455;\n",
              "        fill: #D2E3FC;\n",
              "      }\n",
              "\n",
              "      [theme=dark] .colab-df-generate:hover {\n",
              "        background-color: #434B5C;\n",
              "        box-shadow: 0px 1px 3px 1px rgba(0, 0, 0, 0.15);\n",
              "        filter: drop-shadow(0px 1px 2px rgba(0, 0, 0, 0.3));\n",
              "        fill: #FFFFFF;\n",
              "      }\n",
              "    </style>\n",
              "    <button class=\"colab-df-generate\" onclick=\"generateWithVariable('df2')\"\n",
              "            title=\"Generate code using this dataframe.\"\n",
              "            style=\"display:none;\">\n",
              "\n",
              "  <svg xmlns=\"http://www.w3.org/2000/svg\" height=\"24px\"viewBox=\"0 0 24 24\"\n",
              "       width=\"24px\">\n",
              "    <path d=\"M7,19H8.4L18.45,9,17,7.55,7,17.6ZM5,21V16.75L18.45,3.32a2,2,0,0,1,2.83,0l1.4,1.43a1.91,1.91,0,0,1,.58,1.4,1.91,1.91,0,0,1-.58,1.4L9.25,21ZM18.45,9,17,7.55Zm-12,3A5.31,5.31,0,0,0,4.9,8.1,5.31,5.31,0,0,0,1,6.5,5.31,5.31,0,0,0,4.9,4.9,5.31,5.31,0,0,0,6.5,1,5.31,5.31,0,0,0,8.1,4.9,5.31,5.31,0,0,0,12,6.5,5.46,5.46,0,0,0,6.5,12Z\"/>\n",
              "  </svg>\n",
              "    </button>\n",
              "    <script>\n",
              "      (() => {\n",
              "      const buttonEl =\n",
              "        document.querySelector('#id_9f8cb27d-de2c-45b6-b312-c8772074e9bf button.colab-df-generate');\n",
              "      buttonEl.style.display =\n",
              "        google.colab.kernel.accessAllowed ? 'block' : 'none';\n",
              "\n",
              "      buttonEl.onclick = () => {\n",
              "        google.colab.notebook.generateWithVariable('df2');\n",
              "      }\n",
              "      })();\n",
              "    </script>\n",
              "  </div>\n",
              "\n",
              "    </div>\n",
              "  </div>\n"
            ],
            "application/vnd.google.colaboratory.intrinsic+json": {
              "type": "dataframe",
              "variable_name": "df2",
              "summary": "{\n  \"name\": \"df2\",\n  \"rows\": 4271,\n  \"fields\": [\n    {\n      \"column\": \"ID\",\n      \"properties\": {\n        \"dtype\": \"string\",\n        \"num_unique_values\": 4270,\n        \"samples\": [\n          \"lon3cbabqxsfdipw9plon3c9ppw1805p\",\n          \"q8n7by6t52wt15467rvzyq8n7by60zrc\",\n          \"xmrl95xsh1vjvdbyewlcc9qtnxmrl95x\"\n        ],\n        \"semantic_type\": \"\",\n        \"description\": \"\"\n      }\n    },\n    {\n      \"column\": \"Quanto tempo de experi\\u00eancia na \\u00e1rea de dados voc\\u00ea tem?\",\n      \"properties\": {\n        \"dtype\": \"category\",\n        \"num_unique_values\": 7,\n        \"samples\": [\n          \"de 1 a 2 anos\",\n          \"de 3 a 4 anos\",\n          \"Mais de 10 anos\"\n        ],\n        \"semantic_type\": \"\",\n        \"description\": \"\"\n      }\n    },\n    {\n      \"column\": \"Quanto tempo de experi\\u00eancia na \\u00e1rea de TI/Engenharia de Software voc\\u00ea teve antes de come\\u00e7ar a trabalhar na \\u00e1rea de dados?\",\n      \"properties\": {\n        \"dtype\": \"category\",\n        \"num_unique_values\": 7,\n        \"samples\": [\n          \"de 7 a 10 anos\",\n          \"Menos de 1 ano\",\n          \"de 5 a 6 anos\"\n        ],\n        \"semantic_type\": \"\",\n        \"description\": \"\"\n      }\n    },\n    {\n      \"column\": \"Voc\\u00ea est\\u00e1 satisfeito na sua empresa atual?\",\n      \"properties\": {\n        \"dtype\": \"category\",\n        \"num_unique_values\": 2,\n        \"samples\": [\n          false,\n          true\n        ],\n        \"semantic_type\": \"\",\n        \"description\": \"\"\n      }\n    },\n    {\n      \"column\": \"Qual o principal motivo da sua insatisfa\\u00e7\\u00e3o com a empresa atual?\",\n      \"properties\": {\n        \"dtype\": \"category\",\n        \"num_unique_values\": 221,\n        \"samples\": [\n          \"Falta de oportunidade de crescimento no emprego atual, Gostaria de receber mais benef\\u00edcios, Pouco reconhecimento financeiro pelo trabalho exercido. Gest\\u00e3o de pessoas deixa a desejar. Processos de mudan\\u00e7a s\\u00e3o engessados\",\n          \"Burocracia\"\n        ],\n        \"semantic_type\": \"\",\n        \"description\": \"\"\n      }\n    },\n    {\n      \"column\": \"Voc\\u00ea participou de entrevistas de emprego nos \\u00faltimos 6 meses?\",\n      \"properties\": {\n        \"dtype\": \"category\",\n        \"num_unique_values\": 4,\n        \"samples\": [\n          \"Sim, fiz entrevistas mas n\\u00e3o fui aprovado\",\n          \"Sim, fui aprovado mas decidi n\\u00e3o mudar de emprego\"\n        ],\n        \"semantic_type\": \"\",\n        \"description\": \"\"\n      }\n    },\n    {\n      \"column\": \"Voc\\u00ea pretende mudar de emprego nos pr\\u00f3ximos 6 meses?\",\n      \"properties\": {\n        \"dtype\": \"category\",\n        \"num_unique_values\": 4,\n        \"samples\": [\n          \"Estou em busca de oportunidades dentro ou fora do Brasil\",\n          \"Estou em busca de oportunidades, mas apenas fora do Brasil\"\n        ],\n        \"semantic_type\": \"\",\n        \"description\": \"\"\n      }\n    },\n    {\n      \"column\": \"Quais os principais crit\\u00e9rios que voc\\u00ea leva em considera\\u00e7\\u00e3o no momento de decidir onde trabalhar?\",\n      \"properties\": {\n        \"dtype\": \"category\",\n        \"num_unique_values\": 462,\n        \"samples\": [\n          \"Remunera\\u00e7\\u00e3o/Sal\\u00e1rio, Prop\\u00f3sito do trabalho e da empresa, Benef\\u00edcios\",\n          \"Flexibilidade de trabalho remoto, Ambiente e clima de trabalho, Oportunidade de aprendizado e trabalhar com refer\\u00eancias na \\u00e1rea\"\n        ],\n        \"semantic_type\": \"\",\n        \"description\": \"\"\n      }\n    },\n    {\n      \"column\": \"Atualmente qual a sua forma de trabalho?\",\n      \"properties\": {\n        \"dtype\": \"category\",\n        \"num_unique_values\": 4,\n        \"samples\": [\n          \"Modelo h\\u00edbrido com dias fixos de trabalho presencial\",\n          \"Modelo 100% remoto\"\n        ],\n        \"semantic_type\": \"\",\n        \"description\": \"\"\n      }\n    },\n    {\n      \"column\": \"Qual a forma de trabalho ideal para voc\\u00ea?\",\n      \"properties\": {\n        \"dtype\": \"category\",\n        \"num_unique_values\": 4,\n        \"samples\": [\n          \"Modelo h\\u00edbrido flex\\u00edvel (o funcion\\u00e1rio tem liberdade para escolher quando estar no escrit\\u00f3rio presencialmente)\",\n          \"Modelo 100% remoto\"\n        ],\n        \"semantic_type\": \"\",\n        \"description\": \"\"\n      }\n    },\n    {\n      \"column\": \"Caso sua empresa decida pelo modelo 100% presencial qual ser\\u00e1 sua atitude?\",\n      \"properties\": {\n        \"dtype\": \"category\",\n        \"num_unique_values\": 3,\n        \"samples\": [\n          \"Vou aceitar e retornar ao modelo 100% presencial\",\n          \"Vou procurar outra oportunidade no modelo h\\u00edbrido ou remoto\"\n        ],\n        \"semantic_type\": \"\",\n        \"description\": \"\"\n      }\n    },\n    {\n      \"column\": \"Sua empresa passu por Layoff em 2022?\",\n      \"properties\": {\n        \"dtype\": \"category\",\n        \"num_unique_values\": 3,\n        \"samples\": [\n          \"N\\u00e3o ocorreram layoffs/demiss\\u00f5es em massa na empresa em que trabalho\",\n          \"Sim, ocorreram layoffs/demiss\\u00f5es em massa na empresa em que trabalho mas n\\u00e3o fui afetado\"\n        ],\n        \"semantic_type\": \"\",\n        \"description\": \"\"\n      }\n    },\n    {\n      \"column\": \"Atuacao\",\n      \"properties\": {\n        \"dtype\": \"category\",\n        \"num_unique_values\": 6,\n        \"samples\": [\n          \"Engenharia de Dados\",\n          \"Gestor\"\n        ],\n        \"semantic_type\": \"\",\n        \"description\": \"\"\n      }\n    },\n    {\n      \"column\": \"Quais das linguagens listadas abaixo voc\\u00ea utiliza no trabalho?\",\n      \"properties\": {\n        \"dtype\": \"category\",\n        \"num_unique_values\": 208,\n        \"samples\": [\n          \"SQL, .NET, Java\",\n          \"SQL, Python, Java\"\n        ],\n        \"semantic_type\": \"\",\n        \"description\": \"\"\n      }\n    }\n  ]\n}"
            }
          },
          "metadata": {},
          "execution_count": 87
        }
      ]
    },
    {
      "cell_type": "code",
      "source": [
        "#usando a função marge para juntar duas tabelas. lembrando que para que isso seja feito, é necessario que ambas as tabelas tenham uma coluna em comum.\n",
        "#nesse caso será a coluna ID\n",
        "df = df.merge(df2, on='ID', how='left')"
      ],
      "metadata": {
        "id": "q21jFOQz3F6T"
      },
      "execution_count": null,
      "outputs": []
    },
    {
      "cell_type": "code",
      "source": [
        "#verificando as colunas exixtentes na base\n",
        "df.columns"
      ],
      "metadata": {
        "colab": {
          "base_uri": "https://localhost:8080/"
        },
        "id": "-hoSpRsH32t_",
        "outputId": "ed085638-c1ac-4f28-f1ed-59632d2b1f1c"
      },
      "execution_count": null,
      "outputs": [
        {
          "output_type": "execute_result",
          "data": {
            "text/plain": [
              "Index(['Unnamed: 0', 'ID', 'IDADE', 'FAIXA IDADE', 'GENERO', 'COR/RACA/ETNIA',\n",
              "       'PCD', 'EXPERIENCIA_PROFISSIONAL_PREJUDICADA', 'ASPECTOS_PREJUDICADOS',\n",
              "       'VIVE_NO_BRASIL', 'ESTADO ONDE MORA', 'UF ONDE MORA',\n",
              "       'REGIAO ONDE MORA', 'MUDOU DE ESTADO?', 'REGIAO DE ORIGEM',\n",
              "       'NIVEL DE ENSINO', 'ÁREA DE FORMAÇÃO',\n",
              "       'QUAL SUA SITUAÇÃO ATUAL DE TRABALHO?', 'SETOR',\n",
              "       'NUMERO DE FUNCIONARIOS', 'GESTOR?', 'CARGO COMO GESTOR', 'CARGO ATUAL',\n",
              "       'NIVEL', 'FAIXA SALARIAL',\n",
              "       'QUANTO TEMPO DE EXPERIÊNCIA NA ÁREA DE DADOS VOCÊ TEM?',\n",
              "       'QUANTO TEMPO DE EXPERIÊNCIA NA ÁREA DE TI/ENGENHARIA DE SOFTWARE VOCÊ TEVE ANTES DE COMEÇAR A TRABALHAR NA ÁREA DE DADOS?',\n",
              "       'SALARIO', 'Quanto tempo de experiência na área de dados você tem?',\n",
              "       'Quanto tempo de experiência na área de TI/Engenharia de Software você teve antes de começar a trabalhar na área de dados?',\n",
              "       'Você está satisfeito na sua empresa atual?',\n",
              "       'Qual o principal motivo da sua insatisfação com a empresa atual?',\n",
              "       'Você participou de entrevistas de emprego nos últimos 6 meses?',\n",
              "       'Você pretende mudar de emprego nos próximos 6 meses?',\n",
              "       'Quais os principais critérios que você leva em consideração no momento de decidir onde trabalhar?',\n",
              "       'Atualmente qual a sua forma de trabalho?',\n",
              "       'Qual a forma de trabalho ideal para você?',\n",
              "       'Caso sua empresa decida pelo modelo 100% presencial qual será sua atitude?',\n",
              "       'Sua empresa passu por Layoff em 2022?', 'Atuacao',\n",
              "       'Quais das linguagens listadas abaixo você utiliza no trabalho?'],\n",
              "      dtype='object')"
            ]
          },
          "metadata": {},
          "execution_count": 89
        }
      ]
    },
    {
      "cell_type": "code",
      "source": [
        "#contando as variaveis de uma coluna especifica\n",
        "df['Você pretende mudar de emprego nos próximos 6 meses?'].value_counts()"
      ],
      "metadata": {
        "colab": {
          "base_uri": "https://localhost:8080/",
          "height": 241
        },
        "id": "sOHrA6uN4Lzm",
        "outputId": "9c164872-b666-4dc0-ba91-cdc3e6d97aa3"
      },
      "execution_count": null,
      "outputs": [
        {
          "output_type": "execute_result",
          "data": {
            "text/plain": [
              "Você pretende mudar de emprego nos próximos 6 meses?\n",
              "Não estou buscando, mas me considero aberto a outras oportunidades         1354\n",
              "Estou em busca de oportunidades dentro ou fora do Brasil                   1011\n",
              "Não estou buscando e não pretendo mudar de emprego nos próximos 6 meses     978\n",
              "Estou em busca de oportunidades, mas apenas fora do Brasil                  353\n",
              "Name: count, dtype: int64"
            ],
            "text/html": [
              "<div>\n",
              "<style scoped>\n",
              "    .dataframe tbody tr th:only-of-type {\n",
              "        vertical-align: middle;\n",
              "    }\n",
              "\n",
              "    .dataframe tbody tr th {\n",
              "        vertical-align: top;\n",
              "    }\n",
              "\n",
              "    .dataframe thead th {\n",
              "        text-align: right;\n",
              "    }\n",
              "</style>\n",
              "<table border=\"1\" class=\"dataframe\">\n",
              "  <thead>\n",
              "    <tr style=\"text-align: right;\">\n",
              "      <th></th>\n",
              "      <th>count</th>\n",
              "    </tr>\n",
              "    <tr>\n",
              "      <th>Você pretende mudar de emprego nos próximos 6 meses?</th>\n",
              "      <th></th>\n",
              "    </tr>\n",
              "  </thead>\n",
              "  <tbody>\n",
              "    <tr>\n",
              "      <th>Não estou buscando, mas me considero aberto a outras oportunidades</th>\n",
              "      <td>1354</td>\n",
              "    </tr>\n",
              "    <tr>\n",
              "      <th>Estou em busca de oportunidades dentro ou fora do Brasil</th>\n",
              "      <td>1011</td>\n",
              "    </tr>\n",
              "    <tr>\n",
              "      <th>Não estou buscando e não pretendo mudar de emprego nos próximos 6 meses</th>\n",
              "      <td>978</td>\n",
              "    </tr>\n",
              "    <tr>\n",
              "      <th>Estou em busca de oportunidades, mas apenas fora do Brasil</th>\n",
              "      <td>353</td>\n",
              "    </tr>\n",
              "  </tbody>\n",
              "</table>\n",
              "</div><br><label><b>dtype:</b> int64</label>"
            ]
          },
          "metadata": {},
          "execution_count": 90
        }
      ]
    },
    {
      "cell_type": "code",
      "source": [
        "#criando um filtro para uma das colunas novas advinda da junção, e criando uma função para criar uma nova coluna\n",
        "df['EM_BUSCA']=df['Você pretende mudar de emprego nos próximos 6 meses?'].str.contains('em busca', case=False)"
      ],
      "metadata": {
        "id": "m3gDDawj9Yyf"
      },
      "execution_count": null,
      "outputs": []
    },
    {
      "cell_type": "code",
      "source": [
        "df['EM_BUSCA'].value_counts()"
      ],
      "metadata": {
        "colab": {
          "base_uri": "https://localhost:8080/",
          "height": 178
        },
        "id": "QeLcw_c-AcGI",
        "outputId": "1ae24738-a4a8-4363-bb36-b0ac9abf4ecc"
      },
      "execution_count": null,
      "outputs": [
        {
          "output_type": "execute_result",
          "data": {
            "text/plain": [
              "EM_BUSCA\n",
              "False    2332\n",
              "True     1364\n",
              "Name: count, dtype: int64"
            ],
            "text/html": [
              "<div>\n",
              "<style scoped>\n",
              "    .dataframe tbody tr th:only-of-type {\n",
              "        vertical-align: middle;\n",
              "    }\n",
              "\n",
              "    .dataframe tbody tr th {\n",
              "        vertical-align: top;\n",
              "    }\n",
              "\n",
              "    .dataframe thead th {\n",
              "        text-align: right;\n",
              "    }\n",
              "</style>\n",
              "<table border=\"1\" class=\"dataframe\">\n",
              "  <thead>\n",
              "    <tr style=\"text-align: right;\">\n",
              "      <th></th>\n",
              "      <th>count</th>\n",
              "    </tr>\n",
              "    <tr>\n",
              "      <th>EM_BUSCA</th>\n",
              "      <th></th>\n",
              "    </tr>\n",
              "  </thead>\n",
              "  <tbody>\n",
              "    <tr>\n",
              "      <th>False</th>\n",
              "      <td>2332</td>\n",
              "    </tr>\n",
              "    <tr>\n",
              "      <th>True</th>\n",
              "      <td>1364</td>\n",
              "    </tr>\n",
              "  </tbody>\n",
              "</table>\n",
              "</div><br><label><b>dtype:</b> int64</label>"
            ]
          },
          "metadata": {},
          "execution_count": 92
        }
      ]
    },
    {
      "cell_type": "code",
      "source": [
        "#repetindo o processo para uma nova variavel\n",
        "df['ABERTO_OPORT']=df['Você pretende mudar de emprego nos próximos 6 meses?'].str.contains('aberto', case=False)"
      ],
      "metadata": {
        "id": "Ps2NCdfaAfwG"
      },
      "execution_count": null,
      "outputs": []
    },
    {
      "cell_type": "code",
      "source": [
        "df['ABERTO_OPORT'].value_counts()"
      ],
      "metadata": {
        "colab": {
          "base_uri": "https://localhost:8080/",
          "height": 178
        },
        "id": "iPXLoR0RI7uR",
        "outputId": "b371a918-1479-4f4e-9fae-30e298ebfd70"
      },
      "execution_count": null,
      "outputs": [
        {
          "output_type": "execute_result",
          "data": {
            "text/plain": [
              "ABERTO_OPORT\n",
              "False    2342\n",
              "True     1354\n",
              "Name: count, dtype: int64"
            ],
            "text/html": [
              "<div>\n",
              "<style scoped>\n",
              "    .dataframe tbody tr th:only-of-type {\n",
              "        vertical-align: middle;\n",
              "    }\n",
              "\n",
              "    .dataframe tbody tr th {\n",
              "        vertical-align: top;\n",
              "    }\n",
              "\n",
              "    .dataframe thead th {\n",
              "        text-align: right;\n",
              "    }\n",
              "</style>\n",
              "<table border=\"1\" class=\"dataframe\">\n",
              "  <thead>\n",
              "    <tr style=\"text-align: right;\">\n",
              "      <th></th>\n",
              "      <th>count</th>\n",
              "    </tr>\n",
              "    <tr>\n",
              "      <th>ABERTO_OPORT</th>\n",
              "      <th></th>\n",
              "    </tr>\n",
              "  </thead>\n",
              "  <tbody>\n",
              "    <tr>\n",
              "      <th>False</th>\n",
              "      <td>2342</td>\n",
              "    </tr>\n",
              "    <tr>\n",
              "      <th>True</th>\n",
              "      <td>1354</td>\n",
              "    </tr>\n",
              "  </tbody>\n",
              "</table>\n",
              "</div><br><label><b>dtype:</b> int64</label>"
            ]
          },
          "metadata": {},
          "execution_count": 94
        }
      ]
    },
    {
      "cell_type": "code",
      "source": [
        "#realizando o desafio: crie uma nova coluna de Etnia - brancas, não branca e outras\n",
        "#criando um filtro e uma função para criar uma nova coluna"
      ],
      "metadata": {
        "id": "ZxZQ6PpaKV4n"
      },
      "execution_count": null,
      "outputs": []
    },
    {
      "cell_type": "code",
      "source": [
        "#visualizando as variaveis da coluna\n",
        "df['COR/RACA/ETNIA'].value_counts()"
      ],
      "metadata": {
        "colab": {
          "base_uri": "https://localhost:8080/",
          "height": 335
        },
        "id": "hg6oXlCgLik5",
        "outputId": "649eff04-9b5b-44e7-a2f2-2d78684d216f"
      },
      "execution_count": null,
      "outputs": [
        {
          "output_type": "execute_result",
          "data": {
            "text/plain": [
              "COR/RACA/ETNIA\n",
              "Branca                  2746\n",
              "Parda                   1054\n",
              "Preta                    291\n",
              "Amarela                  128\n",
              "Prefiro não informar      26\n",
              "Outra                     17\n",
              "Indígena                  11\n",
              "Name: count, dtype: int64"
            ],
            "text/html": [
              "<div>\n",
              "<style scoped>\n",
              "    .dataframe tbody tr th:only-of-type {\n",
              "        vertical-align: middle;\n",
              "    }\n",
              "\n",
              "    .dataframe tbody tr th {\n",
              "        vertical-align: top;\n",
              "    }\n",
              "\n",
              "    .dataframe thead th {\n",
              "        text-align: right;\n",
              "    }\n",
              "</style>\n",
              "<table border=\"1\" class=\"dataframe\">\n",
              "  <thead>\n",
              "    <tr style=\"text-align: right;\">\n",
              "      <th></th>\n",
              "      <th>count</th>\n",
              "    </tr>\n",
              "    <tr>\n",
              "      <th>COR/RACA/ETNIA</th>\n",
              "      <th></th>\n",
              "    </tr>\n",
              "  </thead>\n",
              "  <tbody>\n",
              "    <tr>\n",
              "      <th>Branca</th>\n",
              "      <td>2746</td>\n",
              "    </tr>\n",
              "    <tr>\n",
              "      <th>Parda</th>\n",
              "      <td>1054</td>\n",
              "    </tr>\n",
              "    <tr>\n",
              "      <th>Preta</th>\n",
              "      <td>291</td>\n",
              "    </tr>\n",
              "    <tr>\n",
              "      <th>Amarela</th>\n",
              "      <td>128</td>\n",
              "    </tr>\n",
              "    <tr>\n",
              "      <th>Prefiro não informar</th>\n",
              "      <td>26</td>\n",
              "    </tr>\n",
              "    <tr>\n",
              "      <th>Outra</th>\n",
              "      <td>17</td>\n",
              "    </tr>\n",
              "    <tr>\n",
              "      <th>Indígena</th>\n",
              "      <td>11</td>\n",
              "    </tr>\n",
              "  </tbody>\n",
              "</table>\n",
              "</div><br><label><b>dtype:</b> int64</label>"
            ]
          },
          "metadata": {},
          "execution_count": 96
        }
      ]
    },
    {
      "cell_type": "code",
      "source": [
        "#criando um filtro e uma função para uma nova coluna\n",
        "df['ETNIA_BRANCA']=df['COR/RACA/ETNIA'].str.contains('Branca', case=False)"
      ],
      "metadata": {
        "id": "MHytuCGQNA-I"
      },
      "execution_count": null,
      "outputs": []
    },
    {
      "cell_type": "code",
      "source": [
        "df['ETNIA_BRANCA'].value_counts()"
      ],
      "metadata": {
        "colab": {
          "base_uri": "https://localhost:8080/",
          "height": 178
        },
        "id": "pHK9KQXiK3aF",
        "outputId": "22f335c3-48c6-4e6c-9bec-b593a6baf90e"
      },
      "execution_count": null,
      "outputs": [
        {
          "output_type": "execute_result",
          "data": {
            "text/plain": [
              "ETNIA_BRANCA\n",
              "True     2746\n",
              "False    1527\n",
              "Name: count, dtype: int64"
            ],
            "text/html": [
              "<div>\n",
              "<style scoped>\n",
              "    .dataframe tbody tr th:only-of-type {\n",
              "        vertical-align: middle;\n",
              "    }\n",
              "\n",
              "    .dataframe tbody tr th {\n",
              "        vertical-align: top;\n",
              "    }\n",
              "\n",
              "    .dataframe thead th {\n",
              "        text-align: right;\n",
              "    }\n",
              "</style>\n",
              "<table border=\"1\" class=\"dataframe\">\n",
              "  <thead>\n",
              "    <tr style=\"text-align: right;\">\n",
              "      <th></th>\n",
              "      <th>count</th>\n",
              "    </tr>\n",
              "    <tr>\n",
              "      <th>ETNIA_BRANCA</th>\n",
              "      <th></th>\n",
              "    </tr>\n",
              "  </thead>\n",
              "  <tbody>\n",
              "    <tr>\n",
              "      <th>True</th>\n",
              "      <td>2746</td>\n",
              "    </tr>\n",
              "    <tr>\n",
              "      <th>False</th>\n",
              "      <td>1527</td>\n",
              "    </tr>\n",
              "  </tbody>\n",
              "</table>\n",
              "</div><br><label><b>dtype:</b> int64</label>"
            ]
          },
          "metadata": {},
          "execution_count": 98
        }
      ]
    },
    {
      "cell_type": "code",
      "source": [
        "df['ETNIA_NAO_BRANCA'] = df['COR/RACA/ETNIA'].str.contains('Parda|Preta|Amarela|Prefiro não informar|Indígena', case=False)"
      ],
      "metadata": {
        "id": "Gl4_rtSrK4B5"
      },
      "execution_count": null,
      "outputs": []
    },
    {
      "cell_type": "code",
      "source": [
        "df['ETNIA_NAO_BRANCA'].value_counts()"
      ],
      "metadata": {
        "colab": {
          "base_uri": "https://localhost:8080/",
          "height": 178
        },
        "id": "LyeSDxrgNpwm",
        "outputId": "1a31e307-9629-4cb4-fd24-0353b12c3792"
      },
      "execution_count": null,
      "outputs": [
        {
          "output_type": "execute_result",
          "data": {
            "text/plain": [
              "ETNIA_NAO_BRANCA\n",
              "False    2763\n",
              "True     1510\n",
              "Name: count, dtype: int64"
            ],
            "text/html": [
              "<div>\n",
              "<style scoped>\n",
              "    .dataframe tbody tr th:only-of-type {\n",
              "        vertical-align: middle;\n",
              "    }\n",
              "\n",
              "    .dataframe tbody tr th {\n",
              "        vertical-align: top;\n",
              "    }\n",
              "\n",
              "    .dataframe thead th {\n",
              "        text-align: right;\n",
              "    }\n",
              "</style>\n",
              "<table border=\"1\" class=\"dataframe\">\n",
              "  <thead>\n",
              "    <tr style=\"text-align: right;\">\n",
              "      <th></th>\n",
              "      <th>count</th>\n",
              "    </tr>\n",
              "    <tr>\n",
              "      <th>ETNIA_NAO_BRANCA</th>\n",
              "      <th></th>\n",
              "    </tr>\n",
              "  </thead>\n",
              "  <tbody>\n",
              "    <tr>\n",
              "      <th>False</th>\n",
              "      <td>2763</td>\n",
              "    </tr>\n",
              "    <tr>\n",
              "      <th>True</th>\n",
              "      <td>1510</td>\n",
              "    </tr>\n",
              "  </tbody>\n",
              "</table>\n",
              "</div><br><label><b>dtype:</b> int64</label>"
            ]
          },
          "metadata": {},
          "execution_count": 100
        }
      ]
    },
    {
      "cell_type": "code",
      "source": [
        "df['ETNIA_OUTROS']=df['COR/RACA/ETNIA'].str.contains('Outra', case=False)"
      ],
      "metadata": {
        "id": "TjH3zGOZLFxl"
      },
      "execution_count": null,
      "outputs": []
    },
    {
      "cell_type": "code",
      "source": [
        "df['ETNIA_OUTROS'].value_counts()"
      ],
      "metadata": {
        "colab": {
          "base_uri": "https://localhost:8080/",
          "height": 178
        },
        "id": "EbyTtXwlNvO7",
        "outputId": "050f89b2-8319-45f8-e1c0-26698a7e0794"
      },
      "execution_count": null,
      "outputs": [
        {
          "output_type": "execute_result",
          "data": {
            "text/plain": [
              "ETNIA_OUTROS\n",
              "False    4256\n",
              "True       17\n",
              "Name: count, dtype: int64"
            ],
            "text/html": [
              "<div>\n",
              "<style scoped>\n",
              "    .dataframe tbody tr th:only-of-type {\n",
              "        vertical-align: middle;\n",
              "    }\n",
              "\n",
              "    .dataframe tbody tr th {\n",
              "        vertical-align: top;\n",
              "    }\n",
              "\n",
              "    .dataframe thead th {\n",
              "        text-align: right;\n",
              "    }\n",
              "</style>\n",
              "<table border=\"1\" class=\"dataframe\">\n",
              "  <thead>\n",
              "    <tr style=\"text-align: right;\">\n",
              "      <th></th>\n",
              "      <th>count</th>\n",
              "    </tr>\n",
              "    <tr>\n",
              "      <th>ETNIA_OUTROS</th>\n",
              "      <th></th>\n",
              "    </tr>\n",
              "  </thead>\n",
              "  <tbody>\n",
              "    <tr>\n",
              "      <th>False</th>\n",
              "      <td>4256</td>\n",
              "    </tr>\n",
              "    <tr>\n",
              "      <th>True</th>\n",
              "      <td>17</td>\n",
              "    </tr>\n",
              "  </tbody>\n",
              "</table>\n",
              "</div><br><label><b>dtype:</b> int64</label>"
            ]
          },
          "metadata": {},
          "execution_count": 102
        }
      ]
    },
    {
      "cell_type": "markdown",
      "source": [
        "**Correlação**"
      ],
      "metadata": {
        "id": "oY1cORQ0PkNz"
      }
    },
    {
      "cell_type": "code",
      "source": [
        "#de forma resumida a correlação de pearson, demonstra que quando o valor for proximo a 1 á forte correlaão positiva, quanto duas variaveis crescem juntas\n",
        "#já um valor proximo a -1 representa uma correlação negativa, ou seja, quando uma sob a outra variavels desce, e a ausência de correlação quando o valor\n",
        "#é proximo a 0. para fazermos esse calculo na nossa base vamos utilizar a função corr"
      ],
      "metadata": {
        "id": "8PJ6uObiPm15"
      },
      "execution_count": null,
      "outputs": []
    },
    {
      "cell_type": "code",
      "source": [
        "correl_continua=df['IDADE'].corr(df['SALARIO'])\n",
        "correl_continua"
      ],
      "metadata": {
        "colab": {
          "base_uri": "https://localhost:8080/"
        },
        "id": "uQccVovyWXcI",
        "outputId": "578e7c05-9e05-42f3-8fb9-40fee90b7314"
      },
      "execution_count": null,
      "outputs": [
        {
          "output_type": "execute_result",
          "data": {
            "text/plain": [
              "0.2902441968622099"
            ]
          },
          "metadata": {},
          "execution_count": 104
        }
      ]
    },
    {
      "cell_type": "code",
      "source": [
        "#calculando a correlação entre variaveis discretas(categoricas), para isso iremos utilizar o coeficiente de cramer que é basicamente a normalização de 0 a 1\n",
        "#das variaveis, onde 0 indica nenhuma associação e 1 indica associação, para realizar este calculo vamos criar uma função\n",
        "#def cramer_coef(coluna1, coluna2):"
      ],
      "metadata": {
        "id": "QYzChgz7WzLN"
      },
      "execution_count": null,
      "outputs": []
    },
    {
      "cell_type": "code",
      "source": [
        "#o primeiro passo para criar a função, é criar uma tabela cruzada que mostrara a frequencia com que uma determinada variavel se cruza com outra, faremos isso\n",
        "#com a função crosstab, que irá criar uma tabela estruturada com cabeçalho e etc.\n",
        "#tabela_cruzada=pd.crosstab(coluna1, coluna2)"
      ],
      "metadata": {
        "id": "NEtzii57Zlpk"
      },
      "execution_count": null,
      "outputs": []
    },
    {
      "cell_type": "code",
      "source": [
        "#porém a forma correta para utilizarmos ela na função seria em formato de array, que é uma tabela que consiste apenas em uma matriz, ou seja  que possui apenas\n",
        "#numeros. para isso usaremos a seguinte função\n",
        "#np.array(tabela_cruzada)"
      ],
      "metadata": {
        "id": "ftKGruWJacEx"
      },
      "execution_count": null,
      "outputs": []
    },
    {
      "cell_type": "code",
      "source": [
        "#agra usaremos a biblioteca scipy.stats, e a função chi2_contingency, que nada mais é que o calculo do qui2°. essa função irá comparar a distribuição observada\n",
        "#com as observações esperadas na tabela cruzada, considerando que as duas variaveis sejam independentes uma da outra. quanto maior a diferença entre a observação\n",
        "#observada e esperada maior será o valor do qui2°, o que indica uma associação mais forte entre as variáveis.\n",
        "#a função do qui2° é capaz de retornar diversos valores, porém estamos interessados apenas no 1°, sendo assim utilizarems o 0 para demonstrar isso\n",
        "#chi2=chi2_contigency(tabela_cruzada)[0]"
      ],
      "metadata": {
        "id": "hNbS1RoYbbrf"
      },
      "execution_count": null,
      "outputs": []
    },
    {
      "cell_type": "code",
      "source": [
        "#agora vamos calcular a soma de cada categoria da coluna nivel de ensino\n",
        "#soma=np.sum(tabela_cruzada)"
      ],
      "metadata": {
        "id": "SlVuu0PYdvg5"
      },
      "execution_count": null,
      "outputs": []
    },
    {
      "cell_type": "code",
      "source": [
        "#o próximo passo sera localizar o valor minimo da tabela -1, que é um calculo padrão\n",
        "#mini=min(tab_cruzada.shape)-1"
      ],
      "metadata": {
        "id": "X215bnCLeIdu"
      },
      "execution_count": null,
      "outputs": []
    },
    {
      "cell_type": "code",
      "source": [
        "#em seguida iremos calcular o coeficiente de cramer, que é a raiz quadrada do qui2 divida pela multiplicação da soma do valor minimo\n",
        "#cramer=np.sqrt(chi2/(soma*mini))"
      ],
      "metadata": {
        "id": "eCVNoGA5edZi"
      },
      "execution_count": null,
      "outputs": []
    },
    {
      "cell_type": "code",
      "source": [
        "#finalizamos, agora vamos juntas todas as linhas de código\n",
        "def cramer_coef(coluna1, coluna2):\n",
        "  tabela_cruzada=pd.crosstab(coluna1, coluna2)\n",
        "  tabela_cruzada=np.array(tabela_cruzada)\n",
        "  chi2=chi2_contingency(tabela_cruzada)[0]\n",
        "  soma=np.sum(tabela_cruzada)\n",
        "  mini=min(tabela_cruzada.shape)-1\n",
        "  cramer=np.sqrt(chi2/(soma*mini))\n",
        "  return cramer"
      ],
      "metadata": {
        "id": "PKCcJmY9fIV7"
      },
      "execution_count": null,
      "outputs": []
    },
    {
      "cell_type": "code",
      "source": [
        "cramer_coef(df['COR/RACA/ETNIA'], df['NIVEL DE ENSINO'])"
      ],
      "metadata": {
        "colab": {
          "base_uri": "https://localhost:8080/"
        },
        "id": "5DOhIsfJfUL1",
        "outputId": "f4c553f3-2828-43d9-fc9c-0ef20747b74d"
      },
      "execution_count": null,
      "outputs": [
        {
          "output_type": "execute_result",
          "data": {
            "text/plain": [
              "0.04499106580480143"
            ]
          },
          "metadata": {},
          "execution_count": 118
        }
      ]
    },
    {
      "cell_type": "code",
      "source": [
        "#com o resultado podemos chegar a conclusão que cor e nivel de escolaridade não tem relação. vamos relembrar o conceito:'normalização\n",
        "#de 0 a 1, onde 0 indica nenhuma associação e 1 indica associação'"
      ],
      "metadata": {
        "id": "N3jWmF9VhbIk"
      },
      "execution_count": null,
      "outputs": []
    },
    {
      "cell_type": "code",
      "source": [
        "#Faça você mesmo: Faça a correlação entre nível de ensino e gênero"
      ],
      "metadata": {
        "id": "84H1IDIjiJvq"
      },
      "execution_count": null,
      "outputs": []
    },
    {
      "cell_type": "code",
      "source": [
        "def cramer_coef(coluna1, coluna2):\n",
        "  tabela_cruzada=pd.crosstab(coluna1, coluna2)\n",
        "  tabela_cruzada=np.array(tabela_cruzada)\n",
        "  chi2=chi2_contingency(tabela_cruzada)[0]\n",
        "  soma=np.sum(tabela_cruzada)\n",
        "  mini=min(tabela_cruzada.shape)-1\n",
        "  cramer=np.sqrt(chi2/(soma*mini))\n",
        "  return cramer"
      ],
      "metadata": {
        "id": "ShRMhRl-jJwi"
      },
      "execution_count": null,
      "outputs": []
    },
    {
      "cell_type": "code",
      "source": [
        "cramer_coef(df['GENERO'], df['NIVEL DE ENSINO'])"
      ],
      "metadata": {
        "colab": {
          "base_uri": "https://localhost:8080/"
        },
        "id": "1eYKIxi3jPOi",
        "outputId": "0bab7d83-ddb5-4cc6-a963-ccc49de27d21"
      },
      "execution_count": null,
      "outputs": [
        {
          "output_type": "execute_result",
          "data": {
            "text/plain": [
              "0.076119232802818"
            ]
          },
          "metadata": {},
          "execution_count": 121
        }
      ]
    },
    {
      "cell_type": "code",
      "source": [
        "#com o resultado podemos chegar a conclusão que genero e nivel de escolaridade não tem relação. vamos relembrar o conceito:'normalização\n",
        "#de 0 a 1, onde 0 indica nenhuma associação e 1 indica associação'"
      ],
      "metadata": {
        "id": "jVVyB_yhllSs"
      },
      "execution_count": null,
      "outputs": []
    },
    {
      "cell_type": "code",
      "source": [
        "#salvando o arquivo em csv\n",
        "#usa-se index=False, para que ao salvar não se crie mais uma coluna com os numeros de indez da tabela\n",
        "df.to_csv('/content/drive/MyDrive/Colab Notebooks/PROGRAMARIA/analise_dados.csv', index=False)"
      ],
      "metadata": {
        "id": "99RcEb0nlqcL"
      },
      "execution_count": null,
      "outputs": []
    }
  ]
}